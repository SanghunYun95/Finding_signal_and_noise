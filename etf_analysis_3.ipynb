{
 "cells": [
  {
   "cell_type": "code",
   "execution_count": 1,
   "id": "f5327d6b",
   "metadata": {
    "ExecuteTime": {
     "end_time": "2021-09-08T13:11:05.691569Z",
     "start_time": "2021-09-08T13:11:01.520849Z"
    }
   },
   "outputs": [
    {
     "data": {
      "text/html": [
       "<div>\n",
       "<style scoped>\n",
       "    .dataframe tbody tr th:only-of-type {\n",
       "        vertical-align: middle;\n",
       "    }\n",
       "\n",
       "    .dataframe tbody tr th {\n",
       "        vertical-align: top;\n",
       "    }\n",
       "\n",
       "    .dataframe thead th {\n",
       "        text-align: right;\n",
       "    }\n",
       "</style>\n",
       "<table border=\"1\" class=\"dataframe\">\n",
       "  <thead>\n",
       "    <tr style=\"text-align: right;\">\n",
       "      <th></th>\n",
       "      <th>종목코드</th>\n",
       "      <th>탭코드</th>\n",
       "      <th>종목명</th>\n",
       "      <th>현재가</th>\n",
       "      <th>등락구분</th>\n",
       "      <th>전일비</th>\n",
       "      <th>등락률</th>\n",
       "      <th>순자산가치(NAV)</th>\n",
       "      <th>3개월수익률</th>\n",
       "      <th>거래량</th>\n",
       "      <th>거래대금(백만)</th>\n",
       "      <th>시가총액(억)</th>\n",
       "      <th>유형</th>\n",
       "      <th>브랜드</th>\n",
       "      <th>인버스</th>\n",
       "      <th>레버리지</th>\n",
       "      <th>환헤지H</th>\n",
       "    </tr>\n",
       "  </thead>\n",
       "  <tbody>\n",
       "    <tr>\n",
       "      <th>0</th>\n",
       "      <td>069500</td>\n",
       "      <td>1</td>\n",
       "      <td>KODEX 200</td>\n",
       "      <td>41930</td>\n",
       "      <td>2</td>\n",
       "      <td>270</td>\n",
       "      <td>0.65</td>\n",
       "      <td>41979.0</td>\n",
       "      <td>-3.1976</td>\n",
       "      <td>2807005</td>\n",
       "      <td>117551</td>\n",
       "      <td>54593</td>\n",
       "      <td>국내 시장지수</td>\n",
       "      <td>KODEX</td>\n",
       "      <td>False</td>\n",
       "      <td>False</td>\n",
       "      <td>False</td>\n",
       "    </tr>\n",
       "    <tr>\n",
       "      <th>1</th>\n",
       "      <td>102110</td>\n",
       "      <td>1</td>\n",
       "      <td>TIGER 200</td>\n",
       "      <td>41960</td>\n",
       "      <td>2</td>\n",
       "      <td>270</td>\n",
       "      <td>0.65</td>\n",
       "      <td>42009.0</td>\n",
       "      <td>-3.1484</td>\n",
       "      <td>992124</td>\n",
       "      <td>41597</td>\n",
       "      <td>23225</td>\n",
       "      <td>국내 시장지수</td>\n",
       "      <td>TIGER</td>\n",
       "      <td>False</td>\n",
       "      <td>False</td>\n",
       "      <td>False</td>\n",
       "    </tr>\n",
       "    <tr>\n",
       "      <th>2</th>\n",
       "      <td>153130</td>\n",
       "      <td>6</td>\n",
       "      <td>KODEX 단기채권</td>\n",
       "      <td>102885</td>\n",
       "      <td>2</td>\n",
       "      <td>10</td>\n",
       "      <td>0.01</td>\n",
       "      <td>102883.0</td>\n",
       "      <td>0.0291</td>\n",
       "      <td>7598</td>\n",
       "      <td>781</td>\n",
       "      <td>20968</td>\n",
       "      <td>채권</td>\n",
       "      <td>KODEX</td>\n",
       "      <td>False</td>\n",
       "      <td>False</td>\n",
       "      <td>False</td>\n",
       "    </tr>\n",
       "    <tr>\n",
       "      <th>3</th>\n",
       "      <td>252670</td>\n",
       "      <td>3</td>\n",
       "      <td>KODEX 200선물인버스2X</td>\n",
       "      <td>2000</td>\n",
       "      <td>5</td>\n",
       "      <td>-25</td>\n",
       "      <td>-1.23</td>\n",
       "      <td>2004.0</td>\n",
       "      <td>5.2631</td>\n",
       "      <td>113442718</td>\n",
       "      <td>227795</td>\n",
       "      <td>20042</td>\n",
       "      <td>국내 파생</td>\n",
       "      <td>KODEX</td>\n",
       "      <td>True</td>\n",
       "      <td>False</td>\n",
       "      <td>False</td>\n",
       "    </tr>\n",
       "    <tr>\n",
       "      <th>4</th>\n",
       "      <td>371460</td>\n",
       "      <td>4</td>\n",
       "      <td>TIGER 차이나전기차SOLACTIVE</td>\n",
       "      <td>16480</td>\n",
       "      <td>5</td>\n",
       "      <td>-670</td>\n",
       "      <td>-3.91</td>\n",
       "      <td>NaN</td>\n",
       "      <td>26.3319</td>\n",
       "      <td>12395343</td>\n",
       "      <td>207101</td>\n",
       "      <td>18702</td>\n",
       "      <td>해외 주식</td>\n",
       "      <td>TIGER</td>\n",
       "      <td>False</td>\n",
       "      <td>False</td>\n",
       "      <td>False</td>\n",
       "    </tr>\n",
       "  </tbody>\n",
       "</table>\n",
       "</div>"
      ],
      "text/plain": [
       "     종목코드  탭코드                    종목명     현재가  등락구분  전일비   등락률  순자산가치(NAV)  \\\n",
       "0  069500    1              KODEX 200   41930     2  270  0.65     41979.0   \n",
       "1  102110    1              TIGER 200   41960     2  270  0.65     42009.0   \n",
       "2  153130    6             KODEX 단기채권  102885     2   10  0.01    102883.0   \n",
       "3  252670    3       KODEX 200선물인버스2X    2000     5  -25 -1.23      2004.0   \n",
       "4  371460    4  TIGER 차이나전기차SOLACTIVE   16480     5 -670 -3.91         NaN   \n",
       "\n",
       "    3개월수익률        거래량  거래대금(백만)  시가총액(억)       유형    브랜드    인버스   레버리지   환헤지H  \n",
       "0  -3.1976    2807005    117551    54593  국내 시장지수  KODEX  False  False  False  \n",
       "1  -3.1484     992124     41597    23225  국내 시장지수  TIGER  False  False  False  \n",
       "2   0.0291       7598       781    20968       채권  KODEX  False  False  False  \n",
       "3   5.2631  113442718    227795    20042    국내 파생  KODEX   True  False  False  \n",
       "4  26.3319   12395343    207101    18702    해외 주식  TIGER  False  False  False  "
      ]
     },
     "execution_count": 1,
     "metadata": {},
     "output_type": "execute_result"
    }
   ],
   "source": [
    "import pandas as pd\n",
    "import numpy as np\n",
    "import seaborn as sns\n",
    "import matplotlib.pyplot as plt\n",
    "\n",
    "\n",
    "def get_font_family():\n",
    "    \"\"\"\n",
    "    시스템 환경에 따른 기본 폰트명을 반환하는함수\n",
    "    \"\"\"\n",
    "    import platform\n",
    "    system_name = platform.system()\n",
    "    # colab 사용자는 system_name이 ' Linux'로 확인\n",
    "    \n",
    "    if system_name == 'Darwin':\n",
    "        font_family = 'AppleGothic'\n",
    "    elif system_name == 'Windows':\n",
    "        font_family = 'Malgun Gothic'\n",
    "    else:\n",
    "        # Linux\n",
    "        # colab에서는 runtime을 <꼭> 재시작 해야 한다.\n",
    "        # 런타임을 재시작 하지 않고 폰트 설치를 하면 기본 설정 폰트가 로드되어 한글이 깨짐\n",
    "        !apt-get update -qq\n",
    "        !apt-get install fonts-nanum -qq > /dev/null\n",
    "        \n",
    "        import matplotlib.font_manager as fm\n",
    "        \n",
    "        fontpath = '/usr/share/fonts/truetype/nanum/NanumBarunGothic.ttf'\n",
    "        font = fm.FontProperties(fname=fontpath, size=9)\n",
    "        fm._rebuild()\n",
    "        font_family = 'NanumBarunGothic'\n",
    "    return font_family\n",
    "\n",
    "font_family = get_font_family()\n",
    "\n",
    "# 그래프 스타일 설정\n",
    "# 그래프 스타일을 밑에서 설정하면 폰트가 깨진다\n",
    "plt.style.use('dark_background')\n",
    "# 폰트설정\n",
    "plt.rc('font', family=font_family)\n",
    "# 마이너스 폰트 설정\n",
    "plt.rc('axes', unicode_minus=False)\n",
    "\n",
    "\n",
    "df = pd.read_csv('eft_2021-09-04.csv', dtype={'종목코드': object})\n",
    "df.head()"
   ]
  },
  {
   "cell_type": "code",
   "execution_count": 4,
   "id": "e41c31b2",
   "metadata": {
    "ExecuteTime": {
     "end_time": "2021-09-08T13:25:28.977318Z",
     "start_time": "2021-09-08T13:25:28.569771Z"
    }
   },
   "outputs": [
    {
     "data": {
      "text/plain": [
       "Text(0.5, 1.0, 'ETF유형별 평균 거래대금(백만)')"
      ]
     },
     "execution_count": 4,
     "metadata": {},
     "output_type": "execute_result"
    },
    {
     "data": {
      "image/png": "[encoded data removed]",
      "text/plain": [
       "<Figure size 720x288 with 1 Axes>"
      ]
     },
     "metadata": {},
     "output_type": "display_data"
    }
   ],
   "source": [
    "plt.figure(figsize=(10,4))\n",
    "sns.barplot(data=df, x='유형', y='거래대금(백만)', ci=None).set_title('ETF유형별 평균 거래대금(백만)')"
   ]
  },
  {
   "cell_type": "code",
   "execution_count": 2,
   "id": "993da315",
   "metadata": {
    "ExecuteTime": {
     "end_time": "2021-09-08T13:22:24.589383Z",
     "start_time": "2021-09-08T13:22:24.573427Z"
    }
   },
   "outputs": [
    {
     "data": {
      "text/plain": [
       "유형\n",
       "국내 파생       29492.290323\n",
       "채권           7962.550000\n",
       "국내 시장지수      4916.030769\n",
       "해외 주식        3054.469027\n",
       "국내 업종/테마      820.132979\n",
       "원자재           628.500000\n",
       "기타            305.806452\n",
       "Name: 거래대금(백만), dtype: float64"
      ]
     },
     "execution_count": 2,
     "metadata": {},
     "output_type": "execute_result"
    }
   ],
   "source": [
    "df.groupby(['유형'])['거래대금(백만)'].mean().sort_values(ascending=False)"
   ]
  },
  {
   "cell_type": "code",
   "execution_count": 3,
   "id": "f1bf18fd",
   "metadata": {
    "ExecuteTime": {
     "end_time": "2021-09-08T13:23:31.444277Z",
     "start_time": "2021-09-08T13:23:31.414417Z"
    }
   },
   "outputs": [
    {
     "data": {
      "text/html": [
       "<div>\n",
       "<style scoped>\n",
       "    .dataframe tbody tr th:only-of-type {\n",
       "        vertical-align: middle;\n",
       "    }\n",
       "\n",
       "    .dataframe tbody tr th {\n",
       "        vertical-align: top;\n",
       "    }\n",
       "\n",
       "    .dataframe thead th {\n",
       "        text-align: right;\n",
       "    }\n",
       "</style>\n",
       "<table border=\"1\" class=\"dataframe\">\n",
       "  <thead>\n",
       "    <tr style=\"text-align: right;\">\n",
       "      <th></th>\n",
       "      <th>거래대금(백만)</th>\n",
       "    </tr>\n",
       "    <tr>\n",
       "      <th>유형</th>\n",
       "      <th></th>\n",
       "    </tr>\n",
       "  </thead>\n",
       "  <tbody>\n",
       "    <tr>\n",
       "      <th>국내 파생</th>\n",
       "      <td>29492.290323</td>\n",
       "    </tr>\n",
       "    <tr>\n",
       "      <th>채권</th>\n",
       "      <td>7962.550000</td>\n",
       "    </tr>\n",
       "    <tr>\n",
       "      <th>국내 시장지수</th>\n",
       "      <td>4916.030769</td>\n",
       "    </tr>\n",
       "    <tr>\n",
       "      <th>해외 주식</th>\n",
       "      <td>3054.469027</td>\n",
       "    </tr>\n",
       "    <tr>\n",
       "      <th>국내 업종/테마</th>\n",
       "      <td>820.132979</td>\n",
       "    </tr>\n",
       "    <tr>\n",
       "      <th>원자재</th>\n",
       "      <td>628.500000</td>\n",
       "    </tr>\n",
       "    <tr>\n",
       "      <th>기타</th>\n",
       "      <td>305.806452</td>\n",
       "    </tr>\n",
       "  </tbody>\n",
       "</table>\n",
       "</div>"
      ],
      "text/plain": [
       "              거래대금(백만)\n",
       "유형                    \n",
       "국내 파생     29492.290323\n",
       "채권         7962.550000\n",
       "국내 시장지수    4916.030769\n",
       "해외 주식      3054.469027\n",
       "국내 업종/테마    820.132979\n",
       "원자재         628.500000\n",
       "기타          305.806452"
      ]
     },
     "execution_count": 3,
     "metadata": {},
     "output_type": "execute_result"
    }
   ],
   "source": [
    "pd.pivot_table(data=df, index='유형', values='거래대금(백만)').sort_values(by='거래대금(백만)',\n",
    "                                                                   ascending=False)"
   ]
  }
 ],
 "metadata": {
  "kernelspec": {
   "display_name": "stock",
   "language": "python",
   "name": "stock"
  },
  "language_info": {
   "codemirror_mode": {
    "name": "ipython",
    "version": 3
   },
   "file_extension": ".py",
   "mimetype": "text/x-python",
   "name": "python",
   "nbconvert_exporter": "python",
   "pygments_lexer": "ipython3",
   "version": "3.9.6"
  },
  "toc": {
   "base_numbering": 1,
   "nav_menu": {},
   "number_sections": true,
   "sideBar": true,
   "skip_h1_title": false,
   "title_cell": "Table of Contents",
   "title_sidebar": "Contents",
   "toc_cell": false,
   "toc_position": {},
   "toc_section_display": true,
   "toc_window_display": false
  }
 },
 "nbformat": 4,
 "nbformat_minor": 5
}
