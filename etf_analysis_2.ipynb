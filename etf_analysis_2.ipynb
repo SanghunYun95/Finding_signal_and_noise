{
 "cells": [
  {
   "cell_type": "code",
   "execution_count": 1,
   "id": "4ab5ef23",
   "metadata": {
    "ExecuteTime": {
     "end_time": "2021-09-07T12:29:24.857502Z",
     "start_time": "2021-09-07T12:29:21.722240Z"
    }
   },
   "outputs": [
    {
     "data": {
      "text/html": [
       "<div>\n",
       "<style scoped>\n",
       "    .dataframe tbody tr th:only-of-type {\n",
       "        vertical-align: middle;\n",
       "    }\n",
       "\n",
       "    .dataframe tbody tr th {\n",
       "        vertical-align: top;\n",
       "    }\n",
       "\n",
       "    .dataframe thead th {\n",
       "        text-align: right;\n",
       "    }\n",
       "</style>\n",
       "<table border=\"1\" class=\"dataframe\">\n",
       "  <thead>\n",
       "    <tr style=\"text-align: right;\">\n",
       "      <th></th>\n",
       "      <th>종목코드</th>\n",
       "      <th>탭코드</th>\n",
       "      <th>종목명</th>\n",
       "      <th>현재가</th>\n",
       "      <th>등락구분</th>\n",
       "      <th>전일비</th>\n",
       "      <th>등락률</th>\n",
       "      <th>순자산가치(NAV)</th>\n",
       "      <th>3개월수익률</th>\n",
       "      <th>거래량</th>\n",
       "      <th>거래대금(백만)</th>\n",
       "      <th>시가총액(억)</th>\n",
       "      <th>유형</th>\n",
       "      <th>브랜드</th>\n",
       "      <th>인버스</th>\n",
       "      <th>레버리지</th>\n",
       "      <th>환헤지H</th>\n",
       "    </tr>\n",
       "  </thead>\n",
       "  <tbody>\n",
       "    <tr>\n",
       "      <th>0</th>\n",
       "      <td>069500</td>\n",
       "      <td>1</td>\n",
       "      <td>KODEX 200</td>\n",
       "      <td>41930</td>\n",
       "      <td>2</td>\n",
       "      <td>270</td>\n",
       "      <td>0.65</td>\n",
       "      <td>41979.0</td>\n",
       "      <td>-3.1976</td>\n",
       "      <td>2807005</td>\n",
       "      <td>117551</td>\n",
       "      <td>54593</td>\n",
       "      <td>국내 시장지수</td>\n",
       "      <td>KODEX</td>\n",
       "      <td>False</td>\n",
       "      <td>False</td>\n",
       "      <td>False</td>\n",
       "    </tr>\n",
       "    <tr>\n",
       "      <th>1</th>\n",
       "      <td>102110</td>\n",
       "      <td>1</td>\n",
       "      <td>TIGER 200</td>\n",
       "      <td>41960</td>\n",
       "      <td>2</td>\n",
       "      <td>270</td>\n",
       "      <td>0.65</td>\n",
       "      <td>42009.0</td>\n",
       "      <td>-3.1484</td>\n",
       "      <td>992124</td>\n",
       "      <td>41597</td>\n",
       "      <td>23225</td>\n",
       "      <td>국내 시장지수</td>\n",
       "      <td>TIGER</td>\n",
       "      <td>False</td>\n",
       "      <td>False</td>\n",
       "      <td>False</td>\n",
       "    </tr>\n",
       "    <tr>\n",
       "      <th>2</th>\n",
       "      <td>153130</td>\n",
       "      <td>6</td>\n",
       "      <td>KODEX 단기채권</td>\n",
       "      <td>102885</td>\n",
       "      <td>2</td>\n",
       "      <td>10</td>\n",
       "      <td>0.01</td>\n",
       "      <td>102883.0</td>\n",
       "      <td>0.0291</td>\n",
       "      <td>7598</td>\n",
       "      <td>781</td>\n",
       "      <td>20968</td>\n",
       "      <td>채권</td>\n",
       "      <td>KODEX</td>\n",
       "      <td>False</td>\n",
       "      <td>False</td>\n",
       "      <td>False</td>\n",
       "    </tr>\n",
       "    <tr>\n",
       "      <th>3</th>\n",
       "      <td>252670</td>\n",
       "      <td>3</td>\n",
       "      <td>KODEX 200선물인버스2X</td>\n",
       "      <td>2000</td>\n",
       "      <td>5</td>\n",
       "      <td>-25</td>\n",
       "      <td>-1.23</td>\n",
       "      <td>2004.0</td>\n",
       "      <td>5.2631</td>\n",
       "      <td>113442718</td>\n",
       "      <td>227795</td>\n",
       "      <td>20042</td>\n",
       "      <td>국내 파생</td>\n",
       "      <td>KODEX</td>\n",
       "      <td>True</td>\n",
       "      <td>False</td>\n",
       "      <td>False</td>\n",
       "    </tr>\n",
       "    <tr>\n",
       "      <th>4</th>\n",
       "      <td>371460</td>\n",
       "      <td>4</td>\n",
       "      <td>TIGER 차이나전기차SOLACTIVE</td>\n",
       "      <td>16480</td>\n",
       "      <td>5</td>\n",
       "      <td>-670</td>\n",
       "      <td>-3.91</td>\n",
       "      <td>NaN</td>\n",
       "      <td>26.3319</td>\n",
       "      <td>12395343</td>\n",
       "      <td>207101</td>\n",
       "      <td>18702</td>\n",
       "      <td>해외 주식</td>\n",
       "      <td>TIGER</td>\n",
       "      <td>False</td>\n",
       "      <td>False</td>\n",
       "      <td>False</td>\n",
       "    </tr>\n",
       "  </tbody>\n",
       "</table>\n",
       "</div>"
      ],
      "text/plain": [
       "     종목코드  탭코드                    종목명     현재가  등락구분  전일비   등락률  순자산가치(NAV)  \\\n",
       "0  069500    1              KODEX 200   41930     2  270  0.65     41979.0   \n",
       "1  102110    1              TIGER 200   41960     2  270  0.65     42009.0   \n",
       "2  153130    6             KODEX 단기채권  102885     2   10  0.01    102883.0   \n",
       "3  252670    3       KODEX 200선물인버스2X    2000     5  -25 -1.23      2004.0   \n",
       "4  371460    4  TIGER 차이나전기차SOLACTIVE   16480     5 -670 -3.91         NaN   \n",
       "\n",
       "    3개월수익률        거래량  거래대금(백만)  시가총액(억)       유형    브랜드    인버스   레버리지   환헤지H  \n",
       "0  -3.1976    2807005    117551    54593  국내 시장지수  KODEX  False  False  False  \n",
       "1  -3.1484     992124     41597    23225  국내 시장지수  TIGER  False  False  False  \n",
       "2   0.0291       7598       781    20968       채권  KODEX  False  False  False  \n",
       "3   5.2631  113442718    227795    20042    국내 파생  KODEX   True  False  False  \n",
       "4  26.3319   12395343    207101    18702    해외 주식  TIGER  False  False  False  "
      ]
     },
     "execution_count": 1,
     "metadata": {},
     "output_type": "execute_result"
    }
   ],
   "source": [
    "import pandas as pd\n",
    "import numpy as np\n",
    "import seaborn as sns\n",
    "import matplotlib.pyplot as plt\n",
    "\n",
    "\n",
    "def get_font_family():\n",
    "    \"\"\"\n",
    "    시스템 환경에 따른 기본 폰트명을 반환하는함수\n",
    "    \"\"\"\n",
    "    import platform\n",
    "    system_name = platform.system()\n",
    "    # colab 사용자는 system_name이 ' Linux'로 확인\n",
    "    \n",
    "    if system_name == 'Darwin':\n",
    "        font_family = 'AppleGothic'\n",
    "    elif system_name == 'Windows':\n",
    "        font_family = 'Malgun Gothic'\n",
    "    else:\n",
    "        # Linux\n",
    "        # colab에서는 runtime을 <꼭> 재시작 해야 한다.\n",
    "        # 런타임을 재시작 하지 않고 폰트 설치를 하면 기본 설정 폰트가 로드되어 한글이 깨짐\n",
    "        !apt-get update -qq\n",
    "        !apt-get install fonts-nanum -qq > /dev/null\n",
    "        \n",
    "        import matplotlib.font_manager as fm\n",
    "        \n",
    "        fontpath = '/usr/share/fonts/truetype/nanum/NanumBarunGothic.ttf'\n",
    "        font = fm.FontProperties(fname=fontpath, size=9)\n",
    "        fm._rebuild()\n",
    "        font_family = 'NanumBarunGothic'\n",
    "    return font_family\n",
    "\n",
    "font_family = get_font_family()\n",
    "\n",
    "# 그래프 스타일 설정\n",
    "# 그래프 스타일을 밑에서 설정하면 폰트가 깨진다\n",
    "plt.style.use('dark_background')\n",
    "# 폰트설정\n",
    "plt.rc('font', family=font_family)\n",
    "# 마이너스 폰트 설정\n",
    "plt.rc('axes', unicode_minus=False)\n",
    "\n",
    "\n",
    "df = pd.read_csv('eft_2021-09-04.csv', dtype={'종목코드': object})\n",
    "df.head()"
   ]
  },
  {
   "cell_type": "code",
   "execution_count": 3,
   "id": "08e9c544",
   "metadata": {
    "ExecuteTime": {
     "end_time": "2021-09-07T12:30:13.769181Z",
     "start_time": "2021-09-07T12:30:13.727014Z"
    }
   },
   "outputs": [
    {
     "data": {
      "text/html": [
       "<div>\n",
       "<style scoped>\n",
       "    .dataframe tbody tr th:only-of-type {\n",
       "        vertical-align: middle;\n",
       "    }\n",
       "\n",
       "    .dataframe tbody tr th {\n",
       "        vertical-align: top;\n",
       "    }\n",
       "\n",
       "    .dataframe thead th {\n",
       "        text-align: right;\n",
       "    }\n",
       "</style>\n",
       "<table border=\"1\" class=\"dataframe\">\n",
       "  <thead>\n",
       "    <tr style=\"text-align: right;\">\n",
       "      <th></th>\n",
       "      <th>탭코드</th>\n",
       "      <th>현재가</th>\n",
       "      <th>등락구분</th>\n",
       "      <th>전일비</th>\n",
       "      <th>등락률</th>\n",
       "      <th>순자산가치(NAV)</th>\n",
       "      <th>3개월수익률</th>\n",
       "      <th>거래량</th>\n",
       "      <th>거래대금(백만)</th>\n",
       "      <th>시가총액(억)</th>\n",
       "    </tr>\n",
       "  </thead>\n",
       "  <tbody>\n",
       "    <tr>\n",
       "      <th>count</th>\n",
       "      <td>502.000000</td>\n",
       "      <td>502.000000</td>\n",
       "      <td>502.000000</td>\n",
       "      <td>502.000000</td>\n",
       "      <td>502.000000</td>\n",
       "      <td>358.000000</td>\n",
       "      <td>476.000000</td>\n",
       "      <td>5.020000e+02</td>\n",
       "      <td>502.000000</td>\n",
       "      <td>502.000000</td>\n",
       "    </tr>\n",
       "    <tr>\n",
       "      <th>mean</th>\n",
       "      <td>3.252988</td>\n",
       "      <td>23607.081673</td>\n",
       "      <td>2.912351</td>\n",
       "      <td>68.984064</td>\n",
       "      <td>0.342331</td>\n",
       "      <td>26588.910615</td>\n",
       "      <td>0.745937</td>\n",
       "      <td>4.784020e+05</td>\n",
       "      <td>4440.587649</td>\n",
       "      <td>1281.025896</td>\n",
       "    </tr>\n",
       "    <tr>\n",
       "      <th>std</th>\n",
       "      <td>1.798686</td>\n",
       "      <td>25658.892514</td>\n",
       "      <td>1.338918</td>\n",
       "      <td>179.300492</td>\n",
       "      <td>0.780191</td>\n",
       "      <td>28289.401600</td>\n",
       "      <td>7.274499</td>\n",
       "      <td>5.408330e+06</td>\n",
       "      <td>29689.366440</td>\n",
       "      <td>3791.326563</td>\n",
       "    </tr>\n",
       "    <tr>\n",
       "      <th>min</th>\n",
       "      <td>1.000000</td>\n",
       "      <td>1990.000000</td>\n",
       "      <td>2.000000</td>\n",
       "      <td>-670.000000</td>\n",
       "      <td>-3.910000</td>\n",
       "      <td>1991.000000</td>\n",
       "      <td>-27.547500</td>\n",
       "      <td>0.000000e+00</td>\n",
       "      <td>0.000000</td>\n",
       "      <td>16.000000</td>\n",
       "    </tr>\n",
       "    <tr>\n",
       "      <th>25%</th>\n",
       "      <td>2.000000</td>\n",
       "      <td>10540.000000</td>\n",
       "      <td>2.000000</td>\n",
       "      <td>-10.000000</td>\n",
       "      <td>-0.047500</td>\n",
       "      <td>10614.500000</td>\n",
       "      <td>-3.208300</td>\n",
       "      <td>5.652500e+02</td>\n",
       "      <td>8.250000</td>\n",
       "      <td>87.000000</td>\n",
       "    </tr>\n",
       "    <tr>\n",
       "      <th>50%</th>\n",
       "      <td>2.000000</td>\n",
       "      <td>13572.500000</td>\n",
       "      <td>2.000000</td>\n",
       "      <td>42.500000</td>\n",
       "      <td>0.340000</td>\n",
       "      <td>14825.000000</td>\n",
       "      <td>-0.022750</td>\n",
       "      <td>5.464500e+03</td>\n",
       "      <td>88.000000</td>\n",
       "      <td>199.500000</td>\n",
       "    </tr>\n",
       "    <tr>\n",
       "      <th>75%</th>\n",
       "      <td>4.000000</td>\n",
       "      <td>21321.250000</td>\n",
       "      <td>5.000000</td>\n",
       "      <td>123.750000</td>\n",
       "      <td>0.717500</td>\n",
       "      <td>27739.500000</td>\n",
       "      <td>4.440175</td>\n",
       "      <td>3.686175e+04</td>\n",
       "      <td>581.000000</td>\n",
       "      <td>684.750000</td>\n",
       "    </tr>\n",
       "    <tr>\n",
       "      <th>max</th>\n",
       "      <td>7.000000</td>\n",
       "      <td>132595.000000</td>\n",
       "      <td>5.000000</td>\n",
       "      <td>2600.000000</td>\n",
       "      <td>4.360000</td>\n",
       "      <td>132534.000000</td>\n",
       "      <td>30.025900</td>\n",
       "      <td>1.134427e+08</td>\n",
       "      <td>454363.000000</td>\n",
       "      <td>54593.000000</td>\n",
       "    </tr>\n",
       "  </tbody>\n",
       "</table>\n",
       "</div>"
      ],
      "text/plain": [
       "              탭코드            현재가        등락구분          전일비         등락률  \\\n",
       "count  502.000000     502.000000  502.000000   502.000000  502.000000   \n",
       "mean     3.252988   23607.081673    2.912351    68.984064    0.342331   \n",
       "std      1.798686   25658.892514    1.338918   179.300492    0.780191   \n",
       "min      1.000000    1990.000000    2.000000  -670.000000   -3.910000   \n",
       "25%      2.000000   10540.000000    2.000000   -10.000000   -0.047500   \n",
       "50%      2.000000   13572.500000    2.000000    42.500000    0.340000   \n",
       "75%      4.000000   21321.250000    5.000000   123.750000    0.717500   \n",
       "max      7.000000  132595.000000    5.000000  2600.000000    4.360000   \n",
       "\n",
       "          순자산가치(NAV)      3개월수익률           거래량       거래대금(백만)       시가총액(억)  \n",
       "count     358.000000  476.000000  5.020000e+02     502.000000    502.000000  \n",
       "mean    26588.910615    0.745937  4.784020e+05    4440.587649   1281.025896  \n",
       "std     28289.401600    7.274499  5.408330e+06   29689.366440   3791.326563  \n",
       "min      1991.000000  -27.547500  0.000000e+00       0.000000     16.000000  \n",
       "25%     10614.500000   -3.208300  5.652500e+02       8.250000     87.000000  \n",
       "50%     14825.000000   -0.022750  5.464500e+03      88.000000    199.500000  \n",
       "75%     27739.500000    4.440175  3.686175e+04     581.000000    684.750000  \n",
       "max    132534.000000   30.025900  1.134427e+08  454363.000000  54593.000000  "
      ]
     },
     "execution_count": 3,
     "metadata": {},
     "output_type": "execute_result"
    }
   ],
   "source": [
    "desc = df.describe()\n",
    "desc"
   ]
  },
  {
   "cell_type": "code",
   "execution_count": 4,
   "id": "082501a9",
   "metadata": {
    "ExecuteTime": {
     "end_time": "2021-09-07T12:30:33.752242Z",
     "start_time": "2021-09-07T12:30:33.733245Z"
    }
   },
   "outputs": [
    {
     "data": {
      "text/plain": [
       "['탭코드',\n",
       " '현재가',\n",
       " '등락구분',\n",
       " '전일비',\n",
       " '등락률',\n",
       " '순자산가치(NAV)',\n",
       " '3개월수익률',\n",
       " '거래량',\n",
       " '거래대금(백만)',\n",
       " '시가총액(억)']"
      ]
     },
     "execution_count": 4,
     "metadata": {},
     "output_type": "execute_result"
    }
   ],
   "source": [
    "num_cols = desc.columns.tolist()\n",
    "num_cols"
   ]
  },
  {
   "cell_type": "code",
   "execution_count": 8,
   "id": "cbf5def5",
   "metadata": {
    "ExecuteTime": {
     "end_time": "2021-09-07T12:32:45.846726Z",
     "start_time": "2021-09-07T12:32:44.453607Z"
    }
   },
   "outputs": [
    {
     "data": {
      "image/png": "[encoded data removed]",
      "text/plain": [
       "<Figure size 720x720 with 12 Axes>"
      ]
     },
     "metadata": {},
     "output_type": "display_data"
    }
   ],
   "source": [
    "h = df[num_cols].hist(figsize=(10, 10), bins=50)"
   ]
  },
  {
   "cell_type": "code",
   "execution_count": 11,
   "id": "9035f600",
   "metadata": {
    "ExecuteTime": {
     "end_time": "2021-09-07T12:39:56.058057Z",
     "start_time": "2021-09-07T12:39:55.623144Z"
    }
   },
   "outputs": [
    {
     "data": {
      "text/plain": [
       "Text(0.5, 1.0, '브랜드별 평균 3개월 수익률')"
      ]
     },
     "execution_count": 11,
     "metadata": {},
     "output_type": "execute_result"
    },
    {
     "data": {
      "image/png": "[encoded data removed]",
      "text/plain": [
       "<Figure size 432x288 with 1 Axes>"
      ]
     },
     "metadata": {},
     "output_type": "display_data"
    }
   ],
   "source": [
    "# 검은 막대는 ci 신뢰구간\n",
    "sns.barplot(data=df, y='브랜드', x='3개월수익률').set_title('브랜드별 평균 3개월 수익률')"
   ]
  },
  {
   "cell_type": "code",
   "execution_count": 13,
   "id": "f3224ec9",
   "metadata": {
    "ExecuteTime": {
     "end_time": "2021-09-07T12:44:39.785737Z",
     "start_time": "2021-09-07T12:44:39.772771Z"
    }
   },
   "outputs": [
    {
     "data": {
      "text/plain": [
       "브랜드\n",
       "ARIRANG      0.967108\n",
       "FOCUS       -2.533650\n",
       "HANARO       2.205667\n",
       "HK          -1.357700\n",
       "KBSTAR      -0.106989\n",
       "KINDEX       0.740870\n",
       "KODEX        0.161618\n",
       "KOSEF        1.744617\n",
       "KTOP        -3.015400\n",
       "SOL          1.801820\n",
       "TIGER        1.494080\n",
       "TIMEFOLIO    8.039150\n",
       "TREX        -3.435850\n",
       "네비게이터        1.478600\n",
       "마이다스        -1.504500\n",
       "마이티         -1.152700\n",
       "파워          -1.715525\n",
       "Name: 3개월수익률, dtype: float64"
      ]
     },
     "execution_count": 13,
     "metadata": {},
     "output_type": "execute_result"
    }
   ],
   "source": [
    "brand_3month_mean = df.groupby('브랜드')['3개월수익률'].mean()\n",
    "brand_3month_mean"
   ]
  },
  {
   "cell_type": "code",
   "execution_count": 17,
   "id": "68413f1e",
   "metadata": {
    "ExecuteTime": {
     "end_time": "2021-09-07T12:45:25.872397Z",
     "start_time": "2021-09-07T12:45:25.719074Z"
    }
   },
   "outputs": [
    {
     "data": {
      "text/plain": [
       "<AxesSubplot:title={'center':'브랜드별 평균 3개월 수익률'}, ylabel='브랜드'>"
      ]
     },
     "execution_count": 17,
     "metadata": {},
     "output_type": "execute_result"
    },
    {
     "data": {
      "image/png": "[encoded data removed]",
      "text/plain": [
       "<Figure size 432x288 with 1 Axes>"
      ]
     },
     "metadata": {},
     "output_type": "display_data"
    }
   ],
   "source": [
    "brand_3month_mean.sort_values().plot.barh(title='브랜드별 평균 3개월 수익률')"
   ]
  },
  {
   "cell_type": "code",
   "execution_count": 24,
   "id": "c645a94f",
   "metadata": {
    "ExecuteTime": {
     "end_time": "2021-09-07T12:54:01.421357Z",
     "start_time": "2021-09-07T12:54:01.154463Z"
    }
   },
   "outputs": [
    {
     "data": {
      "text/plain": [
       "<AxesSubplot:xlabel='3개월수익률', ylabel='브랜드'>"
      ]
     },
     "execution_count": 24,
     "metadata": {},
     "output_type": "execute_result"
    },
    {
     "data": {
      "image/png": "[encoded data removed]",
      "text/plain": [
       "<Figure size 720x504 with 1 Axes>"
      ]
     },
     "metadata": {},
     "output_type": "display_data"
    }
   ],
   "source": [
    "plt.figure(figsize=(10, 7))\n",
    "sns.barplot(data=df, x='3개월수익률', y='브랜드', hue='레버리지', ci='sd')"
   ]
  },
  {
   "cell_type": "code",
   "execution_count": 33,
   "id": "55176d9f",
   "metadata": {
    "ExecuteTime": {
     "end_time": "2021-09-07T13:13:21.829665Z",
     "start_time": "2021-09-07T13:13:21.801444Z"
    }
   },
   "outputs": [
    {
     "data": {
      "text/html": [
       "<style type=\"text/css\">\n",
       "#T_27086_row0_col0 {\n",
       "  background-color: #f7593f;\n",
       "  color: #f1f1f1;\n",
       "}\n",
       "#T_27086_row1_col0 {\n",
       "  background-color: #fff5f0;\n",
       "  color: #000000;\n",
       "}\n",
       "#T_27086_row2_col0 {\n",
       "  background-color: #fcab8f;\n",
       "  color: #000000;\n",
       "}\n",
       "#T_27086_row3_col0, #T_27086_row15_col0 {\n",
       "  background-color: #f34a36;\n",
       "  color: #f1f1f1;\n",
       "}\n",
       "#T_27086_row4_col0 {\n",
       "  background-color: #ac1117;\n",
       "  color: #f1f1f1;\n",
       "}\n",
       "#T_27086_row5_col0 {\n",
       "  background-color: #fc9272;\n",
       "  color: #000000;\n",
       "}\n",
       "#T_27086_row6_col0 {\n",
       "  background-color: #fb7d5d;\n",
       "  color: #f1f1f1;\n",
       "}\n",
       "#T_27086_row7_col0 {\n",
       "  background-color: #af1117;\n",
       "  color: #f1f1f1;\n",
       "}\n",
       "#T_27086_row8_col0 {\n",
       "  background-color: #f44f39;\n",
       "  color: #f1f1f1;\n",
       "}\n",
       "#T_27086_row9_col0 {\n",
       "  background-color: #ffefe8;\n",
       "  color: #000000;\n",
       "}\n",
       "#T_27086_row10_col0 {\n",
       "  background-color: #fb6e4e;\n",
       "  color: #f1f1f1;\n",
       "}\n",
       "#T_27086_row11_col0 {\n",
       "  background-color: #fcb499;\n",
       "  color: #000000;\n",
       "}\n",
       "#T_27086_row12_col0 {\n",
       "  background-color: #f96044;\n",
       "  color: #f1f1f1;\n",
       "}\n",
       "#T_27086_row13_col0 {\n",
       "  background-color: #a81016;\n",
       "  color: #f1f1f1;\n",
       "}\n",
       "#T_27086_row14_col0 {\n",
       "  background-color: #fcb79c;\n",
       "  color: #000000;\n",
       "}\n",
       "#T_27086_row16_col0 {\n",
       "  background-color: #f6553c;\n",
       "  color: #f1f1f1;\n",
       "}\n",
       "#T_27086_row17_col0 {\n",
       "  background-color: #ea362a;\n",
       "  color: #f1f1f1;\n",
       "}\n",
       "#T_27086_row18_col0 {\n",
       "  background-color: #67000d;\n",
       "  color: #f1f1f1;\n",
       "}\n",
       "#T_27086_row19_col0 {\n",
       "  background-color: #fcbfa7;\n",
       "  color: #000000;\n",
       "}\n",
       "#T_27086_row20_col0 {\n",
       "  background-color: #f5523a;\n",
       "  color: #f1f1f1;\n",
       "}\n",
       "#T_27086_row21_col0 {\n",
       "  background-color: #fc9576;\n",
       "  color: #000000;\n",
       "}\n",
       "#T_27086_row22_col0 {\n",
       "  background-color: #fdc7b2;\n",
       "  color: #000000;\n",
       "}\n",
       "#T_27086_row23_col0 {\n",
       "  background-color: #f4503a;\n",
       "  color: #f1f1f1;\n",
       "}\n",
       "#T_27086_row24_col0 {\n",
       "  background-color: #fc997a;\n",
       "  color: #000000;\n",
       "}\n",
       "</style>\n",
       "<table id=\"T_27086_\">\n",
       "  <thead>\n",
       "    <tr>\n",
       "      <th class=\"blank\" >&nbsp;</th>\n",
       "      <th class=\"blank level0\" >&nbsp;</th>\n",
       "      <th class=\"col_heading level0 col0\" >3개월수익률</th>\n",
       "    </tr>\n",
       "    <tr>\n",
       "      <th class=\"index_name level0\" >브랜드</th>\n",
       "      <th class=\"index_name level1\" >레버리지</th>\n",
       "      <th class=\"blank col0\" >&nbsp;</th>\n",
       "    </tr>\n",
       "  </thead>\n",
       "  <tbody>\n",
       "    <tr>\n",
       "      <th id=\"T_27086_level0_row0\" class=\"row_heading level0 row0\" rowspan=\"2\">ARIRANG</th>\n",
       "      <th id=\"T_27086_level1_row0\" class=\"row_heading level1 row0\" >False</th>\n",
       "      <td id=\"T_27086_row0_col0\" class=\"data row0 col0\" >1.171503</td>\n",
       "    </tr>\n",
       "    <tr>\n",
       "      <th id=\"T_27086_level1_row1\" class=\"row_heading level1 row1\" >True</th>\n",
       "      <td id=\"T_27086_row1_col0\" class=\"data row1 col0\" >-7.004300</td>\n",
       "    </tr>\n",
       "    <tr>\n",
       "      <th id=\"T_27086_level0_row2\" class=\"row_heading level0 row2\" >FOCUS</th>\n",
       "      <th id=\"T_27086_level1_row2\" class=\"row_heading level1 row2\" >False</th>\n",
       "      <td id=\"T_27086_row2_col0\" class=\"data row2 col0\" >-2.533650</td>\n",
       "    </tr>\n",
       "    <tr>\n",
       "      <th id=\"T_27086_level0_row3\" class=\"row_heading level0 row3\" rowspan=\"2\">HANARO</th>\n",
       "      <th id=\"T_27086_level1_row3\" class=\"row_heading level1 row3\" >False</th>\n",
       "      <td id=\"T_27086_row3_col0\" class=\"data row3 col0\" >1.757350</td>\n",
       "    </tr>\n",
       "    <tr>\n",
       "      <th id=\"T_27086_level1_row4\" class=\"row_heading level1 row4\" >True</th>\n",
       "      <td id=\"T_27086_row4_col0\" class=\"data row4 col0\" >5.792200</td>\n",
       "    </tr>\n",
       "    <tr>\n",
       "      <th id=\"T_27086_level0_row5\" class=\"row_heading level0 row5\" >HK</th>\n",
       "      <th id=\"T_27086_level1_row5\" class=\"row_heading level1 row5\" >False</th>\n",
       "      <td id=\"T_27086_row5_col0\" class=\"data row5 col0\" >-1.357700</td>\n",
       "    </tr>\n",
       "    <tr>\n",
       "      <th id=\"T_27086_level0_row6\" class=\"row_heading level0 row6\" rowspan=\"2\">KBSTAR</th>\n",
       "      <th id=\"T_27086_level1_row6\" class=\"row_heading level1 row6\" >False</th>\n",
       "      <td id=\"T_27086_row6_col0\" class=\"data row6 col0\" >-0.410122</td>\n",
       "    </tr>\n",
       "    <tr>\n",
       "      <th id=\"T_27086_level1_row7\" class=\"row_heading level1 row7\" >True</th>\n",
       "      <td id=\"T_27086_row7_col0\" class=\"data row7 col0\" >5.652550</td>\n",
       "    </tr>\n",
       "    <tr>\n",
       "      <th id=\"T_27086_level0_row8\" class=\"row_heading level0 row8\" rowspan=\"2\">KINDEX</th>\n",
       "      <th id=\"T_27086_level1_row8\" class=\"row_heading level1 row8\" >False</th>\n",
       "      <td id=\"T_27086_row8_col0\" class=\"data row8 col0\" >1.595538</td>\n",
       "    </tr>\n",
       "    <tr>\n",
       "      <th id=\"T_27086_level1_row9\" class=\"row_heading level1 row9\" >True</th>\n",
       "      <td id=\"T_27086_row9_col0\" class=\"data row9 col0\" >-6.438340</td>\n",
       "    </tr>\n",
       "    <tr>\n",
       "      <th id=\"T_27086_level0_row10\" class=\"row_heading level0 row10\" rowspan=\"2\">KODEX</th>\n",
       "      <th id=\"T_27086_level1_row10\" class=\"row_heading level1 row10\" >False</th>\n",
       "      <td id=\"T_27086_row10_col0\" class=\"data row10 col0\" >0.295809</td>\n",
       "    </tr>\n",
       "    <tr>\n",
       "      <th id=\"T_27086_level1_row11\" class=\"row_heading level1 row11\" >True</th>\n",
       "      <td id=\"T_27086_row11_col0\" class=\"data row11 col0\" >-2.897940</td>\n",
       "    </tr>\n",
       "    <tr>\n",
       "      <th id=\"T_27086_level0_row12\" class=\"row_heading level0 row12\" rowspan=\"2\">KOSEF</th>\n",
       "      <th id=\"T_27086_level1_row12\" class=\"row_heading level1 row12\" >False</th>\n",
       "      <td id=\"T_27086_row12_col0\" class=\"data row12 col0\" >0.890535</td>\n",
       "    </tr>\n",
       "    <tr>\n",
       "      <th id=\"T_27086_level1_row13\" class=\"row_heading level1 row13\" >True</th>\n",
       "      <td id=\"T_27086_row13_col0\" class=\"data row13 col0\" >6.015025</td>\n",
       "    </tr>\n",
       "    <tr>\n",
       "      <th id=\"T_27086_level0_row14\" class=\"row_heading level0 row14\" >KTOP</th>\n",
       "      <th id=\"T_27086_level1_row14\" class=\"row_heading level1 row14\" >False</th>\n",
       "      <td id=\"T_27086_row14_col0\" class=\"data row14 col0\" >-3.015400</td>\n",
       "    </tr>\n",
       "    <tr>\n",
       "      <th id=\"T_27086_level0_row15\" class=\"row_heading level0 row15\" >SOL</th>\n",
       "      <th id=\"T_27086_level1_row15\" class=\"row_heading level1 row15\" >False</th>\n",
       "      <td id=\"T_27086_row15_col0\" class=\"data row15 col0\" >1.801820</td>\n",
       "    </tr>\n",
       "    <tr>\n",
       "      <th id=\"T_27086_level0_row16\" class=\"row_heading level0 row16\" rowspan=\"2\">TIGER</th>\n",
       "      <th id=\"T_27086_level1_row16\" class=\"row_heading level1 row16\" >False</th>\n",
       "      <td id=\"T_27086_row16_col0\" class=\"data row16 col0\" >1.383464</td>\n",
       "    </tr>\n",
       "    <tr>\n",
       "      <th id=\"T_27086_level1_row17\" class=\"row_heading level1 row17\" >True</th>\n",
       "      <td id=\"T_27086_row17_col0\" class=\"data row17 col0\" >2.650518</td>\n",
       "    </tr>\n",
       "    <tr>\n",
       "      <th id=\"T_27086_level0_row18\" class=\"row_heading level0 row18\" >TIMEFOLIO</th>\n",
       "      <th id=\"T_27086_level1_row18\" class=\"row_heading level1 row18\" >False</th>\n",
       "      <td id=\"T_27086_row18_col0\" class=\"data row18 col0\" >8.039150</td>\n",
       "    </tr>\n",
       "    <tr>\n",
       "      <th id=\"T_27086_level0_row19\" class=\"row_heading level0 row19\" >TREX</th>\n",
       "      <th id=\"T_27086_level1_row19\" class=\"row_heading level1 row19\" >False</th>\n",
       "      <td id=\"T_27086_row19_col0\" class=\"data row19 col0\" >-3.435850</td>\n",
       "    </tr>\n",
       "    <tr>\n",
       "      <th id=\"T_27086_level0_row20\" class=\"row_heading level0 row20\" >네비게이터</th>\n",
       "      <th id=\"T_27086_level1_row20\" class=\"row_heading level1 row20\" >False</th>\n",
       "      <td id=\"T_27086_row20_col0\" class=\"data row20 col0\" >1.478600</td>\n",
       "    </tr>\n",
       "    <tr>\n",
       "      <th id=\"T_27086_level0_row21\" class=\"row_heading level0 row21\" >마이다스</th>\n",
       "      <th id=\"T_27086_level1_row21\" class=\"row_heading level1 row21\" >False</th>\n",
       "      <td id=\"T_27086_row21_col0\" class=\"data row21 col0\" >-1.504500</td>\n",
       "    </tr>\n",
       "    <tr>\n",
       "      <th id=\"T_27086_level0_row22\" class=\"row_heading level0 row22\" rowspan=\"2\">마이티</th>\n",
       "      <th id=\"T_27086_level1_row22\" class=\"row_heading level1 row22\" >False</th>\n",
       "      <td id=\"T_27086_row22_col0\" class=\"data row22 col0\" >-3.834500</td>\n",
       "    </tr>\n",
       "    <tr>\n",
       "      <th id=\"T_27086_level1_row23\" class=\"row_heading level1 row23\" >True</th>\n",
       "      <td id=\"T_27086_row23_col0\" class=\"data row23 col0\" >1.529100</td>\n",
       "    </tr>\n",
       "    <tr>\n",
       "      <th id=\"T_27086_level0_row24\" class=\"row_heading level0 row24\" >파워</th>\n",
       "      <th id=\"T_27086_level1_row24\" class=\"row_heading level1 row24\" >False</th>\n",
       "      <td id=\"T_27086_row24_col0\" class=\"data row24 col0\" >-1.715525</td>\n",
       "    </tr>\n",
       "  </tbody>\n",
       "</table>\n"
      ],
      "text/plain": [
       "<pandas.io.formats.style.Styler at 0x1dd788c0bb0>"
      ]
     },
     "execution_count": 33,
     "metadata": {},
     "output_type": "execute_result"
    }
   ],
   "source": [
    "g = df.groupby(['브랜드','레버리지'])['3개월수익률'].mean().to_frame()\n",
    "g.style.background_gradient(cmap='Reds')"
   ]
  },
  {
   "cell_type": "code",
   "execution_count": 34,
   "id": "17d4f885",
   "metadata": {
    "ExecuteTime": {
     "end_time": "2021-09-07T13:14:54.532072Z",
     "start_time": "2021-09-07T13:14:54.243955Z"
    }
   },
   "outputs": [
    {
     "data": {
      "text/plain": [
       "<AxesSubplot:xlabel='3개월수익률', ylabel='브랜드'>"
      ]
     },
     "execution_count": 34,
     "metadata": {},
     "output_type": "execute_result"
    },
    {
     "data": {
      "image/png": "[encoded data removed]",
      "text/plain": [
       "<Figure size 432x288 with 1 Axes>"
      ]
     },
     "metadata": {},
     "output_type": "display_data"
    }
   ],
   "source": [
    "sns.boxplot(data=df, x='3개월수익률', y='브랜드')"
   ]
  },
  {
   "cell_type": "code",
   "execution_count": 36,
   "id": "107dd7f4",
   "metadata": {
    "ExecuteTime": {
     "end_time": "2021-09-07T13:21:43.647905Z",
     "start_time": "2021-09-07T13:21:43.617496Z"
    }
   },
   "outputs": [
    {
     "data": {
      "text/html": [
       "<div>\n",
       "<style scoped>\n",
       "    .dataframe tbody tr th:only-of-type {\n",
       "        vertical-align: middle;\n",
       "    }\n",
       "\n",
       "    .dataframe tbody tr th {\n",
       "        vertical-align: top;\n",
       "    }\n",
       "\n",
       "    .dataframe thead th {\n",
       "        text-align: right;\n",
       "    }\n",
       "</style>\n",
       "<table border=\"1\" class=\"dataframe\">\n",
       "  <thead>\n",
       "    <tr style=\"text-align: right;\">\n",
       "      <th></th>\n",
       "      <th>종목코드</th>\n",
       "      <th>탭코드</th>\n",
       "      <th>종목명</th>\n",
       "      <th>현재가</th>\n",
       "      <th>등락구분</th>\n",
       "      <th>전일비</th>\n",
       "      <th>등락률</th>\n",
       "      <th>순자산가치(NAV)</th>\n",
       "      <th>3개월수익률</th>\n",
       "      <th>거래량</th>\n",
       "      <th>거래대금(백만)</th>\n",
       "      <th>시가총액(억)</th>\n",
       "      <th>유형</th>\n",
       "      <th>브랜드</th>\n",
       "      <th>인버스</th>\n",
       "      <th>레버리지</th>\n",
       "      <th>환헤지H</th>\n",
       "    </tr>\n",
       "  </thead>\n",
       "  <tbody>\n",
       "    <tr>\n",
       "      <th>0</th>\n",
       "      <td>069500</td>\n",
       "      <td>1</td>\n",
       "      <td>KODEX 200</td>\n",
       "      <td>41930</td>\n",
       "      <td>2</td>\n",
       "      <td>270</td>\n",
       "      <td>0.65</td>\n",
       "      <td>41979.0</td>\n",
       "      <td>-3.1976</td>\n",
       "      <td>2807005</td>\n",
       "      <td>117551</td>\n",
       "      <td>54593</td>\n",
       "      <td>국내 시장지수</td>\n",
       "      <td>KODEX</td>\n",
       "      <td>False</td>\n",
       "      <td>False</td>\n",
       "      <td>False</td>\n",
       "    </tr>\n",
       "    <tr>\n",
       "      <th>2</th>\n",
       "      <td>153130</td>\n",
       "      <td>6</td>\n",
       "      <td>KODEX 단기채권</td>\n",
       "      <td>102885</td>\n",
       "      <td>2</td>\n",
       "      <td>10</td>\n",
       "      <td>0.01</td>\n",
       "      <td>102883.0</td>\n",
       "      <td>0.0291</td>\n",
       "      <td>7598</td>\n",
       "      <td>781</td>\n",
       "      <td>20968</td>\n",
       "      <td>채권</td>\n",
       "      <td>KODEX</td>\n",
       "      <td>False</td>\n",
       "      <td>False</td>\n",
       "      <td>False</td>\n",
       "    </tr>\n",
       "    <tr>\n",
       "      <th>3</th>\n",
       "      <td>252670</td>\n",
       "      <td>3</td>\n",
       "      <td>KODEX 200선물인버스2X</td>\n",
       "      <td>2000</td>\n",
       "      <td>5</td>\n",
       "      <td>-25</td>\n",
       "      <td>-1.23</td>\n",
       "      <td>2004.0</td>\n",
       "      <td>5.2631</td>\n",
       "      <td>113442718</td>\n",
       "      <td>227795</td>\n",
       "      <td>20042</td>\n",
       "      <td>국내 파생</td>\n",
       "      <td>KODEX</td>\n",
       "      <td>True</td>\n",
       "      <td>False</td>\n",
       "      <td>False</td>\n",
       "    </tr>\n",
       "    <tr>\n",
       "      <th>5</th>\n",
       "      <td>102780</td>\n",
       "      <td>2</td>\n",
       "      <td>KODEX 삼성그룹</td>\n",
       "      <td>10455</td>\n",
       "      <td>2</td>\n",
       "      <td>75</td>\n",
       "      <td>0.72</td>\n",
       "      <td>10472.0</td>\n",
       "      <td>3.7717</td>\n",
       "      <td>153755</td>\n",
       "      <td>1603</td>\n",
       "      <td>17334</td>\n",
       "      <td>국내 업종/테마</td>\n",
       "      <td>KODEX</td>\n",
       "      <td>False</td>\n",
       "      <td>False</td>\n",
       "      <td>False</td>\n",
       "    </tr>\n",
       "    <tr>\n",
       "      <th>6</th>\n",
       "      <td>122630</td>\n",
       "      <td>3</td>\n",
       "      <td>KODEX 레버리지</td>\n",
       "      <td>26700</td>\n",
       "      <td>2</td>\n",
       "      <td>335</td>\n",
       "      <td>1.27</td>\n",
       "      <td>26817.0</td>\n",
       "      <td>-6.7901</td>\n",
       "      <td>17057498</td>\n",
       "      <td>454363</td>\n",
       "      <td>17088</td>\n",
       "      <td>국내 파생</td>\n",
       "      <td>KODEX</td>\n",
       "      <td>False</td>\n",
       "      <td>True</td>\n",
       "      <td>False</td>\n",
       "    </tr>\n",
       "    <tr>\n",
       "      <th>...</th>\n",
       "      <td>...</td>\n",
       "      <td>...</td>\n",
       "      <td>...</td>\n",
       "      <td>...</td>\n",
       "      <td>...</td>\n",
       "      <td>...</td>\n",
       "      <td>...</td>\n",
       "      <td>...</td>\n",
       "      <td>...</td>\n",
       "      <td>...</td>\n",
       "      <td>...</td>\n",
       "      <td>...</td>\n",
       "      <td>...</td>\n",
       "      <td>...</td>\n",
       "      <td>...</td>\n",
       "      <td>...</td>\n",
       "      <td>...</td>\n",
       "    </tr>\n",
       "    <tr>\n",
       "      <th>460</th>\n",
       "      <td>321410</td>\n",
       "      <td>7</td>\n",
       "      <td>KODEX 멀티에셋하이인컴(H)</td>\n",
       "      <td>11070</td>\n",
       "      <td>5</td>\n",
       "      <td>-5</td>\n",
       "      <td>-0.05</td>\n",
       "      <td>NaN</td>\n",
       "      <td>2.9767</td>\n",
       "      <td>401</td>\n",
       "      <td>4</td>\n",
       "      <td>55</td>\n",
       "      <td>기타</td>\n",
       "      <td>KODEX</td>\n",
       "      <td>False</td>\n",
       "      <td>False</td>\n",
       "      <td>True</td>\n",
       "    </tr>\n",
       "    <tr>\n",
       "      <th>463</th>\n",
       "      <td>261270</td>\n",
       "      <td>7</td>\n",
       "      <td>KODEX 미국달러선물인버스</td>\n",
       "      <td>9900</td>\n",
       "      <td>2</td>\n",
       "      <td>35</td>\n",
       "      <td>0.35</td>\n",
       "      <td>9893.0</td>\n",
       "      <td>-3.6965</td>\n",
       "      <td>2688</td>\n",
       "      <td>26</td>\n",
       "      <td>52</td>\n",
       "      <td>기타</td>\n",
       "      <td>KODEX</td>\n",
       "      <td>True</td>\n",
       "      <td>False</td>\n",
       "      <td>False</td>\n",
       "    </tr>\n",
       "    <tr>\n",
       "      <th>466</th>\n",
       "      <td>292770</td>\n",
       "      <td>6</td>\n",
       "      <td>KODEX 국채선물3년인버스</td>\n",
       "      <td>49695</td>\n",
       "      <td>3</td>\n",
       "      <td>0</td>\n",
       "      <td>0.00</td>\n",
       "      <td>49751.0</td>\n",
       "      <td>-0.0804</td>\n",
       "      <td>0</td>\n",
       "      <td>0</td>\n",
       "      <td>51</td>\n",
       "      <td>채권</td>\n",
       "      <td>KODEX</td>\n",
       "      <td>True</td>\n",
       "      <td>False</td>\n",
       "      <td>False</td>\n",
       "    </tr>\n",
       "    <tr>\n",
       "      <th>478</th>\n",
       "      <td>280940</td>\n",
       "      <td>4</td>\n",
       "      <td>KODEX 골드선물인버스(H)</td>\n",
       "      <td>7200</td>\n",
       "      <td>2</td>\n",
       "      <td>10</td>\n",
       "      <td>0.14</td>\n",
       "      <td>NaN</td>\n",
       "      <td>4.5751</td>\n",
       "      <td>737</td>\n",
       "      <td>5</td>\n",
       "      <td>43</td>\n",
       "      <td>해외 주식</td>\n",
       "      <td>KODEX</td>\n",
       "      <td>True</td>\n",
       "      <td>False</td>\n",
       "      <td>True</td>\n",
       "    </tr>\n",
       "    <tr>\n",
       "      <th>492</th>\n",
       "      <td>291890</td>\n",
       "      <td>4</td>\n",
       "      <td>KODEX MSCI EM선물(H)</td>\n",
       "      <td>10540</td>\n",
       "      <td>3</td>\n",
       "      <td>0</td>\n",
       "      <td>0.00</td>\n",
       "      <td>NaN</td>\n",
       "      <td>-5.1732</td>\n",
       "      <td>384</td>\n",
       "      <td>4</td>\n",
       "      <td>32</td>\n",
       "      <td>해외 주식</td>\n",
       "      <td>KODEX</td>\n",
       "      <td>False</td>\n",
       "      <td>False</td>\n",
       "      <td>True</td>\n",
       "    </tr>\n",
       "  </tbody>\n",
       "</table>\n",
       "<p>124 rows × 17 columns</p>\n",
       "</div>"
      ],
      "text/plain": [
       "       종목코드  탭코드                 종목명     현재가  등락구분  전일비   등락률  순자산가치(NAV)  \\\n",
       "0    069500    1           KODEX 200   41930     2  270  0.65     41979.0   \n",
       "2    153130    6          KODEX 단기채권  102885     2   10  0.01    102883.0   \n",
       "3    252670    3    KODEX 200선물인버스2X    2000     5  -25 -1.23      2004.0   \n",
       "5    102780    2          KODEX 삼성그룹   10455     2   75  0.72     10472.0   \n",
       "6    122630    3          KODEX 레버리지   26700     2  335  1.27     26817.0   \n",
       "..      ...  ...                 ...     ...   ...  ...   ...         ...   \n",
       "460  321410    7   KODEX 멀티에셋하이인컴(H)   11070     5   -5 -0.05         NaN   \n",
       "463  261270    7     KODEX 미국달러선물인버스    9900     2   35  0.35      9893.0   \n",
       "466  292770    6     KODEX 국채선물3년인버스   49695     3    0  0.00     49751.0   \n",
       "478  280940    4    KODEX 골드선물인버스(H)    7200     2   10  0.14         NaN   \n",
       "492  291890    4  KODEX MSCI EM선물(H)   10540     3    0  0.00         NaN   \n",
       "\n",
       "     3개월수익률        거래량  거래대금(백만)  시가총액(억)        유형    브랜드    인버스   레버리지  \\\n",
       "0   -3.1976    2807005    117551    54593   국내 시장지수  KODEX  False  False   \n",
       "2    0.0291       7598       781    20968        채권  KODEX  False  False   \n",
       "3    5.2631  113442718    227795    20042     국내 파생  KODEX   True  False   \n",
       "5    3.7717     153755      1603    17334  국내 업종/테마  KODEX  False  False   \n",
       "6   -6.7901   17057498    454363    17088     국내 파생  KODEX  False   True   \n",
       "..      ...        ...       ...      ...       ...    ...    ...    ...   \n",
       "460  2.9767        401         4       55        기타  KODEX  False  False   \n",
       "463 -3.6965       2688        26       52        기타  KODEX   True  False   \n",
       "466 -0.0804          0         0       51        채권  KODEX   True  False   \n",
       "478  4.5751        737         5       43     해외 주식  KODEX   True  False   \n",
       "492 -5.1732        384         4       32     해외 주식  KODEX  False  False   \n",
       "\n",
       "      환헤지H  \n",
       "0    False  \n",
       "2    False  \n",
       "3    False  \n",
       "5    False  \n",
       "6    False  \n",
       "..     ...  \n",
       "460   True  \n",
       "463  False  \n",
       "466  False  \n",
       "478   True  \n",
       "492   True  \n",
       "\n",
       "[124 rows x 17 columns]"
      ]
     },
     "execution_count": 36,
     "metadata": {},
     "output_type": "execute_result"
    }
   ],
   "source": [
    "kodex = df[df['브랜드'] == 'KODEX']\n",
    "kodex"
   ]
  },
  {
   "cell_type": "code",
   "execution_count": 37,
   "id": "cb0f9abe",
   "metadata": {
    "ExecuteTime": {
     "end_time": "2021-09-07T13:22:10.562001Z",
     "start_time": "2021-09-07T13:22:10.459953Z"
    }
   },
   "outputs": [
    {
     "data": {
      "text/plain": [
       "<AxesSubplot:xlabel='3개월수익률', ylabel='브랜드'>"
      ]
     },
     "execution_count": 37,
     "metadata": {},
     "output_type": "execute_result"
    },
    {
     "data": {
      "image/png": "[encoded data removed]",
      "text/plain": [
       "<Figure size 432x288 with 1 Axes>"
      ]
     },
     "metadata": {},
     "output_type": "display_data"
    }
   ],
   "source": [
    "sns.boxplot(data=kodex, x='3개월수익률', y='브랜드')"
   ]
  },
  {
   "cell_type": "code",
   "execution_count": 38,
   "id": "a56d2406",
   "metadata": {
    "ExecuteTime": {
     "end_time": "2021-09-07T13:23:05.190412Z",
     "start_time": "2021-09-07T13:23:05.088424Z"
    }
   },
   "outputs": [
    {
     "data": {
      "text/plain": [
       "<AxesSubplot:xlabel='3개월수익률', ylabel='브랜드'>"
      ]
     },
     "execution_count": 38,
     "metadata": {},
     "output_type": "execute_result"
    },
    {
     "data": {
      "image/png": "[encoded data removed]",
      "text/plain": [
       "<Figure size 432x288 with 1 Axes>"
      ]
     },
     "metadata": {},
     "output_type": "display_data"
    }
   ],
   "source": [
    "# 좀 더 자세한 boxplot\n",
    "sns.boxenplot(data=kodex, x='3개월수익률', y='브랜드') "
   ]
  },
  {
   "cell_type": "code",
   "execution_count": 40,
   "id": "97d2d0ac",
   "metadata": {
    "ExecuteTime": {
     "end_time": "2021-09-07T13:25:20.800260Z",
     "start_time": "2021-09-07T13:25:20.672489Z"
    }
   },
   "outputs": [
    {
     "data": {
      "text/plain": [
       "<AxesSubplot:xlabel='3개월수익률', ylabel='Density'>"
      ]
     },
     "execution_count": 40,
     "metadata": {},
     "output_type": "execute_result"
    },
    {
     "data": {
      "image/png": "[encoded data removed]",
      "text/plain": [
       "<Figure size 432x288 with 1 Axes>"
      ]
     },
     "metadata": {},
     "output_type": "display_data"
    }
   ],
   "source": [
    "# 밀도\n",
    "sns.kdeplot(data=kodex, x='3개월수익률', shade=True)"
   ]
  },
  {
   "cell_type": "code",
   "execution_count": 44,
   "id": "272413ff",
   "metadata": {
    "ExecuteTime": {
     "end_time": "2021-09-07T13:27:03.163602Z",
     "start_time": "2021-09-07T13:27:03.064566Z"
    }
   },
   "outputs": [
    {
     "data": {
      "text/plain": [
       "<AxesSubplot:xlabel='3개월수익률', ylabel='브랜드'>"
      ]
     },
     "execution_count": 44,
     "metadata": {},
     "output_type": "execute_result"
    },
    {
     "data": {
      "image/png": "[encoded data removed]",
      "text/plain": [
       "<Figure size 432x288 with 1 Axes>"
      ]
     },
     "metadata": {},
     "output_type": "display_data"
    }
   ],
   "source": [
    "# 가운데 검은색: 박스플롯\n",
    "# 가운데 하얀점: 중앙값\n",
    "sns.violinplot(data=kodex, x='3개월수익률', y='브랜드', cut=3)"
   ]
  },
  {
   "cell_type": "code",
   "execution_count": 46,
   "id": "8521f27c",
   "metadata": {
    "ExecuteTime": {
     "end_time": "2021-09-07T13:28:40.858919Z",
     "start_time": "2021-09-07T13:28:40.732784Z"
    }
   },
   "outputs": [
    {
     "data": {
      "text/plain": [
       "<AxesSubplot:xlabel='3개월수익률', ylabel='브랜드'>"
      ]
     },
     "execution_count": 46,
     "metadata": {},
     "output_type": "execute_result"
    },
    {
     "data": {
      "image/png": "[encoded data removed]",
      "text/plain": [
       "<Figure size 432x288 with 1 Axes>"
      ]
     },
     "metadata": {},
     "output_type": "display_data"
    }
   ],
   "source": [
    "sns.violinplot(data=kodex, x='3개월수익률', y='브랜드', cut=3, inner='quartile', hue='레버리지')"
   ]
  },
  {
   "cell_type": "code",
   "execution_count": 47,
   "id": "8409c77c",
   "metadata": {
    "ExecuteTime": {
     "end_time": "2021-09-07T13:29:11.216537Z",
     "start_time": "2021-09-07T13:29:11.088284Z"
    }
   },
   "outputs": [
    {
     "data": {
      "text/plain": [
       "<AxesSubplot:xlabel='3개월수익률', ylabel='브랜드'>"
      ]
     },
     "execution_count": 47,
     "metadata": {},
     "output_type": "execute_result"
    },
    {
     "data": {
      "image/png": "[encoded data removed]",
      "text/plain": [
       "<Figure size 432x288 with 1 Axes>"
      ]
     },
     "metadata": {},
     "output_type": "display_data"
    }
   ],
   "source": [
    "# split: 반씩 나눠그림\n",
    "sns.violinplot(data=kodex, x='3개월수익률', y='브랜드', cut=3,\n",
    "               inner='quartile', hue='레버리지', split=True)"
   ]
  },
  {
   "cell_type": "code",
   "execution_count": 50,
   "id": "e3b8dc22",
   "metadata": {
    "ExecuteTime": {
     "end_time": "2021-09-07T13:41:59.559592Z",
     "start_time": "2021-09-07T13:41:59.040485Z"
    }
   },
   "outputs": [
    {
     "data": {
      "text/plain": [
       "<AxesSubplot:xlabel='3개월수익률', ylabel='브랜드'>"
      ]
     },
     "execution_count": 50,
     "metadata": {},
     "output_type": "execute_result"
    },
    {
     "data": {
      "image/png": "[encoded data removed]",
      "text/plain": [
       "<Figure size 1080x288 with 2 Axes>"
      ]
     },
     "metadata": {},
     "output_type": "display_data"
    }
   ],
   "source": [
    "fig, axes = plt.subplots(ncols=2, figsize=(15,4))\n",
    "sns.boxplot(data=df, x='3개월수익률', y='브랜드', ax=axes[0])\n",
    "sns.violinplot(data=df, x='3개월수익률', y='브랜드', ax=axes[1])"
   ]
  }
 ],
 "metadata": {
  "kernelspec": {
   "display_name": "stock",
   "language": "python",
   "name": "stock"
  },
  "language_info": {
   "codemirror_mode": {
    "name": "ipython",
    "version": 3
   },
   "file_extension": ".py",
   "mimetype": "text/x-python",
   "name": "python",
   "nbconvert_exporter": "python",
   "pygments_lexer": "ipython3",
   "version": "3.9.6"
  },
  "toc": {
   "base_numbering": 1,
   "nav_menu": {},
   "number_sections": true,
   "sideBar": true,
   "skip_h1_title": false,
   "title_cell": "Table of Contents",
   "title_sidebar": "Contents",
   "toc_cell": false,
   "toc_position": {},
   "toc_section_display": true,
   "toc_window_display": false
  }
 },
 "nbformat": 4,
 "nbformat_minor": 5
}
