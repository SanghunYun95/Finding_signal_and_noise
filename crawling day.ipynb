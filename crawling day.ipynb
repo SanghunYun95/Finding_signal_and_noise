{
 "cells": [
  {
   "cell_type": "code",
   "execution_count": null,
   "id": "69cf8582",
   "metadata": {
    "ExecuteTime": {
     "end_time": "2021-09-04T03:33:39.854888Z",
     "start_time": "2021-09-04T03:33:39.753648Z"
    }
   },
   "outputs": [],
   "source": [
    "import requests\n",
    "\n",
    "item_code = '323990'\n",
    "item_name = '박셀바이오'\n",
    "page_no = 1\n",
    "\n",
    "\n",
    "headers = {'user-agent': 'Mozilla/5.0 (Windows NT 10.0; Win64; x64) AppleWebKit/537.36 (KHTML, like Gecko) Chrome/93.0.4577.63 Safari/537.36'}\n",
    "url = f'https://finance.naver.com/item/sise_day.nhn?code={item_code}&page={page_no}'\n",
    "\n",
    "response = requests.get(url, headers=headers)\n",
    "response.text"
   ]
  },
  {
   "cell_type": "code",
   "execution_count": null,
   "id": "d7ba7150",
   "metadata": {
    "ExecuteTime": {
     "end_time": "2021-09-04T03:15:25.244389Z",
     "start_time": "2021-09-04T03:15:25.223283Z"
    }
   },
   "outputs": [],
   "source": [
    "from bs4 import BeautifulSoup as bs\n",
    "\n",
    "html = bs(response.text, 'lxml')\n",
    "table = html.select('table')"
   ]
  },
  {
   "cell_type": "code",
   "execution_count": null,
   "id": "bd9c3eb5",
   "metadata": {
    "ExecuteTime": {
     "end_time": "2021-09-04T03:15:35.758861Z",
     "start_time": "2021-09-04T03:15:35.743548Z"
    }
   },
   "outputs": [],
   "source": [
    "len(table)"
   ]
  },
  {
   "cell_type": "code",
   "execution_count": null,
   "id": "989de392",
   "metadata": {
    "ExecuteTime": {
     "end_time": "2021-09-04T03:17:09.629296Z",
     "start_time": "2021-09-04T03:17:09.593589Z"
    }
   },
   "outputs": [],
   "source": [
    "import pandas as pd\n",
    "pd.read_html(str(table))"
   ]
  },
  {
   "cell_type": "code",
   "execution_count": null,
   "id": "5b9f145a",
   "metadata": {
    "ExecuteTime": {
     "end_time": "2021-09-04T03:18:17.327408Z",
     "start_time": "2021-09-04T03:18:17.287459Z"
    }
   },
   "outputs": [],
   "source": [
    "temp = pd.read_html(str(table))[0].dropna()\n",
    "temp"
   ]
  }
 ],
 "metadata": {
  "kernelspec": {
   "display_name": "stock",
   "language": "python",
   "name": "stock"
  },
  "language_info": {
   "codemirror_mode": {
    "name": "ipython",
    "version": 3
   },
   "file_extension": ".py",
   "mimetype": "text/x-python",
   "name": "python",
   "nbconvert_exporter": "python",
   "pygments_lexer": "ipython3",
   "version": "3.9.6"
  },
  "toc": {
   "base_numbering": 1,
   "nav_menu": {},
   "number_sections": true,
   "sideBar": true,
   "skip_h1_title": false,
   "title_cell": "Table of Contents",
   "title_sidebar": "Contents",
   "toc_cell": false,
   "toc_position": {},
   "toc_section_display": true,
   "toc_window_display": false
  }
 },
 "nbformat": 4,
 "nbformat_minor": 5
}
