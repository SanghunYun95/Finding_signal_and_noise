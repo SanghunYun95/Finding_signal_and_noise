{
 "cells": [
  {
   "cell_type": "code",
   "execution_count": null,
   "id": "b9f9f942",
   "metadata": {},
   "outputs": [],
   "source": [
    "import pandas as pd\n",
    "import numpy as np\n",
    "import seaborn as sns\n",
    "import matplotlib.pyplot as plt\n",
    "\n",
    "\n",
    "def get_font_family():\n",
    "    \"\"\"\n",
    "    시스템 환경에 따른 기본 폰트명을 반환하는함수\n",
    "    \"\"\"\n",
    "    import platform\n",
    "    system_name = platform.system()\n",
    "    # colab 사용자는 system_name이 ' Linux'로 확인\n",
    "    \n",
    "    if system_name == 'Darwin':\n",
    "        font_family = 'AppleGothic'\n",
    "    elif system_name == 'Windows':\n",
    "        font_family = 'Malgun Gothic'\n",
    "    else:\n",
    "        # Linux\n",
    "        # colab에서는 runtime을 <꼭> 재시작 해야 한다.\n",
    "        # 런타임을 재시작 하지 않고 폰트 설치를 하면 기본 설정 폰트가 로드되어 한글이 깨짐\n",
    "        !apt-get update -qq\n",
    "        !apt-get install fonts-nanum -qq > /dev/null\n",
    "        \n",
    "        import matplotlib.font_manager as fm\n",
    "        \n",
    "        fontpath = '/usr/share/fonts/truetype/nanum/NanumBarunGothic.ttf'\n",
    "        font = fm.FontProperties(fname=fontpath, size=9)\n",
    "        fm._rebuild()\n",
    "        font_family = 'NanumBarunGothic'\n",
    "    return font_family\n",
    "\n",
    "font_family = get_font_family()\n",
    "\n",
    "# 그래프 스타일 설정\n",
    "# 그래프 스타일을 밑에서 설정하면 폰트가 깨진다\n",
    "plt.style.use('dark_background')\n",
    "# 폰트설정\n",
    "plt.rc('font', family=font_family)\n",
    "# 마이너스 폰트 설정\n",
    "plt.rc('axes', unicode_minus=False)"
   ]
  },
  {
   "cell_type": "code",
   "execution_count": null,
   "id": "8d281f91",
   "metadata": {},
   "outputs": [],
   "source": [
    "import time\n",
    "\n",
    "def get_item_info(item_code):\n",
    "    item_url = f'https://finance.naver.com/item/main.nhn?code={item_code}'\n",
    "    tables = pd.read_html(item_url, encoding='cp949')\n",
    "    item_info = []\n",
    "    finance_info = tables[3].iloc[:, [0, -1]]\n",
    "    finance_info.columns = [0, 1]\n",
    "    finance_info\n",
    "    for t in tables:\n",
    "    # [1]은 column을 의미\n",
    "        if t.shape[1] == 2:\n",
    "            item_info.append(t)\n",
    "    df_item = pd.concat(item_info)\n",
    "    df_item = df_item.set_index(0).T\n",
    "    tiem.sleep(0.1)\n",
    "    return df_item"
   ]
  },
  {
   "cell_type": "code",
   "execution_count": null,
   "id": "5d3b0c58",
   "metadata": {},
   "outputs": [],
   "source": [
    "from tqdm.auto import tqdm\n",
    "tqdm.pandas()"
   ]
  }
 ],
 "metadata": {
  "kernelspec": {
   "display_name": "stock",
   "language": "python",
   "name": "stock"
  },
  "language_info": {
   "codemirror_mode": {
    "name": "ipython",
    "version": 3
   },
   "file_extension": ".py",
   "mimetype": "text/x-python",
   "name": "python",
   "nbconvert_exporter": "python",
   "pygments_lexer": "ipython3",
   "version": "3.9.6"
  },
  "toc": {
   "base_numbering": 1,
   "nav_menu": {},
   "number_sections": true,
   "sideBar": true,
   "skip_h1_title": false,
   "title_cell": "Table of Contents",
   "title_sidebar": "Contents",
   "toc_cell": false,
   "toc_position": {},
   "toc_section_display": true,
   "toc_window_display": false
  }
 },
 "nbformat": 4,
 "nbformat_minor": 5
}
