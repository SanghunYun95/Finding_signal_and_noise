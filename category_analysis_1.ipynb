{
 "cells": [
  {
   "cell_type": "code",
   "execution_count": 1,
   "id": "c71f76fd",
   "metadata": {
    "ExecuteTime": {
     "end_time": "2021-09-11T09:31:10.900330Z",
     "start_time": "2021-09-11T09:31:07.923364Z"
    }
   },
   "outputs": [
    {
     "data": {
      "text/html": [
       "<div>\n",
       "<style scoped>\n",
       "    .dataframe tbody tr th:only-of-type {\n",
       "        vertical-align: middle;\n",
       "    }\n",
       "\n",
       "    .dataframe tbody tr th {\n",
       "        vertical-align: top;\n",
       "    }\n",
       "\n",
       "    .dataframe thead th {\n",
       "        text-align: right;\n",
       "    }\n",
       "</style>\n",
       "<table border=\"1\" class=\"dataframe\">\n",
       "  <thead>\n",
       "    <tr style=\"text-align: right;\">\n",
       "      <th></th>\n",
       "      <th>종목코드</th>\n",
       "      <th>탭코드</th>\n",
       "      <th>종목명</th>\n",
       "      <th>현재가</th>\n",
       "      <th>등락구분</th>\n",
       "      <th>전일비</th>\n",
       "      <th>등락률</th>\n",
       "      <th>순자산가치(NAV)</th>\n",
       "      <th>3개월수익률</th>\n",
       "      <th>거래량</th>\n",
       "      <th>거래대금(백만)</th>\n",
       "      <th>시가총액(억)</th>\n",
       "      <th>유형</th>\n",
       "      <th>브랜드</th>\n",
       "      <th>인버스</th>\n",
       "      <th>레버리지</th>\n",
       "      <th>환헤지H</th>\n",
       "    </tr>\n",
       "  </thead>\n",
       "  <tbody>\n",
       "    <tr>\n",
       "      <th>0</th>\n",
       "      <td>069500</td>\n",
       "      <td>1</td>\n",
       "      <td>KODEX 200</td>\n",
       "      <td>41930</td>\n",
       "      <td>2</td>\n",
       "      <td>270</td>\n",
       "      <td>0.65</td>\n",
       "      <td>41979.0</td>\n",
       "      <td>-3.1976</td>\n",
       "      <td>2807005</td>\n",
       "      <td>117551</td>\n",
       "      <td>54593</td>\n",
       "      <td>국내 시장지수</td>\n",
       "      <td>KODEX</td>\n",
       "      <td>False</td>\n",
       "      <td>False</td>\n",
       "      <td>False</td>\n",
       "    </tr>\n",
       "    <tr>\n",
       "      <th>1</th>\n",
       "      <td>102110</td>\n",
       "      <td>1</td>\n",
       "      <td>TIGER 200</td>\n",
       "      <td>41960</td>\n",
       "      <td>2</td>\n",
       "      <td>270</td>\n",
       "      <td>0.65</td>\n",
       "      <td>42009.0</td>\n",
       "      <td>-3.1484</td>\n",
       "      <td>992124</td>\n",
       "      <td>41597</td>\n",
       "      <td>23225</td>\n",
       "      <td>국내 시장지수</td>\n",
       "      <td>TIGER</td>\n",
       "      <td>False</td>\n",
       "      <td>False</td>\n",
       "      <td>False</td>\n",
       "    </tr>\n",
       "    <tr>\n",
       "      <th>2</th>\n",
       "      <td>153130</td>\n",
       "      <td>6</td>\n",
       "      <td>KODEX 단기채권</td>\n",
       "      <td>102885</td>\n",
       "      <td>2</td>\n",
       "      <td>10</td>\n",
       "      <td>0.01</td>\n",
       "      <td>102883.0</td>\n",
       "      <td>0.0291</td>\n",
       "      <td>7598</td>\n",
       "      <td>781</td>\n",
       "      <td>20968</td>\n",
       "      <td>채권</td>\n",
       "      <td>KODEX</td>\n",
       "      <td>False</td>\n",
       "      <td>False</td>\n",
       "      <td>False</td>\n",
       "    </tr>\n",
       "    <tr>\n",
       "      <th>3</th>\n",
       "      <td>252670</td>\n",
       "      <td>3</td>\n",
       "      <td>KODEX 200선물인버스2X</td>\n",
       "      <td>2000</td>\n",
       "      <td>5</td>\n",
       "      <td>-25</td>\n",
       "      <td>-1.23</td>\n",
       "      <td>2004.0</td>\n",
       "      <td>5.2631</td>\n",
       "      <td>113442718</td>\n",
       "      <td>227795</td>\n",
       "      <td>20042</td>\n",
       "      <td>국내 파생</td>\n",
       "      <td>KODEX</td>\n",
       "      <td>True</td>\n",
       "      <td>False</td>\n",
       "      <td>False</td>\n",
       "    </tr>\n",
       "    <tr>\n",
       "      <th>4</th>\n",
       "      <td>371460</td>\n",
       "      <td>4</td>\n",
       "      <td>TIGER 차이나전기차SOLACTIVE</td>\n",
       "      <td>16480</td>\n",
       "      <td>5</td>\n",
       "      <td>-670</td>\n",
       "      <td>-3.91</td>\n",
       "      <td>NaN</td>\n",
       "      <td>26.3319</td>\n",
       "      <td>12395343</td>\n",
       "      <td>207101</td>\n",
       "      <td>18702</td>\n",
       "      <td>해외 주식</td>\n",
       "      <td>TIGER</td>\n",
       "      <td>False</td>\n",
       "      <td>False</td>\n",
       "      <td>False</td>\n",
       "    </tr>\n",
       "  </tbody>\n",
       "</table>\n",
       "</div>"
      ],
      "text/plain": [
       "     종목코드  탭코드                    종목명     현재가  등락구분  전일비   등락률  순자산가치(NAV)  \\\n",
       "0  069500    1              KODEX 200   41930     2  270  0.65     41979.0   \n",
       "1  102110    1              TIGER 200   41960     2  270  0.65     42009.0   \n",
       "2  153130    6             KODEX 단기채권  102885     2   10  0.01    102883.0   \n",
       "3  252670    3       KODEX 200선물인버스2X    2000     5  -25 -1.23      2004.0   \n",
       "4  371460    4  TIGER 차이나전기차SOLACTIVE   16480     5 -670 -3.91         NaN   \n",
       "\n",
       "    3개월수익률        거래량  거래대금(백만)  시가총액(억)       유형    브랜드    인버스   레버리지   환헤지H  \n",
       "0  -3.1976    2807005    117551    54593  국내 시장지수  KODEX  False  False  False  \n",
       "1  -3.1484     992124     41597    23225  국내 시장지수  TIGER  False  False  False  \n",
       "2   0.0291       7598       781    20968       채권  KODEX  False  False  False  \n",
       "3   5.2631  113442718    227795    20042    국내 파생  KODEX   True  False  False  \n",
       "4  26.3319   12395343    207101    18702    해외 주식  TIGER  False  False  False  "
      ]
     },
     "execution_count": 1,
     "metadata": {},
     "output_type": "execute_result"
    }
   ],
   "source": [
    "import pandas as pd\n",
    "import numpy as np\n",
    "import seaborn as sns\n",
    "import matplotlib.pyplot as plt\n",
    "\n",
    "\n",
    "def get_font_family():\n",
    "    \"\"\"\n",
    "    시스템 환경에 따른 기본 폰트명을 반환하는함수\n",
    "    \"\"\"\n",
    "    import platform\n",
    "    system_name = platform.system()\n",
    "    # colab 사용자는 system_name이 ' Linux'로 확인\n",
    "    \n",
    "    if system_name == 'Darwin':\n",
    "        font_family = 'AppleGothic'\n",
    "    elif system_name == 'Windows':\n",
    "        font_family = 'Malgun Gothic'\n",
    "    else:\n",
    "        # Linux\n",
    "        # colab에서는 runtime을 <꼭> 재시작 해야 한다.\n",
    "        # 런타임을 재시작 하지 않고 폰트 설치를 하면 기본 설정 폰트가 로드되어 한글이 깨짐\n",
    "        !apt-get update -qq\n",
    "        !apt-get install fonts-nanum -qq > /dev/null\n",
    "        \n",
    "        import matplotlib.font_manager as fm\n",
    "        \n",
    "        fontpath = '/usr/share/fonts/truetype/nanum/NanumBarunGothic.ttf'\n",
    "        font = fm.FontProperties(fname=fontpath, size=9)\n",
    "        fm._rebuild()\n",
    "        font_family = 'NanumBarunGothic'\n",
    "    return font_family\n",
    "\n",
    "font_family = get_font_family()\n",
    "\n",
    "# 그래프 스타일 설정\n",
    "# 그래프 스타일을 밑에서 설정하면 폰트가 깨진다\n",
    "plt.style.use('dark_background')\n",
    "# 폰트설정\n",
    "plt.rc('font', family=font_family)\n",
    "# 마이너스 폰트 설정\n",
    "plt.rc('axes', unicode_minus=False)\n",
    "\n",
    "\n",
    "df = pd.read_csv('eft_2021-09-04.csv', dtype={'종목코드': object})\n",
    "df.head()"
   ]
  },
  {
   "cell_type": "code",
   "execution_count": 2,
   "id": "90d35be3",
   "metadata": {
    "ExecuteTime": {
     "end_time": "2021-09-11T09:31:12.112811Z",
     "start_time": "2021-09-11T09:31:10.908317Z"
    }
   },
   "outputs": [
    {
     "data": {
      "text/plain": [
       "3"
      ]
     },
     "execution_count": 2,
     "metadata": {},
     "output_type": "execute_result"
    }
   ],
   "source": [
    "# 업종: 제약\n",
    "url = 'https://finance.naver.com/sise/sise_group_detail.nhn?type=upjong&no=261'\n",
    "\n",
    "table = pd.read_html(url, encoding='cp949')\n",
    "len(table)"
   ]
  },
  {
   "cell_type": "code",
   "execution_count": 3,
   "id": "104df356",
   "metadata": {
    "ExecuteTime": {
     "end_time": "2021-09-11T09:31:12.174998Z",
     "start_time": "2021-09-11T09:31:12.117837Z"
    }
   },
   "outputs": [
    {
     "name": "stdout",
     "output_type": "stream",
     "text": [
      "(152, 12)\n"
     ]
    },
    {
     "data": {
      "text/plain": [
       "(149, 9)"
      ]
     },
     "execution_count": 3,
     "metadata": {},
     "output_type": "execute_result"
    }
   ],
   "source": [
    "raw = table[2]\n",
    "print(raw.shape)\n",
    "# 전체가 NaN일 때만,      컬럼\n",
    "raw = raw.dropna(how='all').dropna(axis=1, how='all')\n",
    "raw.shape"
   ]
  },
  {
   "cell_type": "code",
   "execution_count": 4,
   "id": "8e2cbc63",
   "metadata": {
    "ExecuteTime": {
     "end_time": "2021-09-11T09:31:12.235924Z",
     "start_time": "2021-09-11T09:31:12.183481Z"
    }
   },
   "outputs": [
    {
     "data": {
      "text/html": [
       "<div>\n",
       "<style scoped>\n",
       "    .dataframe tbody tr th:only-of-type {\n",
       "        vertical-align: middle;\n",
       "    }\n",
       "\n",
       "    .dataframe tbody tr th {\n",
       "        vertical-align: top;\n",
       "    }\n",
       "\n",
       "    .dataframe thead th {\n",
       "        text-align: right;\n",
       "    }\n",
       "</style>\n",
       "<table border=\"1\" class=\"dataframe\">\n",
       "  <thead>\n",
       "    <tr style=\"text-align: right;\">\n",
       "      <th></th>\n",
       "      <th>종목명</th>\n",
       "      <th>현재가</th>\n",
       "      <th>전일비</th>\n",
       "      <th>등락률</th>\n",
       "      <th>매수호가</th>\n",
       "      <th>매도호가</th>\n",
       "      <th>거래량</th>\n",
       "      <th>거래대금</th>\n",
       "      <th>전일거래량</th>\n",
       "    </tr>\n",
       "  </thead>\n",
       "  <tbody>\n",
       "    <tr>\n",
       "      <th>1</th>\n",
       "      <td>한국파마 *</td>\n",
       "      <td>78100.0</td>\n",
       "      <td>8600.0</td>\n",
       "      <td>+12.37%</td>\n",
       "      <td>78100.0</td>\n",
       "      <td>78200.0</td>\n",
       "      <td>3588899.0</td>\n",
       "      <td>279786.0</td>\n",
       "      <td>688406.0</td>\n",
       "    </tr>\n",
       "    <tr>\n",
       "      <th>2</th>\n",
       "      <td>삼아제약 *</td>\n",
       "      <td>23050.0</td>\n",
       "      <td>1550.0</td>\n",
       "      <td>+7.21%</td>\n",
       "      <td>23000.0</td>\n",
       "      <td>23050.0</td>\n",
       "      <td>226300.0</td>\n",
       "      <td>5151.0</td>\n",
       "      <td>219443.0</td>\n",
       "    </tr>\n",
       "    <tr>\n",
       "      <th>3</th>\n",
       "      <td>코스맥스엔비티 *</td>\n",
       "      <td>9210.0</td>\n",
       "      <td>580.0</td>\n",
       "      <td>+6.72%</td>\n",
       "      <td>9200.0</td>\n",
       "      <td>9210.0</td>\n",
       "      <td>191697.0</td>\n",
       "      <td>1733.0</td>\n",
       "      <td>127164.0</td>\n",
       "    </tr>\n",
       "    <tr>\n",
       "      <th>4</th>\n",
       "      <td>지엘팜텍 *</td>\n",
       "      <td>1455.0</td>\n",
       "      <td>85.0</td>\n",
       "      <td>+6.20%</td>\n",
       "      <td>1450.0</td>\n",
       "      <td>1455.0</td>\n",
       "      <td>6712248.0</td>\n",
       "      <td>9666.0</td>\n",
       "      <td>12967049.0</td>\n",
       "    </tr>\n",
       "    <tr>\n",
       "      <th>5</th>\n",
       "      <td>이수앱지스 *</td>\n",
       "      <td>16350.0</td>\n",
       "      <td>950.0</td>\n",
       "      <td>+6.17%</td>\n",
       "      <td>16350.0</td>\n",
       "      <td>16400.0</td>\n",
       "      <td>1619361.0</td>\n",
       "      <td>25924.0</td>\n",
       "      <td>492397.0</td>\n",
       "    </tr>\n",
       "  </tbody>\n",
       "</table>\n",
       "</div>"
      ],
      "text/plain": [
       "         종목명      현재가     전일비      등락률     매수호가     매도호가        거래량      거래대금  \\\n",
       "1     한국파마 *  78100.0  8600.0  +12.37%  78100.0  78200.0  3588899.0  279786.0   \n",
       "2     삼아제약 *  23050.0  1550.0   +7.21%  23000.0  23050.0   226300.0    5151.0   \n",
       "3  코스맥스엔비티 *   9210.0   580.0   +6.72%   9200.0   9210.0   191697.0    1733.0   \n",
       "4     지엘팜텍 *   1455.0    85.0   +6.20%   1450.0   1455.0  6712248.0    9666.0   \n",
       "5    이수앱지스 *  16350.0   950.0   +6.17%  16350.0  16400.0  1619361.0   25924.0   \n",
       "\n",
       "        전일거래량  \n",
       "1    688406.0  \n",
       "2    219443.0  \n",
       "3    127164.0  \n",
       "4  12967049.0  \n",
       "5    492397.0  "
      ]
     },
     "execution_count": 4,
     "metadata": {},
     "output_type": "execute_result"
    }
   ],
   "source": [
    "raw.head()"
   ]
  },
  {
   "cell_type": "code",
   "execution_count": 5,
   "id": "f4dbff13",
   "metadata": {
    "ExecuteTime": {
     "end_time": "2021-09-11T09:31:12.266119Z",
     "start_time": "2021-09-11T09:31:12.241843Z"
    }
   },
   "outputs": [
    {
     "data": {
      "text/plain": [
       "'2021-09-11'"
      ]
     },
     "execution_count": 5,
     "metadata": {},
     "output_type": "execute_result"
    }
   ],
   "source": [
    "import datetime\n",
    "today = datetime.datetime.today()\n",
    "today = today.strftime('%Y-%m-%d')\n",
    "today"
   ]
  },
  {
   "cell_type": "code",
   "execution_count": 6,
   "id": "d2b05ad6",
   "metadata": {
    "ExecuteTime": {
     "end_time": "2021-09-11T09:31:12.312961Z",
     "start_time": "2021-09-11T09:31:12.270520Z"
    }
   },
   "outputs": [
    {
     "data": {
      "text/html": [
       "<div>\n",
       "<style scoped>\n",
       "    .dataframe tbody tr th:only-of-type {\n",
       "        vertical-align: middle;\n",
       "    }\n",
       "\n",
       "    .dataframe tbody tr th {\n",
       "        vertical-align: top;\n",
       "    }\n",
       "\n",
       "    .dataframe thead th {\n",
       "        text-align: right;\n",
       "    }\n",
       "</style>\n",
       "<table border=\"1\" class=\"dataframe\">\n",
       "  <thead>\n",
       "    <tr style=\"text-align: right;\">\n",
       "      <th></th>\n",
       "      <th>종목명</th>\n",
       "      <th>현재가</th>\n",
       "      <th>전일비</th>\n",
       "      <th>등락률</th>\n",
       "      <th>매수호가</th>\n",
       "      <th>매도호가</th>\n",
       "      <th>거래량</th>\n",
       "      <th>거래대금</th>\n",
       "      <th>전일거래량</th>\n",
       "      <th>조회일자</th>\n",
       "    </tr>\n",
       "  </thead>\n",
       "  <tbody>\n",
       "    <tr>\n",
       "      <th>1</th>\n",
       "      <td>한국파마 *</td>\n",
       "      <td>78100.0</td>\n",
       "      <td>8600.0</td>\n",
       "      <td>+12.37%</td>\n",
       "      <td>78100.0</td>\n",
       "      <td>78200.0</td>\n",
       "      <td>3588899.0</td>\n",
       "      <td>279786.0</td>\n",
       "      <td>688406.0</td>\n",
       "      <td>2021-09-11</td>\n",
       "    </tr>\n",
       "    <tr>\n",
       "      <th>2</th>\n",
       "      <td>삼아제약 *</td>\n",
       "      <td>23050.0</td>\n",
       "      <td>1550.0</td>\n",
       "      <td>+7.21%</td>\n",
       "      <td>23000.0</td>\n",
       "      <td>23050.0</td>\n",
       "      <td>226300.0</td>\n",
       "      <td>5151.0</td>\n",
       "      <td>219443.0</td>\n",
       "      <td>2021-09-11</td>\n",
       "    </tr>\n",
       "    <tr>\n",
       "      <th>3</th>\n",
       "      <td>코스맥스엔비티 *</td>\n",
       "      <td>9210.0</td>\n",
       "      <td>580.0</td>\n",
       "      <td>+6.72%</td>\n",
       "      <td>9200.0</td>\n",
       "      <td>9210.0</td>\n",
       "      <td>191697.0</td>\n",
       "      <td>1733.0</td>\n",
       "      <td>127164.0</td>\n",
       "      <td>2021-09-11</td>\n",
       "    </tr>\n",
       "    <tr>\n",
       "      <th>4</th>\n",
       "      <td>지엘팜텍 *</td>\n",
       "      <td>1455.0</td>\n",
       "      <td>85.0</td>\n",
       "      <td>+6.20%</td>\n",
       "      <td>1450.0</td>\n",
       "      <td>1455.0</td>\n",
       "      <td>6712248.0</td>\n",
       "      <td>9666.0</td>\n",
       "      <td>12967049.0</td>\n",
       "      <td>2021-09-11</td>\n",
       "    </tr>\n",
       "    <tr>\n",
       "      <th>5</th>\n",
       "      <td>이수앱지스 *</td>\n",
       "      <td>16350.0</td>\n",
       "      <td>950.0</td>\n",
       "      <td>+6.17%</td>\n",
       "      <td>16350.0</td>\n",
       "      <td>16400.0</td>\n",
       "      <td>1619361.0</td>\n",
       "      <td>25924.0</td>\n",
       "      <td>492397.0</td>\n",
       "      <td>2021-09-11</td>\n",
       "    </tr>\n",
       "  </tbody>\n",
       "</table>\n",
       "</div>"
      ],
      "text/plain": [
       "         종목명      현재가     전일비      등락률     매수호가     매도호가        거래량      거래대금  \\\n",
       "1     한국파마 *  78100.0  8600.0  +12.37%  78100.0  78200.0  3588899.0  279786.0   \n",
       "2     삼아제약 *  23050.0  1550.0   +7.21%  23000.0  23050.0   226300.0    5151.0   \n",
       "3  코스맥스엔비티 *   9210.0   580.0   +6.72%   9200.0   9210.0   191697.0    1733.0   \n",
       "4     지엘팜텍 *   1455.0    85.0   +6.20%   1450.0   1455.0  6712248.0    9666.0   \n",
       "5    이수앱지스 *  16350.0   950.0   +6.17%  16350.0  16400.0  1619361.0   25924.0   \n",
       "\n",
       "        전일거래량        조회일자  \n",
       "1    688406.0  2021-09-11  \n",
       "2    219443.0  2021-09-11  \n",
       "3    127164.0  2021-09-11  \n",
       "4  12967049.0  2021-09-11  \n",
       "5    492397.0  2021-09-11  "
      ]
     },
     "execution_count": 6,
     "metadata": {},
     "output_type": "execute_result"
    }
   ],
   "source": [
    "raw['조회일자'] = today\n",
    "raw.head()"
   ]
  },
  {
   "cell_type": "code",
   "execution_count": 7,
   "id": "ce59ea3b",
   "metadata": {
    "ExecuteTime": {
     "end_time": "2021-09-11T09:31:12.359001Z",
     "start_time": "2021-09-11T09:31:12.316912Z"
    }
   },
   "outputs": [
    {
     "data": {
      "text/html": [
       "<div>\n",
       "<style scoped>\n",
       "    .dataframe tbody tr th:only-of-type {\n",
       "        vertical-align: middle;\n",
       "    }\n",
       "\n",
       "    .dataframe tbody tr th {\n",
       "        vertical-align: top;\n",
       "    }\n",
       "\n",
       "    .dataframe thead th {\n",
       "        text-align: right;\n",
       "    }\n",
       "</style>\n",
       "<table border=\"1\" class=\"dataframe\">\n",
       "  <thead>\n",
       "    <tr style=\"text-align: right;\">\n",
       "      <th></th>\n",
       "      <th>종목명</th>\n",
       "      <th>거래량</th>\n",
       "    </tr>\n",
       "  </thead>\n",
       "  <tbody>\n",
       "    <tr>\n",
       "      <th>45</th>\n",
       "      <td>일양약품우</td>\n",
       "      <td>467.0</td>\n",
       "    </tr>\n",
       "    <tr>\n",
       "      <th>35</th>\n",
       "      <td>유유제약2우B</td>\n",
       "      <td>586.0</td>\n",
       "    </tr>\n",
       "    <tr>\n",
       "      <th>74</th>\n",
       "      <td>JW중외제약우</td>\n",
       "      <td>1024.0</td>\n",
       "    </tr>\n",
       "    <tr>\n",
       "      <th>44</th>\n",
       "      <td>일성신약</td>\n",
       "      <td>1135.0</td>\n",
       "    </tr>\n",
       "    <tr>\n",
       "      <th>10</th>\n",
       "      <td>JW중외제약2우B</td>\n",
       "      <td>1254.0</td>\n",
       "    </tr>\n",
       "    <tr>\n",
       "      <th>...</th>\n",
       "      <td>...</td>\n",
       "      <td>...</td>\n",
       "    </tr>\n",
       "    <tr>\n",
       "      <th>144</th>\n",
       "      <td>국전약품 *</td>\n",
       "      <td>3538279.0</td>\n",
       "    </tr>\n",
       "    <tr>\n",
       "      <th>1</th>\n",
       "      <td>한국파마 *</td>\n",
       "      <td>3588899.0</td>\n",
       "    </tr>\n",
       "    <tr>\n",
       "      <th>12</th>\n",
       "      <td>팜스빌 *</td>\n",
       "      <td>3772153.0</td>\n",
       "    </tr>\n",
       "    <tr>\n",
       "      <th>20</th>\n",
       "      <td>에이치엘비생명과학 *</td>\n",
       "      <td>5249129.0</td>\n",
       "    </tr>\n",
       "    <tr>\n",
       "      <th>4</th>\n",
       "      <td>지엘팜텍 *</td>\n",
       "      <td>6712248.0</td>\n",
       "    </tr>\n",
       "  </tbody>\n",
       "</table>\n",
       "<p>149 rows × 2 columns</p>\n",
       "</div>"
      ],
      "text/plain": [
       "             종목명        거래량\n",
       "45         일양약품우      467.0\n",
       "35       유유제약2우B      586.0\n",
       "74       JW중외제약우     1024.0\n",
       "44          일성신약     1135.0\n",
       "10     JW중외제약2우B     1254.0\n",
       "..           ...        ...\n",
       "144       국전약품 *  3538279.0\n",
       "1         한국파마 *  3588899.0\n",
       "12         팜스빌 *  3772153.0\n",
       "20   에이치엘비생명과학 *  5249129.0\n",
       "4         지엘팜텍 *  6712248.0\n",
       "\n",
       "[149 rows x 2 columns]"
      ]
     },
     "execution_count": 7,
     "metadata": {},
     "output_type": "execute_result"
    }
   ],
   "source": [
    "temp = raw[['종목명', '거래량']].sort_values('거래량')\n",
    "temp"
   ]
  },
  {
   "cell_type": "code",
   "execution_count": 8,
   "id": "bf2976ef",
   "metadata": {
    "ExecuteTime": {
     "end_time": "2021-09-11T09:31:13.380466Z",
     "start_time": "2021-09-11T09:31:12.361646Z"
    }
   },
   "outputs": [
    {
     "data": {
      "text/plain": [
       "<AxesSubplot:ylabel='종목명'>"
      ]
     },
     "execution_count": 8,
     "metadata": {},
     "output_type": "execute_result"
    },
    {
     "data": {
      "image/png": "[encoded data removed]",
      "text/plain": [
       "<Figure size 432x288 with 1 Axes>"
      ]
     },
     "metadata": {},
     "output_type": "display_data"
    }
   ],
   "source": [
    "# 상위 30개 (오름차순 정렬이기 때문에 밑에서 30 == 상위 30)\n",
    "temp.set_index('종목명').tail(30).plot.barh()"
   ]
  },
  {
   "cell_type": "code",
   "execution_count": 9,
   "id": "46667d32",
   "metadata": {
    "ExecuteTime": {
     "end_time": "2021-09-11T09:31:14.032304Z",
     "start_time": "2021-09-11T09:31:13.386458Z"
    }
   },
   "outputs": [
    {
     "data": {
      "text/plain": [
       "<AxesSubplot:ylabel='종목명'>"
      ]
     },
     "execution_count": 9,
     "metadata": {},
     "output_type": "execute_result"
    },
    {
     "data": {
      "image/png": "[encoded data removed]",
      "text/plain": [
       "<Figure size 432x288 with 1 Axes>"
      ]
     },
     "metadata": {},
     "output_type": "display_data"
    }
   ],
   "source": [
    "# ascending=False로 하면 가장 큰 값이 밑으로 간다\n",
    "raw[['종목명', '거래대금']].set_index('종목명').sort_values('거래대금', ascending=False).head(30).plot.barh()"
   ]
  },
  {
   "cell_type": "code",
   "execution_count": 10,
   "id": "450775ba",
   "metadata": {
    "ExecuteTime": {
     "end_time": "2021-09-11T09:31:14.047805Z",
     "start_time": "2021-09-11T09:31:14.037484Z"
    }
   },
   "outputs": [
    {
     "name": "stderr",
     "output_type": "stream",
     "text": [
      "C:\\Users\\ysn65\\AppData\\Local\\Temp/ipykernel_13468/867507199.py:1: FutureWarning: The default value of regex will change from True to False in a future version. In addition, single character regular expressions will *not* be treated as literal strings when regex=True.\n",
      "  raw['종목명_전처리'] = raw['종목명'].str.replace('*', '')\n"
     ]
    }
   ],
   "source": [
    "raw['종목명_전처리'] = raw['종목명'].str.replace('*', '')\n",
    "raw['종목명_전처리'] = raw['종목명_전처리'].str.strip()"
   ]
  },
  {
   "cell_type": "code",
   "execution_count": 11,
   "id": "88124a86",
   "metadata": {
    "ExecuteTime": {
     "end_time": "2021-09-11T09:31:14.078617Z",
     "start_time": "2021-09-11T09:31:14.050798Z"
    }
   },
   "outputs": [
    {
     "data": {
      "text/html": [
       "<div>\n",
       "<style scoped>\n",
       "    .dataframe tbody tr th:only-of-type {\n",
       "        vertical-align: middle;\n",
       "    }\n",
       "\n",
       "    .dataframe tbody tr th {\n",
       "        vertical-align: top;\n",
       "    }\n",
       "\n",
       "    .dataframe thead th {\n",
       "        text-align: right;\n",
       "    }\n",
       "</style>\n",
       "<table border=\"1\" class=\"dataframe\">\n",
       "  <thead>\n",
       "    <tr style=\"text-align: right;\">\n",
       "      <th></th>\n",
       "      <th>종목명</th>\n",
       "      <th>종목명_전처리</th>\n",
       "    </tr>\n",
       "  </thead>\n",
       "  <tbody>\n",
       "    <tr>\n",
       "      <th>1</th>\n",
       "      <td>한국파마 *</td>\n",
       "      <td>한국파마</td>\n",
       "    </tr>\n",
       "    <tr>\n",
       "      <th>2</th>\n",
       "      <td>삼아제약 *</td>\n",
       "      <td>삼아제약</td>\n",
       "    </tr>\n",
       "    <tr>\n",
       "      <th>3</th>\n",
       "      <td>코스맥스엔비티 *</td>\n",
       "      <td>코스맥스엔비티</td>\n",
       "    </tr>\n",
       "    <tr>\n",
       "      <th>4</th>\n",
       "      <td>지엘팜텍 *</td>\n",
       "      <td>지엘팜텍</td>\n",
       "    </tr>\n",
       "    <tr>\n",
       "      <th>5</th>\n",
       "      <td>이수앱지스 *</td>\n",
       "      <td>이수앱지스</td>\n",
       "    </tr>\n",
       "  </tbody>\n",
       "</table>\n",
       "</div>"
      ],
      "text/plain": [
       "         종목명  종목명_전처리\n",
       "1     한국파마 *     한국파마\n",
       "2     삼아제약 *     삼아제약\n",
       "3  코스맥스엔비티 *  코스맥스엔비티\n",
       "4     지엘팜텍 *     지엘팜텍\n",
       "5    이수앱지스 *    이수앱지스"
      ]
     },
     "execution_count": 11,
     "metadata": {},
     "output_type": "execute_result"
    }
   ],
   "source": [
    "raw[['종목명', '종목명_전처리']].head()"
   ]
  },
  {
   "cell_type": "code",
   "execution_count": 12,
   "id": "1b6f952c",
   "metadata": {
    "ExecuteTime": {
     "end_time": "2021-09-11T09:31:21.042418Z",
     "start_time": "2021-09-11T09:31:14.080087Z"
    }
   },
   "outputs": [
    {
     "data": {
      "text/html": [
       "<div>\n",
       "<style scoped>\n",
       "    .dataframe tbody tr th:only-of-type {\n",
       "        vertical-align: middle;\n",
       "    }\n",
       "\n",
       "    .dataframe tbody tr th {\n",
       "        vertical-align: top;\n",
       "    }\n",
       "\n",
       "    .dataframe thead th {\n",
       "        text-align: right;\n",
       "    }\n",
       "</style>\n",
       "<table border=\"1\" class=\"dataframe\">\n",
       "  <thead>\n",
       "    <tr style=\"text-align: right;\">\n",
       "      <th></th>\n",
       "      <th>Symbol</th>\n",
       "      <th>Market</th>\n",
       "      <th>Name</th>\n",
       "      <th>Sector</th>\n",
       "      <th>Industry</th>\n",
       "      <th>ListingDate</th>\n",
       "      <th>SettleMonth</th>\n",
       "      <th>Representative</th>\n",
       "      <th>HomePage</th>\n",
       "      <th>Region</th>\n",
       "    </tr>\n",
       "  </thead>\n",
       "  <tbody>\n",
       "    <tr>\n",
       "      <th>0</th>\n",
       "      <td>060310</td>\n",
       "      <td>KOSDAQ</td>\n",
       "      <td>3S</td>\n",
       "      <td>전자부품 제조업</td>\n",
       "      <td>반도체 웨이퍼 캐리어</td>\n",
       "      <td>2002-04-23</td>\n",
       "      <td>03월</td>\n",
       "      <td>박종익, 김세완 (각자 대표이사)</td>\n",
       "      <td>http://www.3sref.com</td>\n",
       "      <td>서울특별시</td>\n",
       "    </tr>\n",
       "    <tr>\n",
       "      <th>1</th>\n",
       "      <td>095570</td>\n",
       "      <td>KOSPI</td>\n",
       "      <td>AJ네트웍스</td>\n",
       "      <td>산업용 기계 및 장비 임대업</td>\n",
       "      <td>렌탈(파렛트, OA장비, 건설장비)</td>\n",
       "      <td>2015-08-21</td>\n",
       "      <td>12월</td>\n",
       "      <td>박대현</td>\n",
       "      <td>http://www.ajnet.co.kr</td>\n",
       "      <td>서울특별시</td>\n",
       "    </tr>\n",
       "    <tr>\n",
       "      <th>2</th>\n",
       "      <td>006840</td>\n",
       "      <td>KOSPI</td>\n",
       "      <td>AK홀딩스</td>\n",
       "      <td>기타 금융업</td>\n",
       "      <td>지주사업</td>\n",
       "      <td>1999-08-11</td>\n",
       "      <td>12월</td>\n",
       "      <td>채형석, 이석주(각자 대표이사)</td>\n",
       "      <td>http://www.aekyunggroup.co.kr</td>\n",
       "      <td>서울특별시</td>\n",
       "    </tr>\n",
       "    <tr>\n",
       "      <th>3</th>\n",
       "      <td>054620</td>\n",
       "      <td>KOSDAQ</td>\n",
       "      <td>APS홀딩스</td>\n",
       "      <td>기타 금융업</td>\n",
       "      <td>인터넷 트래픽 솔루션</td>\n",
       "      <td>2001-12-04</td>\n",
       "      <td>12월</td>\n",
       "      <td>정기로</td>\n",
       "      <td>http://www.apsholdings.co.kr</td>\n",
       "      <td>경기도</td>\n",
       "    </tr>\n",
       "    <tr>\n",
       "      <th>4</th>\n",
       "      <td>265520</td>\n",
       "      <td>KOSDAQ</td>\n",
       "      <td>AP시스템</td>\n",
       "      <td>특수 목적용 기계 제조업</td>\n",
       "      <td>디스플레이 제조 장비</td>\n",
       "      <td>2017-04-07</td>\n",
       "      <td>12월</td>\n",
       "      <td>김영주</td>\n",
       "      <td>http://www.apsystems.co.kr</td>\n",
       "      <td>경기도</td>\n",
       "    </tr>\n",
       "  </tbody>\n",
       "</table>\n",
       "</div>"
      ],
      "text/plain": [
       "   Symbol  Market    Name           Sector             Industry ListingDate  \\\n",
       "0  060310  KOSDAQ      3S         전자부품 제조업          반도체 웨이퍼 캐리어  2002-04-23   \n",
       "1  095570   KOSPI  AJ네트웍스  산업용 기계 및 장비 임대업  렌탈(파렛트, OA장비, 건설장비)  2015-08-21   \n",
       "2  006840   KOSPI   AK홀딩스           기타 금융업                 지주사업  1999-08-11   \n",
       "3  054620  KOSDAQ  APS홀딩스           기타 금융업          인터넷 트래픽 솔루션  2001-12-04   \n",
       "4  265520  KOSDAQ   AP시스템    특수 목적용 기계 제조업          디스플레이 제조 장비  2017-04-07   \n",
       "\n",
       "  SettleMonth      Representative                       HomePage Region  \n",
       "0         03월  박종익, 김세완 (각자 대표이사)           http://www.3sref.com  서울특별시  \n",
       "1         12월                 박대현         http://www.ajnet.co.kr  서울특별시  \n",
       "2         12월   채형석, 이석주(각자 대표이사)  http://www.aekyunggroup.co.kr  서울특별시  \n",
       "3         12월                 정기로   http://www.apsholdings.co.kr    경기도  \n",
       "4         12월                 김영주     http://www.apsystems.co.kr    경기도  "
      ]
     },
     "execution_count": 12,
     "metadata": {},
     "output_type": "execute_result"
    }
   ],
   "source": [
    "import FinanceDataReader as fdr\n",
    "df_krx = fdr.StockListing('KRX')\n",
    "df_krx.head()"
   ]
  },
  {
   "cell_type": "code",
   "execution_count": 13,
   "id": "b8be6cf4",
   "metadata": {
    "ExecuteTime": {
     "end_time": "2021-09-11T09:31:21.073709Z",
     "start_time": "2021-09-11T09:31:21.044381Z"
    }
   },
   "outputs": [
    {
     "data": {
      "text/html": [
       "<div>\n",
       "<style scoped>\n",
       "    .dataframe tbody tr th:only-of-type {\n",
       "        vertical-align: middle;\n",
       "    }\n",
       "\n",
       "    .dataframe tbody tr th {\n",
       "        vertical-align: top;\n",
       "    }\n",
       "\n",
       "    .dataframe thead th {\n",
       "        text-align: right;\n",
       "    }\n",
       "</style>\n",
       "<table border=\"1\" class=\"dataframe\">\n",
       "  <thead>\n",
       "    <tr style=\"text-align: right;\">\n",
       "      <th></th>\n",
       "      <th>종목코드</th>\n",
       "      <th>종목명_전처리</th>\n",
       "    </tr>\n",
       "  </thead>\n",
       "  <tbody>\n",
       "    <tr>\n",
       "      <th>0</th>\n",
       "      <td>060310</td>\n",
       "      <td>3S</td>\n",
       "    </tr>\n",
       "    <tr>\n",
       "      <th>1</th>\n",
       "      <td>095570</td>\n",
       "      <td>AJ네트웍스</td>\n",
       "    </tr>\n",
       "    <tr>\n",
       "      <th>2</th>\n",
       "      <td>006840</td>\n",
       "      <td>AK홀딩스</td>\n",
       "    </tr>\n",
       "    <tr>\n",
       "      <th>3</th>\n",
       "      <td>054620</td>\n",
       "      <td>APS홀딩스</td>\n",
       "    </tr>\n",
       "    <tr>\n",
       "      <th>4</th>\n",
       "      <td>265520</td>\n",
       "      <td>AP시스템</td>\n",
       "    </tr>\n",
       "  </tbody>\n",
       "</table>\n",
       "</div>"
      ],
      "text/plain": [
       "     종목코드 종목명_전처리\n",
       "0  060310      3S\n",
       "1  095570  AJ네트웍스\n",
       "2  006840   AK홀딩스\n",
       "3  054620  APS홀딩스\n",
       "4  265520   AP시스템"
      ]
     },
     "execution_count": 13,
     "metadata": {},
     "output_type": "execute_result"
    }
   ],
   "source": [
    "df_item_code_name = df_krx[['Symbol', 'Name']]\n",
    "df_item_code_name.columns = ['종목코드', '종목명_전처리']\n",
    "df_item_code_name.head()"
   ]
  },
  {
   "cell_type": "code",
   "execution_count": 14,
   "id": "64dc8fac",
   "metadata": {
    "ExecuteTime": {
     "end_time": "2021-09-11T09:31:21.135232Z",
     "start_time": "2021-09-11T09:31:21.076706Z"
    }
   },
   "outputs": [
    {
     "data": {
      "text/html": [
       "<div>\n",
       "<style scoped>\n",
       "    .dataframe tbody tr th:only-of-type {\n",
       "        vertical-align: middle;\n",
       "    }\n",
       "\n",
       "    .dataframe tbody tr th {\n",
       "        vertical-align: top;\n",
       "    }\n",
       "\n",
       "    .dataframe thead th {\n",
       "        text-align: right;\n",
       "    }\n",
       "</style>\n",
       "<table border=\"1\" class=\"dataframe\">\n",
       "  <thead>\n",
       "    <tr style=\"text-align: right;\">\n",
       "      <th></th>\n",
       "      <th>종목명</th>\n",
       "      <th>현재가</th>\n",
       "      <th>전일비</th>\n",
       "      <th>등락률</th>\n",
       "      <th>매수호가</th>\n",
       "      <th>매도호가</th>\n",
       "      <th>거래량</th>\n",
       "      <th>거래대금</th>\n",
       "      <th>전일거래량</th>\n",
       "      <th>조회일자</th>\n",
       "      <th>종목명_전처리</th>\n",
       "      <th>종목코드</th>\n",
       "    </tr>\n",
       "  </thead>\n",
       "  <tbody>\n",
       "    <tr>\n",
       "      <th>0</th>\n",
       "      <td>한국파마 *</td>\n",
       "      <td>78100.0</td>\n",
       "      <td>8600.0</td>\n",
       "      <td>+12.37%</td>\n",
       "      <td>78100.0</td>\n",
       "      <td>78200.0</td>\n",
       "      <td>3588899.0</td>\n",
       "      <td>279786.0</td>\n",
       "      <td>688406.0</td>\n",
       "      <td>2021-09-11</td>\n",
       "      <td>한국파마</td>\n",
       "      <td>032300</td>\n",
       "    </tr>\n",
       "    <tr>\n",
       "      <th>1</th>\n",
       "      <td>삼아제약 *</td>\n",
       "      <td>23050.0</td>\n",
       "      <td>1550.0</td>\n",
       "      <td>+7.21%</td>\n",
       "      <td>23000.0</td>\n",
       "      <td>23050.0</td>\n",
       "      <td>226300.0</td>\n",
       "      <td>5151.0</td>\n",
       "      <td>219443.0</td>\n",
       "      <td>2021-09-11</td>\n",
       "      <td>삼아제약</td>\n",
       "      <td>009300</td>\n",
       "    </tr>\n",
       "    <tr>\n",
       "      <th>2</th>\n",
       "      <td>코스맥스엔비티 *</td>\n",
       "      <td>9210.0</td>\n",
       "      <td>580.0</td>\n",
       "      <td>+6.72%</td>\n",
       "      <td>9200.0</td>\n",
       "      <td>9210.0</td>\n",
       "      <td>191697.0</td>\n",
       "      <td>1733.0</td>\n",
       "      <td>127164.0</td>\n",
       "      <td>2021-09-11</td>\n",
       "      <td>코스맥스엔비티</td>\n",
       "      <td>222040</td>\n",
       "    </tr>\n",
       "    <tr>\n",
       "      <th>3</th>\n",
       "      <td>지엘팜텍 *</td>\n",
       "      <td>1455.0</td>\n",
       "      <td>85.0</td>\n",
       "      <td>+6.20%</td>\n",
       "      <td>1450.0</td>\n",
       "      <td>1455.0</td>\n",
       "      <td>6712248.0</td>\n",
       "      <td>9666.0</td>\n",
       "      <td>12967049.0</td>\n",
       "      <td>2021-09-11</td>\n",
       "      <td>지엘팜텍</td>\n",
       "      <td>204840</td>\n",
       "    </tr>\n",
       "    <tr>\n",
       "      <th>4</th>\n",
       "      <td>이수앱지스 *</td>\n",
       "      <td>16350.0</td>\n",
       "      <td>950.0</td>\n",
       "      <td>+6.17%</td>\n",
       "      <td>16350.0</td>\n",
       "      <td>16400.0</td>\n",
       "      <td>1619361.0</td>\n",
       "      <td>25924.0</td>\n",
       "      <td>492397.0</td>\n",
       "      <td>2021-09-11</td>\n",
       "      <td>이수앱지스</td>\n",
       "      <td>086890</td>\n",
       "    </tr>\n",
       "  </tbody>\n",
       "</table>\n",
       "</div>"
      ],
      "text/plain": [
       "         종목명      현재가     전일비      등락률     매수호가     매도호가        거래량      거래대금  \\\n",
       "0     한국파마 *  78100.0  8600.0  +12.37%  78100.0  78200.0  3588899.0  279786.0   \n",
       "1     삼아제약 *  23050.0  1550.0   +7.21%  23000.0  23050.0   226300.0    5151.0   \n",
       "2  코스맥스엔비티 *   9210.0   580.0   +6.72%   9200.0   9210.0   191697.0    1733.0   \n",
       "3     지엘팜텍 *   1455.0    85.0   +6.20%   1450.0   1455.0  6712248.0    9666.0   \n",
       "4    이수앱지스 *  16350.0   950.0   +6.17%  16350.0  16400.0  1619361.0   25924.0   \n",
       "\n",
       "        전일거래량        조회일자  종목명_전처리    종목코드  \n",
       "0    688406.0  2021-09-11     한국파마  032300  \n",
       "1    219443.0  2021-09-11     삼아제약  009300  \n",
       "2    127164.0  2021-09-11  코스맥스엔비티  222040  \n",
       "3  12967049.0  2021-09-11     지엘팜텍  204840  \n",
       "4    492397.0  2021-09-11    이수앱지스  086890  "
      ]
     },
     "execution_count": 14,
     "metadata": {},
     "output_type": "execute_result"
    }
   ],
   "source": [
    "df = raw.merge(df_item_code_name, on='종목명_전처리', how='left')\n",
    "df.head()"
   ]
  }
 ],
 "metadata": {
  "kernelspec": {
   "display_name": "stock",
   "language": "python",
   "name": "stock"
  },
  "language_info": {
   "codemirror_mode": {
    "name": "ipython",
    "version": 3
   },
   "file_extension": ".py",
   "mimetype": "text/x-python",
   "name": "python",
   "nbconvert_exporter": "python",
   "pygments_lexer": "ipython3",
   "version": "3.9.6"
  },
  "toc": {
   "base_numbering": 1,
   "nav_menu": {},
   "number_sections": true,
   "sideBar": true,
   "skip_h1_title": false,
   "title_cell": "Table of Contents",
   "title_sidebar": "Contents",
   "toc_cell": false,
   "toc_position": {},
   "toc_section_display": true,
   "toc_window_display": false
  }
 },
 "nbformat": 4,
 "nbformat_minor": 5
}
