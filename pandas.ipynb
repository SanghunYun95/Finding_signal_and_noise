{
 "cells": [
  {
   "cell_type": "code",
   "execution_count": 2,
   "id": "157a5254",
   "metadata": {
    "ExecuteTime": {
     "end_time": "2021-09-01T13:25:14.385744Z",
     "start_time": "2021-09-01T13:25:13.342109Z"
    }
   },
   "outputs": [],
   "source": [
    "import pandas as pd\n",
    "import seaborn as sns"
   ]
  },
  {
   "cell_type": "code",
   "execution_count": 3,
   "id": "4a80612f",
   "metadata": {
    "ExecuteTime": {
     "end_time": "2021-09-01T13:25:15.080624Z",
     "start_time": "2021-09-01T13:25:15.037844Z"
    }
   },
   "outputs": [
    {
     "data": {
      "text/plain": [
       "(7181, 10)"
      ]
     },
     "execution_count": 3,
     "metadata": {},
     "output_type": "execute_result"
    }
   ],
   "source": [
    "# oread_csv문자./krx.csv의미한다\n",
    "# Symbol같은 경우 앞에 0이 들어가 있기 때문에 숫자로 변환되면서 0이 누락되는 것을 방지하기 위함\n",
    "df = pd.read_csv('krx.csv', dtype={'Symbol':object})\n",
    "df.shape"
   ]
  },
  {
   "cell_type": "code",
   "execution_count": 3,
   "id": "a4160d19",
   "metadata": {
    "ExecuteTime": {
     "end_time": "2021-08-31T12:17:25.834015Z",
     "start_time": "2021-08-31T12:17:25.780467Z"
    }
   },
   "outputs": [
    {
     "data": {
      "text/html": [
       "<div>\n",
       "<style scoped>\n",
       "    .dataframe tbody tr th:only-of-type {\n",
       "        vertical-align: middle;\n",
       "    }\n",
       "\n",
       "    .dataframe tbody tr th {\n",
       "        vertical-align: top;\n",
       "    }\n",
       "\n",
       "    .dataframe thead th {\n",
       "        text-align: right;\n",
       "    }\n",
       "</style>\n",
       "<table border=\"1\" class=\"dataframe\">\n",
       "  <thead>\n",
       "    <tr style=\"text-align: right;\">\n",
       "      <th></th>\n",
       "      <th>Symbol</th>\n",
       "      <th>Market</th>\n",
       "      <th>Name</th>\n",
       "      <th>Sector</th>\n",
       "      <th>Industry</th>\n",
       "      <th>ListingDate</th>\n",
       "      <th>SettleMonth</th>\n",
       "      <th>Representative</th>\n",
       "      <th>HomePage</th>\n",
       "      <th>Region</th>\n",
       "    </tr>\n",
       "  </thead>\n",
       "  <tbody>\n",
       "    <tr>\n",
       "      <th>count</th>\n",
       "      <td>7181</td>\n",
       "      <td>7181</td>\n",
       "      <td>7181</td>\n",
       "      <td>2458</td>\n",
       "      <td>2439</td>\n",
       "      <td>2458</td>\n",
       "      <td>2458</td>\n",
       "      <td>2458</td>\n",
       "      <td>2278</td>\n",
       "      <td>2458</td>\n",
       "    </tr>\n",
       "    <tr>\n",
       "      <th>unique</th>\n",
       "      <td>7181</td>\n",
       "      <td>3</td>\n",
       "      <td>7181</td>\n",
       "      <td>160</td>\n",
       "      <td>2283</td>\n",
       "      <td>1815</td>\n",
       "      <td>9</td>\n",
       "      <td>2331</td>\n",
       "      <td>2257</td>\n",
       "      <td>22</td>\n",
       "    </tr>\n",
       "    <tr>\n",
       "      <th>top</th>\n",
       "      <td>060310</td>\n",
       "      <td>KOSPI</td>\n",
       "      <td>3S</td>\n",
       "      <td>소프트웨어 개발 및 공급업</td>\n",
       "      <td>기업인수합병</td>\n",
       "      <td>1996-07-03</td>\n",
       "      <td>12월</td>\n",
       "      <td>-</td>\n",
       "      <td>http://www.maeil.com</td>\n",
       "      <td>서울특별시</td>\n",
       "    </tr>\n",
       "    <tr>\n",
       "      <th>freq</th>\n",
       "      <td>1</td>\n",
       "      <td>5515</td>\n",
       "      <td>1</td>\n",
       "      <td>146</td>\n",
       "      <td>36</td>\n",
       "      <td>8</td>\n",
       "      <td>2397</td>\n",
       "      <td>5</td>\n",
       "      <td>2</td>\n",
       "      <td>997</td>\n",
       "    </tr>\n",
       "  </tbody>\n",
       "</table>\n",
       "</div>"
      ],
      "text/plain": [
       "        Symbol Market  Name          Sector Industry ListingDate SettleMonth  \\\n",
       "count     7181   7181  7181            2458     2439        2458        2458   \n",
       "unique    7181      3  7181             160     2283        1815           9   \n",
       "top     060310  KOSPI    3S  소프트웨어 개발 및 공급업   기업인수합병  1996-07-03         12월   \n",
       "freq         1   5515     1             146       36           8        2397   \n",
       "\n",
       "       Representative              HomePage Region  \n",
       "count            2458                  2278   2458  \n",
       "unique           2331                  2257     22  \n",
       "top                 -  http://www.maeil.com  서울특별시  \n",
       "freq                5                     2    997  "
      ]
     },
     "execution_count": 3,
     "metadata": {},
     "output_type": "execute_result"
    }
   ],
   "source": [
    "df.describe()"
   ]
  },
  {
   "cell_type": "code",
   "execution_count": 8,
   "id": "8d440d8f",
   "metadata": {
    "ExecuteTime": {
     "end_time": "2021-08-31T12:31:42.667677Z",
     "start_time": "2021-08-31T12:31:42.644699Z"
    }
   },
   "outputs": [
    {
     "data": {
      "text/html": [
       "<div>\n",
       "<style scoped>\n",
       "    .dataframe tbody tr th:only-of-type {\n",
       "        vertical-align: middle;\n",
       "    }\n",
       "\n",
       "    .dataframe tbody tr th {\n",
       "        vertical-align: top;\n",
       "    }\n",
       "\n",
       "    .dataframe thead th {\n",
       "        text-align: right;\n",
       "    }\n",
       "</style>\n",
       "<table border=\"1\" class=\"dataframe\">\n",
       "  <thead>\n",
       "    <tr style=\"text-align: right;\">\n",
       "      <th></th>\n",
       "      <th>Symbol</th>\n",
       "      <th>Market</th>\n",
       "      <th>Name</th>\n",
       "      <th>Sector</th>\n",
       "      <th>Industry</th>\n",
       "      <th>ListingDate</th>\n",
       "      <th>SettleMonth</th>\n",
       "      <th>Representative</th>\n",
       "      <th>HomePage</th>\n",
       "      <th>Region</th>\n",
       "    </tr>\n",
       "  </thead>\n",
       "  <tbody>\n",
       "    <tr>\n",
       "      <th>1</th>\n",
       "      <td>095570</td>\n",
       "      <td>KOSPI</td>\n",
       "      <td>AJ네트웍스</td>\n",
       "      <td>산업용 기계 및 장비 임대업</td>\n",
       "      <td>렌탈(파렛트, OA장비, 건설장비)</td>\n",
       "      <td>2015-08-21</td>\n",
       "      <td>12월</td>\n",
       "      <td>박대현</td>\n",
       "      <td>http://www.ajnet.co.kr</td>\n",
       "      <td>서울특별시</td>\n",
       "    </tr>\n",
       "    <tr>\n",
       "      <th>2</th>\n",
       "      <td>006840</td>\n",
       "      <td>KOSPI</td>\n",
       "      <td>AK홀딩스</td>\n",
       "      <td>기타 금융업</td>\n",
       "      <td>지주사업</td>\n",
       "      <td>1999-08-11</td>\n",
       "      <td>12월</td>\n",
       "      <td>채형석, 이석주(각자 대표이사)</td>\n",
       "      <td>http://www.aekyunggroup.co.kr</td>\n",
       "      <td>서울특별시</td>\n",
       "    </tr>\n",
       "    <tr>\n",
       "      <th>48</th>\n",
       "      <td>027410</td>\n",
       "      <td>KOSPI</td>\n",
       "      <td>BGF</td>\n",
       "      <td>기타 금융업</td>\n",
       "      <td>지주회사</td>\n",
       "      <td>2014-05-19</td>\n",
       "      <td>12월</td>\n",
       "      <td>홍정국</td>\n",
       "      <td>http://www.bgf.co.kr</td>\n",
       "      <td>서울특별시</td>\n",
       "    </tr>\n",
       "    <tr>\n",
       "      <th>49</th>\n",
       "      <td>282330</td>\n",
       "      <td>KOSPI</td>\n",
       "      <td>BGF리테일</td>\n",
       "      <td>종합 소매업</td>\n",
       "      <td>체인화 편의점</td>\n",
       "      <td>2017-12-08</td>\n",
       "      <td>12월</td>\n",
       "      <td>이건준</td>\n",
       "      <td>http://www.bgfretail.com</td>\n",
       "      <td>서울특별시</td>\n",
       "    </tr>\n",
       "    <tr>\n",
       "      <th>51</th>\n",
       "      <td>001460</td>\n",
       "      <td>KOSPI</td>\n",
       "      <td>BYC</td>\n",
       "      <td>봉제의복 제조업</td>\n",
       "      <td>메리야스,란제리 제조,도매/건축공사/부동산 임대,분양,공급</td>\n",
       "      <td>1975-06-02</td>\n",
       "      <td>12월</td>\n",
       "      <td>김 대 환</td>\n",
       "      <td>http://home.byc.co.kr</td>\n",
       "      <td>서울특별시</td>\n",
       "    </tr>\n",
       "    <tr>\n",
       "      <th>...</th>\n",
       "      <td>...</td>\n",
       "      <td>...</td>\n",
       "      <td>...</td>\n",
       "      <td>...</td>\n",
       "      <td>...</td>\n",
       "      <td>...</td>\n",
       "      <td>...</td>\n",
       "      <td>...</td>\n",
       "      <td>...</td>\n",
       "      <td>...</td>\n",
       "    </tr>\n",
       "    <tr>\n",
       "      <th>7162</th>\n",
       "      <td>079980</td>\n",
       "      <td>KOSPI</td>\n",
       "      <td>휴비스</td>\n",
       "      <td>화학섬유 제조업</td>\n",
       "      <td>합성섬유(폴리에스테르원사,원면),재생섬유,폴리에스텔 원사,원면,고상칩 제조,도소매</td>\n",
       "      <td>2012-02-23</td>\n",
       "      <td>12월</td>\n",
       "      <td>신유동</td>\n",
       "      <td>http://www.huvis.com</td>\n",
       "      <td>서울특별시</td>\n",
       "    </tr>\n",
       "    <tr>\n",
       "      <th>7165</th>\n",
       "      <td>005010</td>\n",
       "      <td>KOSPI</td>\n",
       "      <td>휴스틸</td>\n",
       "      <td>1차 철강 제조업</td>\n",
       "      <td>강관(배관용,구조용,유정용) 제조,도매</td>\n",
       "      <td>1973-06-29</td>\n",
       "      <td>12월</td>\n",
       "      <td>박훈</td>\n",
       "      <td>http://www.husteel.com</td>\n",
       "      <td>서울특별시</td>\n",
       "    </tr>\n",
       "    <tr>\n",
       "      <th>7170</th>\n",
       "      <td>069260</td>\n",
       "      <td>KOSPI</td>\n",
       "      <td>휴켐스</td>\n",
       "      <td>기타 화학제품 제조업</td>\n",
       "      <td>화합물,화학제품 제조</td>\n",
       "      <td>2002-10-07</td>\n",
       "      <td>12월</td>\n",
       "      <td>신진용</td>\n",
       "      <td>http://www.huchems.com</td>\n",
       "      <td>서울특별시</td>\n",
       "    </tr>\n",
       "    <tr>\n",
       "      <th>7175</th>\n",
       "      <td>000540</td>\n",
       "      <td>KOSPI</td>\n",
       "      <td>흥국화재</td>\n",
       "      <td>보험업</td>\n",
       "      <td>손해보험</td>\n",
       "      <td>1974-12-05</td>\n",
       "      <td>12월</td>\n",
       "      <td>권중원</td>\n",
       "      <td>http://www.insurance.co.kr</td>\n",
       "      <td>서울특별시</td>\n",
       "    </tr>\n",
       "    <tr>\n",
       "      <th>7178</th>\n",
       "      <td>003280</td>\n",
       "      <td>KOSPI</td>\n",
       "      <td>흥아해운</td>\n",
       "      <td>해상 운송업</td>\n",
       "      <td>외항화물운송업(케미컬탱커)</td>\n",
       "      <td>1976-06-29</td>\n",
       "      <td>12월</td>\n",
       "      <td>이환구</td>\n",
       "      <td>http://www.heung-a.com</td>\n",
       "      <td>서울특별시</td>\n",
       "    </tr>\n",
       "  </tbody>\n",
       "</table>\n",
       "<p>414 rows × 10 columns</p>\n",
       "</div>"
      ],
      "text/plain": [
       "      Symbol Market    Name           Sector  \\\n",
       "1     095570  KOSPI  AJ네트웍스  산업용 기계 및 장비 임대업   \n",
       "2     006840  KOSPI   AK홀딩스           기타 금융업   \n",
       "48    027410  KOSPI     BGF           기타 금융업   \n",
       "49    282330  KOSPI  BGF리테일           종합 소매업   \n",
       "51    001460  KOSPI     BYC         봉제의복 제조업   \n",
       "...      ...    ...     ...              ...   \n",
       "7162  079980  KOSPI     휴비스         화학섬유 제조업   \n",
       "7165  005010  KOSPI     휴스틸        1차 철강 제조업   \n",
       "7170  069260  KOSPI     휴켐스      기타 화학제품 제조업   \n",
       "7175  000540  KOSPI    흥국화재              보험업   \n",
       "7178  003280  KOSPI    흥아해운           해상 운송업   \n",
       "\n",
       "                                           Industry ListingDate SettleMonth  \\\n",
       "1                               렌탈(파렛트, OA장비, 건설장비)  2015-08-21         12월   \n",
       "2                                              지주사업  1999-08-11         12월   \n",
       "48                                             지주회사  2014-05-19         12월   \n",
       "49                                          체인화 편의점  2017-12-08         12월   \n",
       "51                 메리야스,란제리 제조,도매/건축공사/부동산 임대,분양,공급  1975-06-02         12월   \n",
       "...                                             ...         ...         ...   \n",
       "7162  합성섬유(폴리에스테르원사,원면),재생섬유,폴리에스텔 원사,원면,고상칩 제조,도소매  2012-02-23         12월   \n",
       "7165                          강관(배관용,구조용,유정용) 제조,도매  1973-06-29         12월   \n",
       "7170                                    화합물,화학제품 제조  2002-10-07         12월   \n",
       "7175                                           손해보험  1974-12-05         12월   \n",
       "7178                                 외항화물운송업(케미컬탱커)  1976-06-29         12월   \n",
       "\n",
       "         Representative                       HomePage Region  \n",
       "1                   박대현         http://www.ajnet.co.kr  서울특별시  \n",
       "2     채형석, 이석주(각자 대표이사)  http://www.aekyunggroup.co.kr  서울특별시  \n",
       "48                  홍정국           http://www.bgf.co.kr  서울특별시  \n",
       "49                  이건준       http://www.bgfretail.com  서울특별시  \n",
       "51                김 대 환          http://home.byc.co.kr  서울특별시  \n",
       "...                 ...                            ...    ...  \n",
       "7162                신유동           http://www.huvis.com  서울특별시  \n",
       "7165                 박훈         http://www.husteel.com  서울특별시  \n",
       "7170                신진용         http://www.huchems.com  서울특별시  \n",
       "7175                권중원     http://www.insurance.co.kr  서울특별시  \n",
       "7178                이환구         http://www.heung-a.com  서울특별시  \n",
       "\n",
       "[414 rows x 10 columns]"
      ]
     },
     "execution_count": 8,
     "metadata": {},
     "output_type": "execute_result"
    }
   ],
   "source": [
    "# True False Condition\n",
    "# () & ()     () | ()\n",
    "df[(df['Region'] == '서울특별시') & (df['Market'] == 'KOSPI')]"
   ]
  },
  {
   "cell_type": "code",
   "execution_count": 9,
   "id": "3537468e",
   "metadata": {
    "ExecuteTime": {
     "end_time": "2021-08-31T12:32:30.995859Z",
     "start_time": "2021-08-31T12:32:30.974589Z"
    }
   },
   "outputs": [
    {
     "data": {
      "text/html": [
       "<div>\n",
       "<style scoped>\n",
       "    .dataframe tbody tr th:only-of-type {\n",
       "        vertical-align: middle;\n",
       "    }\n",
       "\n",
       "    .dataframe tbody tr th {\n",
       "        vertical-align: top;\n",
       "    }\n",
       "\n",
       "    .dataframe thead th {\n",
       "        text-align: right;\n",
       "    }\n",
       "</style>\n",
       "<table border=\"1\" class=\"dataframe\">\n",
       "  <thead>\n",
       "    <tr style=\"text-align: right;\">\n",
       "      <th></th>\n",
       "      <th>Symbol</th>\n",
       "      <th>Name</th>\n",
       "    </tr>\n",
       "  </thead>\n",
       "  <tbody>\n",
       "    <tr>\n",
       "      <th>1</th>\n",
       "      <td>095570</td>\n",
       "      <td>AJ네트웍스</td>\n",
       "    </tr>\n",
       "    <tr>\n",
       "      <th>2</th>\n",
       "      <td>006840</td>\n",
       "      <td>AK홀딩스</td>\n",
       "    </tr>\n",
       "    <tr>\n",
       "      <th>48</th>\n",
       "      <td>027410</td>\n",
       "      <td>BGF</td>\n",
       "    </tr>\n",
       "    <tr>\n",
       "      <th>49</th>\n",
       "      <td>282330</td>\n",
       "      <td>BGF리테일</td>\n",
       "    </tr>\n",
       "    <tr>\n",
       "      <th>51</th>\n",
       "      <td>001460</td>\n",
       "      <td>BYC</td>\n",
       "    </tr>\n",
       "    <tr>\n",
       "      <th>...</th>\n",
       "      <td>...</td>\n",
       "      <td>...</td>\n",
       "    </tr>\n",
       "    <tr>\n",
       "      <th>7162</th>\n",
       "      <td>079980</td>\n",
       "      <td>휴비스</td>\n",
       "    </tr>\n",
       "    <tr>\n",
       "      <th>7165</th>\n",
       "      <td>005010</td>\n",
       "      <td>휴스틸</td>\n",
       "    </tr>\n",
       "    <tr>\n",
       "      <th>7170</th>\n",
       "      <td>069260</td>\n",
       "      <td>휴켐스</td>\n",
       "    </tr>\n",
       "    <tr>\n",
       "      <th>7175</th>\n",
       "      <td>000540</td>\n",
       "      <td>흥국화재</td>\n",
       "    </tr>\n",
       "    <tr>\n",
       "      <th>7178</th>\n",
       "      <td>003280</td>\n",
       "      <td>흥아해운</td>\n",
       "    </tr>\n",
       "  </tbody>\n",
       "</table>\n",
       "<p>414 rows × 2 columns</p>\n",
       "</div>"
      ],
      "text/plain": [
       "      Symbol    Name\n",
       "1     095570  AJ네트웍스\n",
       "2     006840   AK홀딩스\n",
       "48    027410     BGF\n",
       "49    282330  BGF리테일\n",
       "51    001460     BYC\n",
       "...      ...     ...\n",
       "7162  079980     휴비스\n",
       "7165  005010     휴스틸\n",
       "7170  069260     휴켐스\n",
       "7175  000540    흥국화재\n",
       "7178  003280    흥아해운\n",
       "\n",
       "[414 rows x 2 columns]"
      ]
     },
     "execution_count": 9,
     "metadata": {},
     "output_type": "execute_result"
    }
   ],
   "source": [
    "# loc : Field Filtering\n",
    "df.loc[(df['Region'] == '서울특별시') & (df['Market'] == 'KOSPI'), ['Symbol', 'Name']]"
   ]
  },
  {
   "cell_type": "code",
   "execution_count": 10,
   "id": "cecc4bdd",
   "metadata": {
    "ExecuteTime": {
     "end_time": "2021-08-31T12:33:51.269460Z",
     "start_time": "2021-08-31T12:33:51.253533Z"
    }
   },
   "outputs": [
    {
     "data": {
      "text/html": [
       "<div>\n",
       "<style scoped>\n",
       "    .dataframe tbody tr th:only-of-type {\n",
       "        vertical-align: middle;\n",
       "    }\n",
       "\n",
       "    .dataframe tbody tr th {\n",
       "        vertical-align: top;\n",
       "    }\n",
       "\n",
       "    .dataframe thead th {\n",
       "        text-align: right;\n",
       "    }\n",
       "</style>\n",
       "<table border=\"1\" class=\"dataframe\">\n",
       "  <thead>\n",
       "    <tr style=\"text-align: right;\">\n",
       "      <th></th>\n",
       "      <th>Symbol</th>\n",
       "      <th>Name</th>\n",
       "    </tr>\n",
       "  </thead>\n",
       "  <tbody>\n",
       "    <tr>\n",
       "      <th>1</th>\n",
       "      <td>095570</td>\n",
       "      <td>AJ네트웍스</td>\n",
       "    </tr>\n",
       "    <tr>\n",
       "      <th>2</th>\n",
       "      <td>006840</td>\n",
       "      <td>AK홀딩스</td>\n",
       "    </tr>\n",
       "    <tr>\n",
       "      <th>48</th>\n",
       "      <td>027410</td>\n",
       "      <td>BGF</td>\n",
       "    </tr>\n",
       "    <tr>\n",
       "      <th>49</th>\n",
       "      <td>282330</td>\n",
       "      <td>BGF리테일</td>\n",
       "    </tr>\n",
       "    <tr>\n",
       "      <th>51</th>\n",
       "      <td>001460</td>\n",
       "      <td>BYC</td>\n",
       "    </tr>\n",
       "    <tr>\n",
       "      <th>...</th>\n",
       "      <td>...</td>\n",
       "      <td>...</td>\n",
       "    </tr>\n",
       "    <tr>\n",
       "      <th>7162</th>\n",
       "      <td>079980</td>\n",
       "      <td>휴비스</td>\n",
       "    </tr>\n",
       "    <tr>\n",
       "      <th>7165</th>\n",
       "      <td>005010</td>\n",
       "      <td>휴스틸</td>\n",
       "    </tr>\n",
       "    <tr>\n",
       "      <th>7170</th>\n",
       "      <td>069260</td>\n",
       "      <td>휴켐스</td>\n",
       "    </tr>\n",
       "    <tr>\n",
       "      <th>7175</th>\n",
       "      <td>000540</td>\n",
       "      <td>흥국화재</td>\n",
       "    </tr>\n",
       "    <tr>\n",
       "      <th>7178</th>\n",
       "      <td>003280</td>\n",
       "      <td>흥아해운</td>\n",
       "    </tr>\n",
       "  </tbody>\n",
       "</table>\n",
       "<p>414 rows × 2 columns</p>\n",
       "</div>"
      ],
      "text/plain": [
       "      Symbol    Name\n",
       "1     095570  AJ네트웍스\n",
       "2     006840   AK홀딩스\n",
       "48    027410     BGF\n",
       "49    282330  BGF리테일\n",
       "51    001460     BYC\n",
       "...      ...     ...\n",
       "7162  079980     휴비스\n",
       "7165  005010     휴스틸\n",
       "7170  069260     휴켐스\n",
       "7175  000540    흥국화재\n",
       "7178  003280    흥아해운\n",
       "\n",
       "[414 rows x 2 columns]"
      ]
     },
     "execution_count": 10,
     "metadata": {},
     "output_type": "execute_result"
    }
   ],
   "source": [
    "# 변수에 담아서\n",
    "seoul = df['Region'] == '서울특별시'\n",
    "kospi = df['Market'] == 'KOSPI'\n",
    "\n",
    "df.loc[seoul & kospi, ['Symbol', 'Name']]"
   ]
  },
  {
   "cell_type": "code",
   "execution_count": 14,
   "id": "ebf5eb11",
   "metadata": {
    "ExecuteTime": {
     "end_time": "2021-08-31T12:48:04.287535Z",
     "start_time": "2021-08-31T12:48:04.263034Z"
    }
   },
   "outputs": [
    {
     "data": {
      "text/plain": [
       "7176       NaN\n",
       "7177       NaN\n",
       "7178    1976.0\n",
       "7179    2000.0\n",
       "7180    2017.0\n",
       "Name: ListingYear, dtype: float64"
      ]
     },
     "execution_count": 14,
     "metadata": {},
     "output_type": "execute_result"
    }
   ],
   "source": [
    "df['ListingDate'] = pd.to_datetime(df['ListingDate'])\n",
    "df['ListingYear'] = df['ListingDate'].dt.year\n",
    "df['ListingYear'].tail()\n",
    "\n",
    "# year가 float인 이유는 NaN이 float이기 때문이다"
   ]
  },
  {
   "cell_type": "code",
   "execution_count": 15,
   "id": "a2762baa",
   "metadata": {
    "ExecuteTime": {
     "end_time": "2021-08-31T12:48:38.897808Z",
     "start_time": "2021-08-31T12:48:38.885875Z"
    }
   },
   "outputs": [
    {
     "data": {
      "text/plain": [
       "float"
      ]
     },
     "execution_count": 15,
     "metadata": {},
     "output_type": "execute_result"
    }
   ],
   "source": [
    "import numpy as np\n",
    "type(np.nan)"
   ]
  },
  {
   "cell_type": "code",
   "execution_count": 4,
   "id": "88a7a2d6",
   "metadata": {
    "ExecuteTime": {
     "end_time": "2021-09-01T12:45:50.012640Z",
     "start_time": "2021-09-01T12:45:50.001700Z"
    }
   },
   "outputs": [
    {
     "data": {
      "text/plain": [
       "KOSPI     5515\n",
       "KOSDAQ    1532\n",
       "KONEX      134\n",
       "Name: Market, dtype: int64"
      ]
     },
     "execution_count": 4,
     "metadata": {},
     "output_type": "execute_result"
    }
   ],
   "source": [
    "df['Market'].value_counts()"
   ]
  },
  {
   "cell_type": "code",
   "execution_count": 4,
   "id": "c36bc9a3",
   "metadata": {
    "ExecuteTime": {
     "end_time": "2021-09-01T13:25:19.165185Z",
     "start_time": "2021-09-01T13:25:18.925471Z"
    }
   },
   "outputs": [
    {
     "data": {
      "text/plain": [
       "<AxesSubplot:>"
      ]
     },
     "execution_count": 4,
     "metadata": {},
     "output_type": "execute_result"
    },
    {
     "data": {
      "image/png": "[encoded data removed]",
      "text/plain": [
       "<Figure size 432x288 with 1 Axes>"
      ]
     },
     "metadata": {
      "needs_background": "light"
     },
     "output_type": "display_data"
    }
   ],
   "source": [
    "df['Market'].value_counts().sort_values().plot.barh(rot=0)"
   ]
  },
  {
   "cell_type": "code",
   "execution_count": 19,
   "id": "410f72d1",
   "metadata": {
    "ExecuteTime": {
     "end_time": "2021-09-01T12:55:53.656818Z",
     "start_time": "2021-09-01T12:55:53.506121Z"
    }
   },
   "outputs": [
    {
     "data": {
      "text/plain": [
       "<AxesSubplot:xlabel='count', ylabel='Market'>"
      ]
     },
     "execution_count": 19,
     "metadata": {},
     "output_type": "execute_result"
    },
    {
     "data": {
      "image/png": "[encoded data removed]",
      "text/plain": [
       "<Figure size 432x288 with 1 Axes>"
      ]
     },
     "metadata": {
      "needs_background": "light"
     },
     "output_type": "display_data"
    }
   ],
   "source": [
    "# Sea born의 경우 countplot으로 갯수를 따로 구할필요없다\n",
    "sns.countplot(data=df, y='Market')"
   ]
  }
 ],
 "metadata": {
  "hide_input": false,
  "kernelspec": {
   "display_name": "stock",
   "language": "python",
   "name": "stock"
  },
  "language_info": {
   "codemirror_mode": {
    "name": "ipython",
    "version": 3
   },
   "file_extension": ".py",
   "mimetype": "text/x-python",
   "name": "python",
   "nbconvert_exporter": "python",
   "pygments_lexer": "ipython3",
   "version": "3.9.6"
  },
  "toc": {
   "base_numbering": 1,
   "nav_menu": {},
   "number_sections": true,
   "sideBar": true,
   "skip_h1_title": false,
   "title_cell": "Table of Contents",
   "title_sidebar": "Contents",
   "toc_cell": false,
   "toc_position": {},
   "toc_section_display": true,
   "toc_window_display": false
  },
  "varInspector": {
   "cols": {
    "lenName": 16,
    "lenType": 16,
    "lenVar": 40
   },
   "kernels_config": {
    "python": {
     "delete_cmd_postfix": "",
     "delete_cmd_prefix": "del ",
     "library": "var_list.py",
     "varRefreshCmd": "print(var_dic_list())"
    },
    "r": {
     "delete_cmd_postfix": ") ",
     "delete_cmd_prefix": "rm(",
     "library": "var_list.r",
     "varRefreshCmd": "cat(var_dic_list()) "
    }
   },
   "types_to_exclude": [
    "module",
    "function",
    "builtin_function_or_method",
    "instance",
    "_Feature"
   ],
   "window_display": false
  }
 },
 "nbformat": 4,
 "nbformat_minor": 5
}
