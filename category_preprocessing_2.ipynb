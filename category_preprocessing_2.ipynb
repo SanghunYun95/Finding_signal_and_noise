{
 "cells": [
  {
   "cell_type": "code",
   "execution_count": 1,
   "id": "71d03074",
   "metadata": {
    "ExecuteTime": {
     "end_time": "2021-09-12T01:55:09.141040Z",
     "start_time": "2021-09-12T01:55:08.695380Z"
    }
   },
   "outputs": [
    {
     "data": {
      "text/html": [
       "<div>\n",
       "<style scoped>\n",
       "    .dataframe tbody tr th:only-of-type {\n",
       "        vertical-align: middle;\n",
       "    }\n",
       "\n",
       "    .dataframe tbody tr th {\n",
       "        vertical-align: top;\n",
       "    }\n",
       "\n",
       "    .dataframe thead th {\n",
       "        text-align: right;\n",
       "    }\n",
       "</style>\n",
       "<table border=\"1\" class=\"dataframe\">\n",
       "  <thead>\n",
       "    <tr style=\"text-align: right;\">\n",
       "      <th></th>\n",
       "      <th>종목명</th>\n",
       "      <th>현재가</th>\n",
       "      <th>전일비</th>\n",
       "      <th>등락률</th>\n",
       "      <th>매수호가</th>\n",
       "      <th>매도호가</th>\n",
       "      <th>거래량</th>\n",
       "      <th>거래대금</th>\n",
       "      <th>전일거래량</th>\n",
       "      <th>종목명_전처리</th>\n",
       "      <th>...</th>\n",
       "      <th>배당수익률</th>\n",
       "      <th>PERlEPS(2020.12)</th>\n",
       "      <th>PBRlBPS (2020.12)</th>\n",
       "      <th>PERlEPS(2021.03)</th>\n",
       "      <th>PBRlBPS (2021.03)</th>\n",
       "      <th>PERlEPS(2021.05)</th>\n",
       "      <th>PBRlBPS (2021.05)</th>\n",
       "      <th>배당수익률l2020.11</th>\n",
       "      <th>PERlEPS(2020.06)</th>\n",
       "      <th>PBRlBPS (2020.06)</th>\n",
       "    </tr>\n",
       "  </thead>\n",
       "  <tbody>\n",
       "    <tr>\n",
       "      <th>0</th>\n",
       "      <td>한국파마 *</td>\n",
       "      <td>78100.0</td>\n",
       "      <td>8600.0</td>\n",
       "      <td>+12.37%</td>\n",
       "      <td>78100.0</td>\n",
       "      <td>78200.0</td>\n",
       "      <td>3588899.0</td>\n",
       "      <td>279786.0</td>\n",
       "      <td>688406.0</td>\n",
       "      <td>한국파마</td>\n",
       "      <td>...</td>\n",
       "      <td>NaN</td>\n",
       "      <td>NaN</td>\n",
       "      <td>NaN</td>\n",
       "      <td>NaN</td>\n",
       "      <td>NaN</td>\n",
       "      <td>NaN</td>\n",
       "      <td>NaN</td>\n",
       "      <td>NaN</td>\n",
       "      <td>NaN</td>\n",
       "      <td>NaN</td>\n",
       "    </tr>\n",
       "    <tr>\n",
       "      <th>1</th>\n",
       "      <td>삼아제약 *</td>\n",
       "      <td>23050.0</td>\n",
       "      <td>1550.0</td>\n",
       "      <td>+7.21%</td>\n",
       "      <td>23000.0</td>\n",
       "      <td>23050.0</td>\n",
       "      <td>226300.0</td>\n",
       "      <td>5151.0</td>\n",
       "      <td>219443.0</td>\n",
       "      <td>삼아제약</td>\n",
       "      <td>...</td>\n",
       "      <td>NaN</td>\n",
       "      <td>NaN</td>\n",
       "      <td>NaN</td>\n",
       "      <td>NaN</td>\n",
       "      <td>NaN</td>\n",
       "      <td>NaN</td>\n",
       "      <td>NaN</td>\n",
       "      <td>NaN</td>\n",
       "      <td>NaN</td>\n",
       "      <td>NaN</td>\n",
       "    </tr>\n",
       "    <tr>\n",
       "      <th>2</th>\n",
       "      <td>코스맥스엔비티 *</td>\n",
       "      <td>9210.0</td>\n",
       "      <td>580.0</td>\n",
       "      <td>+6.72%</td>\n",
       "      <td>9200.0</td>\n",
       "      <td>9210.0</td>\n",
       "      <td>191697.0</td>\n",
       "      <td>1733.0</td>\n",
       "      <td>127164.0</td>\n",
       "      <td>코스맥스엔비티</td>\n",
       "      <td>...</td>\n",
       "      <td>NaN</td>\n",
       "      <td>NaN</td>\n",
       "      <td>NaN</td>\n",
       "      <td>NaN</td>\n",
       "      <td>NaN</td>\n",
       "      <td>NaN</td>\n",
       "      <td>NaN</td>\n",
       "      <td>NaN</td>\n",
       "      <td>NaN</td>\n",
       "      <td>NaN</td>\n",
       "    </tr>\n",
       "    <tr>\n",
       "      <th>3</th>\n",
       "      <td>지엘팜텍 *</td>\n",
       "      <td>1455.0</td>\n",
       "      <td>85.0</td>\n",
       "      <td>+6.20%</td>\n",
       "      <td>1450.0</td>\n",
       "      <td>1455.0</td>\n",
       "      <td>6712248.0</td>\n",
       "      <td>9666.0</td>\n",
       "      <td>12967049.0</td>\n",
       "      <td>지엘팜텍</td>\n",
       "      <td>...</td>\n",
       "      <td>NaN</td>\n",
       "      <td>NaN</td>\n",
       "      <td>NaN</td>\n",
       "      <td>NaN</td>\n",
       "      <td>NaN</td>\n",
       "      <td>NaN</td>\n",
       "      <td>NaN</td>\n",
       "      <td>NaN</td>\n",
       "      <td>NaN</td>\n",
       "      <td>NaN</td>\n",
       "    </tr>\n",
       "    <tr>\n",
       "      <th>4</th>\n",
       "      <td>이수앱지스 *</td>\n",
       "      <td>16350.0</td>\n",
       "      <td>950.0</td>\n",
       "      <td>+6.17%</td>\n",
       "      <td>16350.0</td>\n",
       "      <td>16400.0</td>\n",
       "      <td>1619361.0</td>\n",
       "      <td>25924.0</td>\n",
       "      <td>492397.0</td>\n",
       "      <td>이수앱지스</td>\n",
       "      <td>...</td>\n",
       "      <td>NaN</td>\n",
       "      <td>NaN</td>\n",
       "      <td>NaN</td>\n",
       "      <td>NaN</td>\n",
       "      <td>NaN</td>\n",
       "      <td>NaN</td>\n",
       "      <td>NaN</td>\n",
       "      <td>NaN</td>\n",
       "      <td>NaN</td>\n",
       "      <td>NaN</td>\n",
       "    </tr>\n",
       "  </tbody>\n",
       "</table>\n",
       "<p>5 rows × 37 columns</p>\n",
       "</div>"
      ],
      "text/plain": [
       "         종목명      현재가     전일비      등락률     매수호가     매도호가        거래량      거래대금  \\\n",
       "0     한국파마 *  78100.0  8600.0  +12.37%  78100.0  78200.0  3588899.0  279786.0   \n",
       "1     삼아제약 *  23050.0  1550.0   +7.21%  23000.0  23050.0   226300.0    5151.0   \n",
       "2  코스맥스엔비티 *   9210.0   580.0   +6.72%   9200.0   9210.0   191697.0    1733.0   \n",
       "3     지엘팜텍 *   1455.0    85.0   +6.20%   1450.0   1455.0  6712248.0    9666.0   \n",
       "4    이수앱지스 *  16350.0   950.0   +6.17%  16350.0  16400.0  1619361.0   25924.0   \n",
       "\n",
       "        전일거래량  종목명_전처리  ... 배당수익률  PERlEPS(2020.12) PBRlBPS (2020.12)  \\\n",
       "0    688406.0     한국파마  ...   NaN               NaN               NaN   \n",
       "1    219443.0     삼아제약  ...   NaN               NaN               NaN   \n",
       "2    127164.0  코스맥스엔비티  ...   NaN               NaN               NaN   \n",
       "3  12967049.0     지엘팜텍  ...   NaN               NaN               NaN   \n",
       "4    492397.0    이수앱지스  ...   NaN               NaN               NaN   \n",
       "\n",
       "  PERlEPS(2021.03)  PBRlBPS (2021.03) PERlEPS(2021.05)  PBRlBPS (2021.05)  \\\n",
       "0              NaN                NaN              NaN                NaN   \n",
       "1              NaN                NaN              NaN                NaN   \n",
       "2              NaN                NaN              NaN                NaN   \n",
       "3              NaN                NaN              NaN                NaN   \n",
       "4              NaN                NaN              NaN                NaN   \n",
       "\n",
       "   배당수익률l2020.11 PERlEPS(2020.06) PBRlBPS (2020.06)  \n",
       "0            NaN              NaN               NaN  \n",
       "1            NaN              NaN               NaN  \n",
       "2            NaN              NaN               NaN  \n",
       "3            NaN              NaN               NaN  \n",
       "4            NaN              NaN               NaN  \n",
       "\n",
       "[5 rows x 37 columns]"
      ]
     },
     "execution_count": 1,
     "metadata": {},
     "output_type": "execute_result"
    }
   ],
   "source": [
    "import pandas as pd\n",
    "import numpy as np\n",
    "\n",
    "file_name = 'upjong_no_261_2021-09-11.csv'\n",
    "df = pd.read_csv(file_name, dtype={'종목코드':object}).copy()\n",
    "df.head()"
   ]
  },
  {
   "cell_type": "code",
   "execution_count": 2,
   "id": "d28ad19b",
   "metadata": {
    "ExecuteTime": {
     "end_time": "2021-09-12T01:55:09.157002Z",
     "start_time": "2021-09-12T01:55:09.143035Z"
    }
   },
   "outputs": [
    {
     "data": {
      "text/plain": [
       "코스닥    90\n",
       "코스피    59\n",
       "Name: 코스피/코스닥, dtype: int64"
      ]
     },
     "execution_count": 2,
     "metadata": {},
     "output_type": "execute_result"
    }
   ],
   "source": [
    "# *가 있는 경우 코스닥 항목\n",
    "df.loc[df['종목명'].str.endswith('*'), '코스피/코스닥'] = '코스닥'\n",
    "df.loc[~df['종목명'].str.endswith('*'), '코스피/코스닥'] = '코스피'\n",
    "df['코스피/코스닥'].value_counts()"
   ]
  },
  {
   "cell_type": "code",
   "execution_count": 3,
   "id": "777eb2ae",
   "metadata": {
    "ExecuteTime": {
     "end_time": "2021-09-12T01:55:09.172873Z",
     "start_time": "2021-09-12T01:55:09.157995Z"
    }
   },
   "outputs": [
    {
     "name": "stderr",
     "output_type": "stream",
     "text": [
      "C:\\Users\\ysn65\\AppData\\Local\\Temp/ipykernel_15704/2636884489.py:1: FutureWarning: The default value of regex will change from True to False in a future version.\n",
      "  df['시가총액(억원)'] = df['시가총액'].str.replace('[^0-9]', '').astype(int)\n"
     ]
    },
    {
     "data": {
      "text/plain": [
       "0    8518\n",
       "1    1468\n",
       "2    1900\n",
       "3     755\n",
       "4    5425\n",
       "Name: 시가총액(억원), dtype: int32"
      ]
     },
     "execution_count": 3,
     "metadata": {},
     "output_type": "execute_result"
    }
   ],
   "source": [
    "df['시가총액(억원)'] = df['시가총액'].str.replace('[^0-9]', '').astype(int)\n",
    "df['시가총액(억원)'].head()"
   ]
  },
  {
   "cell_type": "code",
   "execution_count": 4,
   "id": "a5239552",
   "metadata": {
    "ExecuteTime": {
     "end_time": "2021-09-12T01:55:09.188872Z",
     "start_time": "2021-09-12T01:55:09.174868Z"
    }
   },
   "outputs": [
    {
     "name": "stderr",
     "output_type": "stream",
     "text": [
      "C:\\Users\\ysn65\\AppData\\Local\\Temp/ipykernel_15704/2954758134.py:1: FutureWarning: The default value of regex will change from True to False in a future version.\n",
      "  df['시가총액순위(전처리)'] = df['시가총액순위'].str.replace('[^0-9]', '').astype(int)\n"
     ]
    },
    {
     "data": {
      "text/plain": [
       "0        87\n",
       "1       707\n",
       "2       569\n",
       "3      1169\n",
       "4       164\n",
       "       ... \n",
       "144     103\n",
       "145     986\n",
       "146      82\n",
       "147     152\n",
       "148     121\n",
       "Name: 시가총액순위(전처리), Length: 149, dtype: int32"
      ]
     },
     "execution_count": 4,
     "metadata": {},
     "output_type": "execute_result"
    }
   ],
   "source": [
    "df['시가총액순위(전처리)'] = df['시가총액순위'].str.replace('[^0-9]', '').astype(int)\n",
    "df['시가총액순위(전처리)']"
   ]
  },
  {
   "cell_type": "code",
   "execution_count": 5,
   "id": "81c0930b",
   "metadata": {
    "ExecuteTime": {
     "end_time": "2021-09-12T01:55:09.204848Z",
     "start_time": "2021-09-12T01:55:09.189828Z"
    }
   },
   "outputs": [
    {
     "data": {
      "text/html": [
       "<div>\n",
       "<style scoped>\n",
       "    .dataframe tbody tr th:only-of-type {\n",
       "        vertical-align: middle;\n",
       "    }\n",
       "\n",
       "    .dataframe tbody tr th {\n",
       "        vertical-align: top;\n",
       "    }\n",
       "\n",
       "    .dataframe thead th {\n",
       "        text-align: right;\n",
       "    }\n",
       "</style>\n",
       "<table border=\"1\" class=\"dataframe\">\n",
       "  <thead>\n",
       "    <tr style=\"text-align: right;\">\n",
       "      <th></th>\n",
       "      <th>52주최고</th>\n",
       "      <th>52주최저</th>\n",
       "    </tr>\n",
       "  </thead>\n",
       "  <tbody>\n",
       "    <tr>\n",
       "      <th>0</th>\n",
       "      <td>94800</td>\n",
       "      <td>20000</td>\n",
       "    </tr>\n",
       "    <tr>\n",
       "      <th>1</th>\n",
       "      <td>23000</td>\n",
       "      <td>14300</td>\n",
       "    </tr>\n",
       "    <tr>\n",
       "      <th>2</th>\n",
       "      <td>12900</td>\n",
       "      <td>7000</td>\n",
       "    </tr>\n",
       "    <tr>\n",
       "      <th>3</th>\n",
       "      <td>2390</td>\n",
       "      <td>855</td>\n",
       "    </tr>\n",
       "    <tr>\n",
       "      <th>4</th>\n",
       "      <td>25000</td>\n",
       "      <td>6660</td>\n",
       "    </tr>\n",
       "  </tbody>\n",
       "</table>\n",
       "</div>"
      ],
      "text/plain": [
       "   52주최고  52주최저\n",
       "0  94800  20000\n",
       "1  23000  14300\n",
       "2  12900   7000\n",
       "3   2390    855\n",
       "4  25000   6660"
      ]
     },
     "execution_count": 5,
     "metadata": {},
     "output_type": "execute_result"
    }
   ],
   "source": [
    "df['52주최고'] = df['52주최고l최저'].str.split(' l ', expand=True)[0]\n",
    "df['52주최저'] = df['52주최고l최저'].str.split(' l ', expand=True)[1]\n",
    "\n",
    "df['52주최고'] = df['52주최고'].str.replace(',','').astype(int)\n",
    "df['52주최저'] = df['52주최저'].str.replace(',','').astype(int)\n",
    "\n",
    "df[['52주최고', '52주최저']].head()"
   ]
  },
  {
   "cell_type": "code",
   "execution_count": 6,
   "id": "2e2a7640",
   "metadata": {
    "ExecuteTime": {
     "end_time": "2021-09-12T01:55:09.235754Z",
     "start_time": "2021-09-12T01:55:09.205838Z"
    }
   },
   "outputs": [
    {
     "data": {
      "text/html": [
       "<div>\n",
       "<style scoped>\n",
       "    .dataframe tbody tr th:only-of-type {\n",
       "        vertical-align: middle;\n",
       "    }\n",
       "\n",
       "    .dataframe tbody tr th {\n",
       "        vertical-align: top;\n",
       "    }\n",
       "\n",
       "    .dataframe thead th {\n",
       "        text-align: right;\n",
       "    }\n",
       "</style>\n",
       "<table border=\"1\" class=\"dataframe\">\n",
       "  <thead>\n",
       "    <tr style=\"text-align: right;\">\n",
       "      <th></th>\n",
       "      <th>종목명</th>\n",
       "      <th>52주차액</th>\n",
       "      <th>52주차액비율</th>\n",
       "      <th>52주최고</th>\n",
       "      <th>52주최저</th>\n",
       "      <th>현재-최고가</th>\n",
       "      <th>현재/최고가비율</th>\n",
       "    </tr>\n",
       "  </thead>\n",
       "  <tbody>\n",
       "    <tr>\n",
       "      <th>0</th>\n",
       "      <td>한국파마 *</td>\n",
       "      <td>74800</td>\n",
       "      <td>4.740000</td>\n",
       "      <td>94800</td>\n",
       "      <td>20000</td>\n",
       "      <td>-16700.0</td>\n",
       "      <td>0.823840</td>\n",
       "    </tr>\n",
       "    <tr>\n",
       "      <th>1</th>\n",
       "      <td>삼아제약 *</td>\n",
       "      <td>8700</td>\n",
       "      <td>1.608392</td>\n",
       "      <td>23000</td>\n",
       "      <td>14300</td>\n",
       "      <td>50.0</td>\n",
       "      <td>1.002174</td>\n",
       "    </tr>\n",
       "    <tr>\n",
       "      <th>2</th>\n",
       "      <td>코스맥스엔비티 *</td>\n",
       "      <td>5900</td>\n",
       "      <td>1.842857</td>\n",
       "      <td>12900</td>\n",
       "      <td>7000</td>\n",
       "      <td>-3690.0</td>\n",
       "      <td>0.713953</td>\n",
       "    </tr>\n",
       "    <tr>\n",
       "      <th>3</th>\n",
       "      <td>지엘팜텍 *</td>\n",
       "      <td>1535</td>\n",
       "      <td>2.795322</td>\n",
       "      <td>2390</td>\n",
       "      <td>855</td>\n",
       "      <td>-935.0</td>\n",
       "      <td>0.608787</td>\n",
       "    </tr>\n",
       "    <tr>\n",
       "      <th>4</th>\n",
       "      <td>이수앱지스 *</td>\n",
       "      <td>18340</td>\n",
       "      <td>3.753754</td>\n",
       "      <td>25000</td>\n",
       "      <td>6660</td>\n",
       "      <td>-8650.0</td>\n",
       "      <td>0.654000</td>\n",
       "    </tr>\n",
       "  </tbody>\n",
       "</table>\n",
       "</div>"
      ],
      "text/plain": [
       "         종목명  52주차액   52주차액비율  52주최고  52주최저   현재-최고가  현재/최고가비율\n",
       "0     한국파마 *  74800  4.740000  94800  20000 -16700.0  0.823840\n",
       "1     삼아제약 *   8700  1.608392  23000  14300     50.0  1.002174\n",
       "2  코스맥스엔비티 *   5900  1.842857  12900   7000  -3690.0  0.713953\n",
       "3     지엘팜텍 *   1535  2.795322   2390    855   -935.0  0.608787\n",
       "4    이수앱지스 *  18340  3.753754  25000   6660  -8650.0  0.654000"
      ]
     },
     "execution_count": 6,
     "metadata": {},
     "output_type": "execute_result"
    }
   ],
   "source": [
    "df['52주차액'] = df['52주최고'] - df['52주최저']\n",
    "df['52주차액비율'] = df['52주최고'] / df['52주최저']\n",
    "\n",
    "df['현재-최고가'] = df['현재가'] - df['52주최고']\n",
    "df['현재/최고가비율'] = df['현재가'] / df['52주최고']\n",
    "\n",
    "df[['종목명', '52주차액', '52주차액비율', '52주최고', '52주최저', '현재-최고가', '현재/최고가비율']].head()"
   ]
  },
  {
   "cell_type": "code",
   "execution_count": 9,
   "id": "b0bcc75f",
   "metadata": {
    "ExecuteTime": {
     "end_time": "2021-09-12T01:55:31.863781Z",
     "start_time": "2021-09-12T01:55:31.845829Z"
    }
   },
   "outputs": [
    {
     "data": {
      "text/plain": [
       "0           NaN\n",
       "1           NaN\n",
       "2       14950.0\n",
       "3           NaN\n",
       "4           NaN\n",
       "         ...   \n",
       "144         NaN\n",
       "145         NaN\n",
       "146    457143.0\n",
       "147     40000.0\n",
       "148         NaN\n",
       "Name: 목표주가, Length: 149, dtype: float64"
      ]
     },
     "execution_count": 9,
     "metadata": {},
     "output_type": "execute_result"
    }
   ],
   "source": [
    "df['목표주가'] = df['투자의견l목표주가'].str.split('  l  ', expand=True)[1]\n",
    "# .str.replace는 like와 같다   그냥 .replace는 전체 문자 일치 시\n",
    "df['목표주가'] = df['목표주가'].replace('N/A', np.nan).str.replace(',', '').astype(float)\n",
    "df['목표주가']"
   ]
  },
  {
   "cell_type": "code",
   "execution_count": 13,
   "id": "0d047abf",
   "metadata": {
    "ExecuteTime": {
     "end_time": "2021-09-12T02:01:13.662406Z",
     "start_time": "2021-09-12T02:01:13.643431Z"
    }
   },
   "outputs": [
    {
     "name": "stderr",
     "output_type": "stream",
     "text": [
      "C:\\Users\\ysn65\\AppData\\Local\\Temp/ipykernel_15704/1671000956.py:3: FutureWarning: The default value of regex will change from True to False in a future version.\n",
      "  df['매수매도'] = df['투자의견'].str.replace('[0-9.]', '')\n",
      "C:\\Users\\ysn65\\AppData\\Local\\Temp/ipykernel_15704/1671000956.py:4: FutureWarning: The default value of regex will change from True to False in a future version.\n",
      "  df['투자의견'] = df['투자의견'].str.replace('[^0-9.]', '').astype(float)\n"
     ]
    },
    {
     "data": {
      "text/html": [
       "<div>\n",
       "<style scoped>\n",
       "    .dataframe tbody tr th:only-of-type {\n",
       "        vertical-align: middle;\n",
       "    }\n",
       "\n",
       "    .dataframe tbody tr th {\n",
       "        vertical-align: top;\n",
       "    }\n",
       "\n",
       "    .dataframe thead th {\n",
       "        text-align: right;\n",
       "    }\n",
       "</style>\n",
       "<table border=\"1\" class=\"dataframe\">\n",
       "  <thead>\n",
       "    <tr style=\"text-align: right;\">\n",
       "      <th></th>\n",
       "      <th>매수매도</th>\n",
       "      <th>투자의견</th>\n",
       "    </tr>\n",
       "  </thead>\n",
       "  <tbody>\n",
       "    <tr>\n",
       "      <th>0</th>\n",
       "      <td>NaN</td>\n",
       "      <td>NaN</td>\n",
       "    </tr>\n",
       "    <tr>\n",
       "      <th>1</th>\n",
       "      <td>NaN</td>\n",
       "      <td>NaN</td>\n",
       "    </tr>\n",
       "    <tr>\n",
       "      <th>2</th>\n",
       "      <td>매수</td>\n",
       "      <td>4.0</td>\n",
       "    </tr>\n",
       "    <tr>\n",
       "      <th>3</th>\n",
       "      <td>NaN</td>\n",
       "      <td>NaN</td>\n",
       "    </tr>\n",
       "    <tr>\n",
       "      <th>4</th>\n",
       "      <td>NaN</td>\n",
       "      <td>NaN</td>\n",
       "    </tr>\n",
       "    <tr>\n",
       "      <th>...</th>\n",
       "      <td>...</td>\n",
       "      <td>...</td>\n",
       "    </tr>\n",
       "    <tr>\n",
       "      <th>144</th>\n",
       "      <td>NaN</td>\n",
       "      <td>NaN</td>\n",
       "    </tr>\n",
       "    <tr>\n",
       "      <th>145</th>\n",
       "      <td>NaN</td>\n",
       "      <td>NaN</td>\n",
       "    </tr>\n",
       "    <tr>\n",
       "      <th>146</th>\n",
       "      <td>매수</td>\n",
       "      <td>4.0</td>\n",
       "    </tr>\n",
       "    <tr>\n",
       "      <th>147</th>\n",
       "      <td>매수</td>\n",
       "      <td>4.0</td>\n",
       "    </tr>\n",
       "    <tr>\n",
       "      <th>148</th>\n",
       "      <td>NaN</td>\n",
       "      <td>NaN</td>\n",
       "    </tr>\n",
       "  </tbody>\n",
       "</table>\n",
       "<p>149 rows × 2 columns</p>\n",
       "</div>"
      ],
      "text/plain": [
       "    매수매도  투자의견\n",
       "0    NaN   NaN\n",
       "1    NaN   NaN\n",
       "2     매수   4.0\n",
       "3    NaN   NaN\n",
       "4    NaN   NaN\n",
       "..   ...   ...\n",
       "144  NaN   NaN\n",
       "145  NaN   NaN\n",
       "146   매수   4.0\n",
       "147   매수   4.0\n",
       "148  NaN   NaN\n",
       "\n",
       "[149 rows x 2 columns]"
      ]
     },
     "execution_count": 13,
     "metadata": {},
     "output_type": "execute_result"
    }
   ],
   "source": [
    "df['투자의견'] = df['투자의견l목표주가'].str.split('  l  ', expand=True)[0]\n",
    "df['투자의견'] = df['투자의견'].replace('N/A', np.nan)\n",
    "df['매수매도'] = df['투자의견'].str.replace('[0-9.]', '')\n",
    "df['투자의견'] = df['투자의견'].str.replace('[^0-9.]', '').astype(float)\n",
    "# astype 또는 to_numeric,  to_numeric은 에러처리 가능\n",
    "# df['투자의견'] = pd.to_numeric(df['투자의견'])\n",
    "\n",
    "df[['매수매도', '투자의견']]"
   ]
  },
  {
   "cell_type": "code",
   "execution_count": 14,
   "id": "c31c529f",
   "metadata": {
    "ExecuteTime": {
     "end_time": "2021-09-12T02:05:06.650103Z",
     "start_time": "2021-09-12T02:05:06.627199Z"
    }
   },
   "outputs": [
    {
     "data": {
      "text/plain": [
       "0      107.03\n",
       "1      107.03\n",
       "2      107.03\n",
       "3      107.03\n",
       "4      107.03\n",
       "        ...  \n",
       "144    107.03\n",
       "145    107.03\n",
       "146    107.03\n",
       "147    107.03\n",
       "148    107.03\n",
       "Name: 동일업종 PER, Length: 149, dtype: float64"
      ]
     },
     "execution_count": 14,
     "metadata": {},
     "output_type": "execute_result"
    }
   ],
   "source": [
    "df['동일업종 PER'] = df['동일업종 PER'].str.replace('배', '').astype(float)\n",
    "df['동일업종 PER']"
   ]
  }
 ],
 "metadata": {
  "kernelspec": {
   "display_name": "stock",
   "language": "python",
   "name": "stock"
  },
  "language_info": {
   "codemirror_mode": {
    "name": "ipython",
    "version": 3
   },
   "file_extension": ".py",
   "mimetype": "text/x-python",
   "name": "python",
   "nbconvert_exporter": "python",
   "pygments_lexer": "ipython3",
   "version": "3.9.6"
  },
  "toc": {
   "base_numbering": 1,
   "nav_menu": {},
   "number_sections": true,
   "sideBar": true,
   "skip_h1_title": false,
   "title_cell": "Table of Contents",
   "title_sidebar": "Contents",
   "toc_cell": false,
   "toc_position": {},
   "toc_section_display": true,
   "toc_window_display": false
  }
 },
 "nbformat": 4,
 "nbformat_minor": 5
}
