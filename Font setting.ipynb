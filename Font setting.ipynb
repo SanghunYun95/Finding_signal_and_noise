{
 "cells": [
  {
   "cell_type": "code",
   "execution_count": 1,
   "id": "15c21218",
   "metadata": {
    "ExecuteTime": {
     "end_time": "2021-09-01T12:43:20.066610Z",
     "start_time": "2021-09-01T12:43:19.642354Z"
    }
   },
   "outputs": [],
   "source": [
    "import pandas as pd"
   ]
  },
  {
   "cell_type": "code",
   "execution_count": 2,
   "id": "79dd47a9",
   "metadata": {
    "ExecuteTime": {
     "end_time": "2021-09-01T12:43:20.082789Z",
     "start_time": "2021-09-01T12:43:20.068606Z"
    }
   },
   "outputs": [],
   "source": [
    "def get_font_family():\n",
    "    \"\"\"\n",
    "    시스템 환경에 따른 기본 폰트명을 반환하는함수\n",
    "    \"\"\"\n",
    "    import platform\n",
    "    system_name = platform.system()\n",
    "    # colab 사용자는 system_name이 ' Linux'로 확인\n",
    "    \n",
    "    if system_name == 'Darwin':\n",
    "        font_family = 'AppleGothic'\n",
    "    elif system_name == 'Windows':\n",
    "        font_family = 'Malgun Gothic'\n",
    "    else:\n",
    "        # Linux\n",
    "        # colab에서는 runtime을 <꼭> 재시작 해야 한다.\n",
    "        # 런타임을 재시작 하지 않고 폰트 설치를 하면 기본 설정 폰트가 로드되어 한글이 깨짐\n",
    "        !apt-get update -qq\n",
    "        !apt-get install fonts-nanum -qq > /dev/null\n",
    "        \n",
    "        import matplotlib.font_manager as fm\n",
    "        \n",
    "        fontpath = '/usr/share/fonts/truetype/nanum/NanumBarunGothic.ttf'\n",
    "        font = fm.FontProperties(fname=fontpath, size=9)\n",
    "        fm._rebuild()\n",
    "        font_family = 'NanumBarunGothic'\n",
    "    return font_family"
   ]
  },
  {
   "cell_type": "code",
   "execution_count": 3,
   "id": "1970e7f8",
   "metadata": {
    "ExecuteTime": {
     "end_time": "2021-09-01T12:43:20.349151Z",
     "start_time": "2021-09-01T12:43:20.083564Z"
    }
   },
   "outputs": [],
   "source": [
    "import matplotlib.pyplot as plt\n",
    "\n",
    "font_family = get_font_family()\n",
    "# 폰트설정\n",
    "plt.rc('font', family=font_family)\n",
    "# 마이너스 폰트설정\n",
    "plt.rc('axes', unicode_minus=False)\n",
    "plt.style.use('ggplot')\n",
    "\n",
    "#from IPython.display import set_matplotlib_formats\n",
    "#set_matplotlib_formats('retina')"
   ]
  },
  {
   "cell_type": "code",
   "execution_count": 4,
   "id": "64e04fc8",
   "metadata": {
    "ExecuteTime": {
     "end_time": "2021-09-01T12:43:20.694341Z",
     "start_time": "2021-09-01T12:43:20.351109Z"
    }
   },
   "outputs": [
    {
     "data": {
      "text/plain": [
       "<AxesSubplot:title={'center':'한글폰트'}>"
      ]
     },
     "execution_count": 4,
     "metadata": {},
     "output_type": "execute_result"
    },
    {
     "data": {
      "image/png": "[encoded data removed]",
      "text/plain": [
       "<Figure size 432x288 with 1 Axes>"
      ]
     },
     "metadata": {},
     "output_type": "display_data"
    }
   ],
   "source": [
    "pd.Series([1,3,5,-7,9]).plot(title='한글폰트')"
   ]
  }
 ],
 "metadata": {
  "hide_input": false,
  "kernelspec": {
   "display_name": "stock",
   "language": "python",
   "name": "stock"
  },
  "language_info": {
   "codemirror_mode": {
    "name": "ipython",
    "version": 3
   },
   "file_extension": ".py",
   "mimetype": "text/x-python",
   "name": "python",
   "nbconvert_exporter": "python",
   "pygments_lexer": "ipython3",
   "version": "3.9.6"
  },
  "toc": {
   "base_numbering": 1,
   "nav_menu": {},
   "number_sections": true,
   "sideBar": true,
   "skip_h1_title": false,
   "title_cell": "Table of Contents",
   "title_sidebar": "Contents",
   "toc_cell": false,
   "toc_position": {},
   "toc_section_display": true,
   "toc_window_display": false
  },
  "varInspector": {
   "cols": {
    "lenName": 16,
    "lenType": 16,
    "lenVar": 40
   },
   "kernels_config": {
    "python": {
     "delete_cmd_postfix": "",
     "delete_cmd_prefix": "del ",
     "library": "var_list.py",
     "varRefreshCmd": "print(var_dic_list())"
    },
    "r": {
     "delete_cmd_postfix": ") ",
     "delete_cmd_prefix": "rm(",
     "library": "var_list.r",
     "varRefreshCmd": "cat(var_dic_list()) "
    }
   },
   "types_to_exclude": [
    "module",
    "function",
    "builtin_function_or_method",
    "instance",
    "_Feature"
   ],
   "window_display": false
  }
 },
 "nbformat": 4,
 "nbformat_minor": 5
}
