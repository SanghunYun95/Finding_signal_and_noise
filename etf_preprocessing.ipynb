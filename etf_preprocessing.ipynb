{
 "cells": [
  {
   "cell_type": "code",
   "execution_count": 1,
   "id": "da0db1a4",
   "metadata": {
    "ExecuteTime": {
     "end_time": "2021-09-06T12:22:18.688172Z",
     "start_time": "2021-09-06T12:22:18.265442Z"
    }
   },
   "outputs": [
    {
     "data": {
      "text/html": [
       "<div>\n",
       "<style scoped>\n",
       "    .dataframe tbody tr th:only-of-type {\n",
       "        vertical-align: middle;\n",
       "    }\n",
       "\n",
       "    .dataframe tbody tr th {\n",
       "        vertical-align: top;\n",
       "    }\n",
       "\n",
       "    .dataframe thead th {\n",
       "        text-align: right;\n",
       "    }\n",
       "</style>\n",
       "<table border=\"1\" class=\"dataframe\">\n",
       "  <thead>\n",
       "    <tr style=\"text-align: right;\">\n",
       "      <th></th>\n",
       "      <th>itemcode</th>\n",
       "      <th>etfTabCode</th>\n",
       "      <th>itemname</th>\n",
       "      <th>nowVal</th>\n",
       "      <th>risefall</th>\n",
       "      <th>changeVal</th>\n",
       "      <th>changeRate</th>\n",
       "      <th>nav</th>\n",
       "      <th>threeMonthEarnRate</th>\n",
       "      <th>quant</th>\n",
       "      <th>amonut</th>\n",
       "      <th>marketSum</th>\n",
       "    </tr>\n",
       "  </thead>\n",
       "  <tbody>\n",
       "    <tr>\n",
       "      <th>0</th>\n",
       "      <td>069500</td>\n",
       "      <td>1</td>\n",
       "      <td>KODEX 200</td>\n",
       "      <td>41930</td>\n",
       "      <td>2</td>\n",
       "      <td>270</td>\n",
       "      <td>0.65</td>\n",
       "      <td>41979.0</td>\n",
       "      <td>-3.1976</td>\n",
       "      <td>2807005</td>\n",
       "      <td>117551</td>\n",
       "      <td>54593</td>\n",
       "    </tr>\n",
       "    <tr>\n",
       "      <th>1</th>\n",
       "      <td>102110</td>\n",
       "      <td>1</td>\n",
       "      <td>TIGER 200</td>\n",
       "      <td>41960</td>\n",
       "      <td>2</td>\n",
       "      <td>270</td>\n",
       "      <td>0.65</td>\n",
       "      <td>42009.0</td>\n",
       "      <td>-3.1484</td>\n",
       "      <td>992124</td>\n",
       "      <td>41597</td>\n",
       "      <td>23225</td>\n",
       "    </tr>\n",
       "    <tr>\n",
       "      <th>2</th>\n",
       "      <td>153130</td>\n",
       "      <td>6</td>\n",
       "      <td>KODEX 단기채권</td>\n",
       "      <td>102885</td>\n",
       "      <td>2</td>\n",
       "      <td>10</td>\n",
       "      <td>0.01</td>\n",
       "      <td>102883.0</td>\n",
       "      <td>0.0291</td>\n",
       "      <td>7598</td>\n",
       "      <td>781</td>\n",
       "      <td>20968</td>\n",
       "    </tr>\n",
       "    <tr>\n",
       "      <th>3</th>\n",
       "      <td>252670</td>\n",
       "      <td>3</td>\n",
       "      <td>KODEX 200선물인버스2X</td>\n",
       "      <td>2000</td>\n",
       "      <td>5</td>\n",
       "      <td>-25</td>\n",
       "      <td>-1.23</td>\n",
       "      <td>2004.0</td>\n",
       "      <td>5.2631</td>\n",
       "      <td>113442718</td>\n",
       "      <td>227795</td>\n",
       "      <td>20042</td>\n",
       "    </tr>\n",
       "    <tr>\n",
       "      <th>4</th>\n",
       "      <td>371460</td>\n",
       "      <td>4</td>\n",
       "      <td>TIGER 차이나전기차SOLACTIVE</td>\n",
       "      <td>16480</td>\n",
       "      <td>5</td>\n",
       "      <td>-670</td>\n",
       "      <td>-3.91</td>\n",
       "      <td>NaN</td>\n",
       "      <td>26.3319</td>\n",
       "      <td>12395343</td>\n",
       "      <td>207101</td>\n",
       "      <td>18702</td>\n",
       "    </tr>\n",
       "    <tr>\n",
       "      <th>...</th>\n",
       "      <td>...</td>\n",
       "      <td>...</td>\n",
       "      <td>...</td>\n",
       "      <td>...</td>\n",
       "      <td>...</td>\n",
       "      <td>...</td>\n",
       "      <td>...</td>\n",
       "      <td>...</td>\n",
       "      <td>...</td>\n",
       "      <td>...</td>\n",
       "      <td>...</td>\n",
       "      <td>...</td>\n",
       "    </tr>\n",
       "    <tr>\n",
       "      <th>497</th>\n",
       "      <td>295000</td>\n",
       "      <td>6</td>\n",
       "      <td>KBSTAR 국채선물10년</td>\n",
       "      <td>56120</td>\n",
       "      <td>5</td>\n",
       "      <td>-20</td>\n",
       "      <td>-0.04</td>\n",
       "      <td>56093.0</td>\n",
       "      <td>2.4648</td>\n",
       "      <td>371</td>\n",
       "      <td>20</td>\n",
       "      <td>26</td>\n",
       "    </tr>\n",
       "    <tr>\n",
       "      <th>498</th>\n",
       "      <td>287330</td>\n",
       "      <td>2</td>\n",
       "      <td>KBSTAR 200생활소비재</td>\n",
       "      <td>8710</td>\n",
       "      <td>5</td>\n",
       "      <td>-15</td>\n",
       "      <td>-0.17</td>\n",
       "      <td>8700.0</td>\n",
       "      <td>-7.2418</td>\n",
       "      <td>288</td>\n",
       "      <td>2</td>\n",
       "      <td>21</td>\n",
       "    </tr>\n",
       "    <tr>\n",
       "      <th>499</th>\n",
       "      <td>334700</td>\n",
       "      <td>5</td>\n",
       "      <td>KBSTAR 팔라듐선물인버스(H)</td>\n",
       "      <td>4810</td>\n",
       "      <td>2</td>\n",
       "      <td>35</td>\n",
       "      <td>0.73</td>\n",
       "      <td>NaN</td>\n",
       "      <td>12.2520</td>\n",
       "      <td>115</td>\n",
       "      <td>0</td>\n",
       "      <td>19</td>\n",
       "    </tr>\n",
       "    <tr>\n",
       "      <th>500</th>\n",
       "      <td>287310</td>\n",
       "      <td>2</td>\n",
       "      <td>KBSTAR 200경기소비재</td>\n",
       "      <td>11650</td>\n",
       "      <td>2</td>\n",
       "      <td>120</td>\n",
       "      <td>1.04</td>\n",
       "      <td>11648.0</td>\n",
       "      <td>-5.8206</td>\n",
       "      <td>656</td>\n",
       "      <td>7</td>\n",
       "      <td>16</td>\n",
       "    </tr>\n",
       "    <tr>\n",
       "      <th>501</th>\n",
       "      <td>287320</td>\n",
       "      <td>2</td>\n",
       "      <td>KBSTAR 200산업재</td>\n",
       "      <td>13015</td>\n",
       "      <td>5</td>\n",
       "      <td>-65</td>\n",
       "      <td>-0.50</td>\n",
       "      <td>13005.0</td>\n",
       "      <td>-6.0967</td>\n",
       "      <td>166</td>\n",
       "      <td>2</td>\n",
       "      <td>16</td>\n",
       "    </tr>\n",
       "  </tbody>\n",
       "</table>\n",
       "<p>502 rows × 12 columns</p>\n",
       "</div>"
      ],
      "text/plain": [
       "    itemcode  etfTabCode               itemname  nowVal  risefall  changeVal  \\\n",
       "0     069500           1              KODEX 200   41930         2        270   \n",
       "1     102110           1              TIGER 200   41960         2        270   \n",
       "2     153130           6             KODEX 단기채권  102885         2         10   \n",
       "3     252670           3       KODEX 200선물인버스2X    2000         5        -25   \n",
       "4     371460           4  TIGER 차이나전기차SOLACTIVE   16480         5       -670   \n",
       "..       ...         ...                    ...     ...       ...        ...   \n",
       "497   295000           6         KBSTAR 국채선물10년   56120         5        -20   \n",
       "498   287330           2        KBSTAR 200생활소비재    8710         5        -15   \n",
       "499   334700           5     KBSTAR 팔라듐선물인버스(H)    4810         2         35   \n",
       "500   287310           2        KBSTAR 200경기소비재   11650         2        120   \n",
       "501   287320           2          KBSTAR 200산업재   13015         5        -65   \n",
       "\n",
       "     changeRate       nav  threeMonthEarnRate      quant  amonut  marketSum  \n",
       "0          0.65   41979.0             -3.1976    2807005  117551      54593  \n",
       "1          0.65   42009.0             -3.1484     992124   41597      23225  \n",
       "2          0.01  102883.0              0.0291       7598     781      20968  \n",
       "3         -1.23    2004.0              5.2631  113442718  227795      20042  \n",
       "4         -3.91       NaN             26.3319   12395343  207101      18702  \n",
       "..          ...       ...                 ...        ...     ...        ...  \n",
       "497       -0.04   56093.0              2.4648        371      20         26  \n",
       "498       -0.17    8700.0             -7.2418        288       2         21  \n",
       "499        0.73       NaN             12.2520        115       0         19  \n",
       "500        1.04   11648.0             -5.8206        656       7         16  \n",
       "501       -0.50   13005.0             -6.0967        166       2         16  \n",
       "\n",
       "[502 rows x 12 columns]"
      ]
     },
     "execution_count": 1,
     "metadata": {},
     "output_type": "execute_result"
    }
   ],
   "source": [
    "import pandas as pd\n",
    "\n",
    "file_name = 'eft_2021-09-04_raw.csv'\n",
    "df = pd.read_csv(file_name, dtype={'itemcode': object})\n",
    "df"
   ]
  },
  {
   "cell_type": "code",
   "execution_count": 2,
   "id": "95636431",
   "metadata": {
    "ExecuteTime": {
     "end_time": "2021-09-06T12:22:18.704130Z",
     "start_time": "2021-09-06T12:22:18.689169Z"
    }
   },
   "outputs": [
    {
     "name": "stdout",
     "output_type": "stream",
     "text": [
      "<class 'pandas.core.frame.DataFrame'>\n",
      "RangeIndex: 502 entries, 0 to 501\n",
      "Data columns (total 12 columns):\n",
      " #   Column              Non-Null Count  Dtype  \n",
      "---  ------              --------------  -----  \n",
      " 0   itemcode            502 non-null    object \n",
      " 1   etfTabCode          502 non-null    int64  \n",
      " 2   itemname            502 non-null    object \n",
      " 3   nowVal              502 non-null    int64  \n",
      " 4   risefall            502 non-null    int64  \n",
      " 5   changeVal           502 non-null    int64  \n",
      " 6   changeRate          502 non-null    float64\n",
      " 7   nav                 358 non-null    float64\n",
      " 8   threeMonthEarnRate  476 non-null    float64\n",
      " 9   quant               502 non-null    int64  \n",
      " 10  amonut              502 non-null    int64  \n",
      " 11  marketSum           502 non-null    int64  \n",
      "dtypes: float64(3), int64(7), object(2)\n",
      "memory usage: 47.2+ KB\n"
     ]
    }
   ],
   "source": [
    "df.info()"
   ]
  },
  {
   "cell_type": "code",
   "execution_count": 3,
   "id": "1c35b078",
   "metadata": {
    "ExecuteTime": {
     "end_time": "2021-09-06T12:22:18.719200Z",
     "start_time": "2021-09-06T12:22:18.705158Z"
    }
   },
   "outputs": [
    {
     "data": {
      "text/plain": [
       "'전체\\n국내 시장지수\\n국내 업종/테마\\n국내 파생\\n해외 주식\\n원자재\\n채권\\n기타'"
      ]
     },
     "execution_count": 3,
     "metadata": {},
     "output_type": "execute_result"
    }
   ],
   "source": [
    "etfcode = \"\"\"전체\n",
    "국내 시장지수\n",
    "국내 업종/테마\n",
    "국내 파생\n",
    "해외 주식\n",
    "원자재\n",
    "채권\n",
    "기타\"\"\"\n",
    "\n",
    "etfcode"
   ]
  },
  {
   "cell_type": "code",
   "execution_count": 4,
   "id": "645f1bb0",
   "metadata": {
    "ExecuteTime": {
     "end_time": "2021-09-06T12:22:18.735160Z",
     "start_time": "2021-09-06T12:22:18.721213Z"
    }
   },
   "outputs": [
    {
     "data": {
      "text/plain": [
       "['전체', '국내 시장지수', '국내 업종/테마', '국내 파생', '해외 주식', '원자재', '채권', '기타']"
      ]
     },
     "execution_count": 4,
     "metadata": {},
     "output_type": "execute_result"
    }
   ],
   "source": [
    "etf_tab_name = etfcode.split('\\n')\n",
    "etf_tab_name"
   ]
  },
  {
   "cell_type": "code",
   "execution_count": 5,
   "id": "a600e655",
   "metadata": {
    "ExecuteTime": {
     "end_time": "2021-09-06T12:22:18.750543Z",
     "start_time": "2021-09-06T12:22:18.736121Z"
    }
   },
   "outputs": [
    {
     "data": {
      "text/plain": [
       "'국내 업종/테마'"
      ]
     },
     "execution_count": 5,
     "metadata": {},
     "output_type": "execute_result"
    }
   ],
   "source": [
    "def find_etf_tab_name(no):\n",
    "    return etf_tab_name[no]\n",
    "\n",
    "find_etf_tab_name(2)"
   ]
  },
  {
   "cell_type": "code",
   "execution_count": 6,
   "id": "6fc9ff91",
   "metadata": {
    "ExecuteTime": {
     "end_time": "2021-09-06T12:22:18.765895Z",
     "start_time": "2021-09-06T12:22:18.753201Z"
    }
   },
   "outputs": [],
   "source": [
    "# map : Series에만 사용 가능\n",
    "# apply: Series, DataFrame 둘 다 사용 가능\n",
    "df['etfTabName'] = df['etfTabCode'].map(lambda x: etf_tab_name[x])"
   ]
  },
  {
   "cell_type": "code",
   "execution_count": 7,
   "id": "701e84db",
   "metadata": {
    "ExecuteTime": {
     "end_time": "2021-09-06T12:22:18.781912Z",
     "start_time": "2021-09-06T12:22:18.768893Z"
    }
   },
   "outputs": [
    {
     "data": {
      "text/html": [
       "<div>\n",
       "<style scoped>\n",
       "    .dataframe tbody tr th:only-of-type {\n",
       "        vertical-align: middle;\n",
       "    }\n",
       "\n",
       "    .dataframe tbody tr th {\n",
       "        vertical-align: top;\n",
       "    }\n",
       "\n",
       "    .dataframe thead th {\n",
       "        text-align: right;\n",
       "    }\n",
       "</style>\n",
       "<table border=\"1\" class=\"dataframe\">\n",
       "  <thead>\n",
       "    <tr style=\"text-align: right;\">\n",
       "      <th></th>\n",
       "      <th>itemname</th>\n",
       "      <th>etfTabName</th>\n",
       "    </tr>\n",
       "  </thead>\n",
       "  <tbody>\n",
       "    <tr>\n",
       "      <th>5</th>\n",
       "      <td>KODEX 삼성그룹</td>\n",
       "      <td>국내 업종/테마</td>\n",
       "    </tr>\n",
       "    <tr>\n",
       "      <th>10</th>\n",
       "      <td>TIGER TOP10</td>\n",
       "      <td>국내 업종/테마</td>\n",
       "    </tr>\n",
       "    <tr>\n",
       "      <th>16</th>\n",
       "      <td>KODEX 2차전지산업</td>\n",
       "      <td>국내 업종/테마</td>\n",
       "    </tr>\n",
       "    <tr>\n",
       "      <th>17</th>\n",
       "      <td>TIGER 200 IT</td>\n",
       "      <td>국내 업종/테마</td>\n",
       "    </tr>\n",
       "    <tr>\n",
       "      <th>18</th>\n",
       "      <td>TIGER 2차전지테마</td>\n",
       "      <td>국내 업종/테마</td>\n",
       "    </tr>\n",
       "    <tr>\n",
       "      <th>...</th>\n",
       "      <td>...</td>\n",
       "      <td>...</td>\n",
       "    </tr>\n",
       "    <tr>\n",
       "      <th>495</th>\n",
       "      <td>KBSTAR 모멘텀밸류</td>\n",
       "      <td>국내 업종/테마</td>\n",
       "    </tr>\n",
       "    <tr>\n",
       "      <th>496</th>\n",
       "      <td>KBSTAR 200철강소재</td>\n",
       "      <td>국내 업종/테마</td>\n",
       "    </tr>\n",
       "    <tr>\n",
       "      <th>498</th>\n",
       "      <td>KBSTAR 200생활소비재</td>\n",
       "      <td>국내 업종/테마</td>\n",
       "    </tr>\n",
       "    <tr>\n",
       "      <th>500</th>\n",
       "      <td>KBSTAR 200경기소비재</td>\n",
       "      <td>국내 업종/테마</td>\n",
       "    </tr>\n",
       "    <tr>\n",
       "      <th>501</th>\n",
       "      <td>KBSTAR 200산업재</td>\n",
       "      <td>국내 업종/테마</td>\n",
       "    </tr>\n",
       "  </tbody>\n",
       "</table>\n",
       "<p>188 rows × 2 columns</p>\n",
       "</div>"
      ],
      "text/plain": [
       "            itemname etfTabName\n",
       "5         KODEX 삼성그룹   국내 업종/테마\n",
       "10       TIGER TOP10   국내 업종/테마\n",
       "16      KODEX 2차전지산업   국내 업종/테마\n",
       "17      TIGER 200 IT   국내 업종/테마\n",
       "18      TIGER 2차전지테마   국내 업종/테마\n",
       "..               ...        ...\n",
       "495     KBSTAR 모멘텀밸류   국내 업종/테마\n",
       "496   KBSTAR 200철강소재   국내 업종/테마\n",
       "498  KBSTAR 200생활소비재   국내 업종/테마\n",
       "500  KBSTAR 200경기소비재   국내 업종/테마\n",
       "501    KBSTAR 200산업재   국내 업종/테마\n",
       "\n",
       "[188 rows x 2 columns]"
      ]
     },
     "execution_count": 7,
     "metadata": {},
     "output_type": "execute_result"
    }
   ],
   "source": [
    "df.loc[df['etfTabCode'] == 2, ['itemname', 'etfTabName']]"
   ]
  },
  {
   "cell_type": "code",
   "execution_count": 8,
   "id": "e641b51a",
   "metadata": {
    "ExecuteTime": {
     "end_time": "2021-09-06T12:22:18.797814Z",
     "start_time": "2021-09-06T12:22:18.782854Z"
    }
   },
   "outputs": [
    {
     "data": {
      "text/plain": [
       "['itemcode',\n",
       " 'etfTabCode',\n",
       " 'itemname',\n",
       " 'nowVal',\n",
       " 'risefall',\n",
       " 'changeVal',\n",
       " 'changeRate',\n",
       " 'nav',\n",
       " 'threeMonthEarnRate',\n",
       " 'quant',\n",
       " 'amonut',\n",
       " 'marketSum',\n",
       " 'etfTabName']"
      ]
     },
     "execution_count": 8,
     "metadata": {},
     "output_type": "execute_result"
    }
   ],
   "source": [
    "cols = df.columns.tolist()\n",
    "cols"
   ]
  },
  {
   "cell_type": "code",
   "execution_count": 9,
   "id": "52d982f4",
   "metadata": {
    "ExecuteTime": {
     "end_time": "2021-09-06T12:22:18.812950Z",
     "start_time": "2021-09-06T12:22:18.798812Z"
    }
   },
   "outputs": [
    {
     "data": {
      "text/plain": [
       "['종목코드',\n",
       " '탭코드',\n",
       " '종목명',\n",
       " '현재가',\n",
       " '등락구분',\n",
       " '전일비',\n",
       " '등락률',\n",
       " '순자산가치(NAV)',\n",
       " '3개월수익률',\n",
       " '거래량',\n",
       " '거래대금(백만)',\n",
       " '시가총액(억)',\n",
       " '유형']"
      ]
     },
     "execution_count": 9,
     "metadata": {},
     "output_type": "execute_result"
    }
   ],
   "source": [
    "col_name = \"\"\"종목코드\n",
    "탭코드\n",
    "종목명\n",
    "현재가\n",
    "등락구분\n",
    "전일비\n",
    "등락률\n",
    "순자산가치(NAV)\n",
    "3개월수익률\n",
    "거래량\n",
    "거래대금(백만)\n",
    "시가총액(억)\n",
    "유형\"\"\"\n",
    "\n",
    "col_name = col_name.split('\\n')\n",
    "col_name"
   ]
  },
  {
   "cell_type": "code",
   "execution_count": 10,
   "id": "445cd39b",
   "metadata": {
    "ExecuteTime": {
     "end_time": "2021-09-06T12:22:18.827800Z",
     "start_time": "2021-09-06T12:22:18.815189Z"
    }
   },
   "outputs": [
    {
     "data": {
      "text/plain": [
       "{'itemcode': '종목코드',\n",
       " 'etfTabCode': '탭코드',\n",
       " 'itemname': '종목명',\n",
       " 'nowVal': '현재가',\n",
       " 'risefall': '등락구분',\n",
       " 'changeVal': '전일비',\n",
       " 'changeRate': '등락률',\n",
       " 'nav': '순자산가치(NAV)',\n",
       " 'threeMonthEarnRate': '3개월수익률',\n",
       " 'quant': '거래량',\n",
       " 'amonut': '거래대금(백만)',\n",
       " 'marketSum': '시가총액(억)',\n",
       " 'etfTabName': '유형'}"
      ]
     },
     "execution_count": 10,
     "metadata": {},
     "output_type": "execute_result"
    }
   ],
   "source": [
    "dict(zip(cols, col_name))"
   ]
  },
  {
   "cell_type": "code",
   "execution_count": 11,
   "id": "d5bff04c",
   "metadata": {
    "ExecuteTime": {
     "end_time": "2021-09-06T12:22:18.843865Z",
     "start_time": "2021-09-06T12:22:18.828788Z"
    }
   },
   "outputs": [
    {
     "data": {
      "text/plain": [
       "Index(['종목코드', '탭코드', '종목명', '현재가', '등락구분', '전일비', '등락률', '순자산가치(NAV)',\n",
       "       '3개월수익률', '거래량', '거래대금(백만)', '시가총액(억)', '유형'],\n",
       "      dtype='object')"
      ]
     },
     "execution_count": 11,
     "metadata": {},
     "output_type": "execute_result"
    }
   ],
   "source": [
    "df.columns = col_name\n",
    "df.columns"
   ]
  },
  {
   "cell_type": "code",
   "execution_count": 12,
   "id": "1fa9738c",
   "metadata": {
    "ExecuteTime": {
     "end_time": "2021-09-06T12:22:18.859824Z",
     "start_time": "2021-09-06T12:22:18.845820Z"
    }
   },
   "outputs": [
    {
     "data": {
      "text/plain": [
       "['KODEX', '200']"
      ]
     },
     "execution_count": 12,
     "metadata": {},
     "output_type": "execute_result"
    }
   ],
   "source": [
    "df['종목명'].str.split(' ')[0]"
   ]
  },
  {
   "cell_type": "code",
   "execution_count": 13,
   "id": "622b66ec",
   "metadata": {
    "ExecuteTime": {
     "end_time": "2021-09-06T12:22:18.875455Z",
     "start_time": "2021-09-06T12:22:18.860781Z"
    }
   },
   "outputs": [
    {
     "data": {
      "text/plain": [
       "0       KODEX\n",
       "1       TIGER\n",
       "2       KODEX\n",
       "3       KODEX\n",
       "4       TIGER\n",
       "        ...  \n",
       "497    KBSTAR\n",
       "498    KBSTAR\n",
       "499    KBSTAR\n",
       "500    KBSTAR\n",
       "501    KBSTAR\n",
       "Name: 0, Length: 502, dtype: object"
      ]
     },
     "execution_count": 13,
     "metadata": {},
     "output_type": "execute_result"
    }
   ],
   "source": [
    "# expand=True하면 각 행별로 인덱스 번호에 해당하는 데이터를 가져올 수 있다\n",
    "df['종목명'].str.split(' ', expand=True)[0]"
   ]
  },
  {
   "cell_type": "code",
   "execution_count": 14,
   "id": "0ef2d058",
   "metadata": {
    "ExecuteTime": {
     "end_time": "2021-09-06T12:22:18.891464Z",
     "start_time": "2021-09-06T12:22:18.876494Z"
    }
   },
   "outputs": [
    {
     "data": {
      "text/html": [
       "<div>\n",
       "<style scoped>\n",
       "    .dataframe tbody tr th:only-of-type {\n",
       "        vertical-align: middle;\n",
       "    }\n",
       "\n",
       "    .dataframe tbody tr th {\n",
       "        vertical-align: top;\n",
       "    }\n",
       "\n",
       "    .dataframe thead th {\n",
       "        text-align: right;\n",
       "    }\n",
       "</style>\n",
       "<table border=\"1\" class=\"dataframe\">\n",
       "  <thead>\n",
       "    <tr style=\"text-align: right;\">\n",
       "      <th></th>\n",
       "      <th>종목명</th>\n",
       "      <th>브랜드</th>\n",
       "    </tr>\n",
       "  </thead>\n",
       "  <tbody>\n",
       "    <tr>\n",
       "      <th>0</th>\n",
       "      <td>KODEX 200</td>\n",
       "      <td>KODEX</td>\n",
       "    </tr>\n",
       "    <tr>\n",
       "      <th>1</th>\n",
       "      <td>TIGER 200</td>\n",
       "      <td>TIGER</td>\n",
       "    </tr>\n",
       "    <tr>\n",
       "      <th>2</th>\n",
       "      <td>KODEX 단기채권</td>\n",
       "      <td>KODEX</td>\n",
       "    </tr>\n",
       "    <tr>\n",
       "      <th>3</th>\n",
       "      <td>KODEX 200선물인버스2X</td>\n",
       "      <td>KODEX</td>\n",
       "    </tr>\n",
       "    <tr>\n",
       "      <th>4</th>\n",
       "      <td>TIGER 차이나전기차SOLACTIVE</td>\n",
       "      <td>TIGER</td>\n",
       "    </tr>\n",
       "  </tbody>\n",
       "</table>\n",
       "</div>"
      ],
      "text/plain": [
       "                     종목명    브랜드\n",
       "0              KODEX 200  KODEX\n",
       "1              TIGER 200  TIGER\n",
       "2             KODEX 단기채권  KODEX\n",
       "3       KODEX 200선물인버스2X  KODEX\n",
       "4  TIGER 차이나전기차SOLACTIVE  TIGER"
      ]
     },
     "execution_count": 14,
     "metadata": {},
     "output_type": "execute_result"
    }
   ],
   "source": [
    "df['브랜드'] = df['종목명'].str.split(' ', expand=True)[0]\n",
    "df[['종목명', '브랜드']].head()"
   ]
  },
  {
   "cell_type": "code",
   "execution_count": 15,
   "id": "7882e3ac",
   "metadata": {
    "ExecuteTime": {
     "end_time": "2021-09-06T12:22:18.907414Z",
     "start_time": "2021-09-06T12:22:18.892410Z"
    }
   },
   "outputs": [
    {
     "data": {
      "text/plain": [
       "array(['KODEX', 'TIGER', 'KBSTAR', 'ARIRANG', 'KINDEX', 'HANARO', 'KOSEF',\n",
       "       'SOL', 'TIMEFOLIO', '네비게이터', '파워', 'FOCUS', 'KTOP', 'TREX', '마이다스',\n",
       "       '마이티', 'HK'], dtype=object)"
      ]
     },
     "execution_count": 15,
     "metadata": {},
     "output_type": "execute_result"
    }
   ],
   "source": [
    "df['브랜드'].unique()"
   ]
  },
  {
   "cell_type": "code",
   "execution_count": 16,
   "id": "f5cc9597",
   "metadata": {
    "ExecuteTime": {
     "end_time": "2021-09-06T12:22:18.923367Z",
     "start_time": "2021-09-06T12:22:18.908387Z"
    }
   },
   "outputs": [
    {
     "data": {
      "text/plain": [
       "False    460\n",
       "True      42\n",
       "Name: 인버스, dtype: int64"
      ]
     },
     "execution_count": 16,
     "metadata": {},
     "output_type": "execute_result"
    }
   ],
   "source": [
    "df['인버스'] = df['종목명'].str.contains('인버스')\n",
    "df['인버스'].value_counts()"
   ]
  },
  {
   "cell_type": "code",
   "execution_count": 17,
   "id": "85ca091b",
   "metadata": {
    "ExecuteTime": {
     "end_time": "2021-09-06T12:22:18.939329Z",
     "start_time": "2021-09-06T12:22:18.924366Z"
    }
   },
   "outputs": [
    {
     "data": {
      "text/plain": [
       "False    93.426295\n",
       "True      6.573705\n",
       "Name: 레버리지, dtype: float64"
      ]
     },
     "execution_count": 17,
     "metadata": {},
     "output_type": "execute_result"
    }
   ],
   "source": [
    "df['레버리지'] = df['종목명'].str.contains('레버리지')\n",
    "#df['레버리지'].value_counts()\n",
    "\n",
    "# 비율로 보기\n",
    "df['레버리지'].value_counts(normalize=True) * 100"
   ]
  },
  {
   "cell_type": "code",
   "execution_count": 18,
   "id": "dddb8ed1",
   "metadata": {
    "ExecuteTime": {
     "end_time": "2021-09-06T12:22:18.955293Z",
     "start_time": "2021-09-06T12:22:18.940282Z"
    }
   },
   "outputs": [
    {
     "data": {
      "text/html": [
       "<div>\n",
       "<style scoped>\n",
       "    .dataframe tbody tr th:only-of-type {\n",
       "        vertical-align: middle;\n",
       "    }\n",
       "\n",
       "    .dataframe tbody tr th {\n",
       "        vertical-align: top;\n",
       "    }\n",
       "\n",
       "    .dataframe thead th {\n",
       "        text-align: right;\n",
       "    }\n",
       "</style>\n",
       "<table border=\"1\" class=\"dataframe\">\n",
       "  <thead>\n",
       "    <tr style=\"text-align: right;\">\n",
       "      <th></th>\n",
       "      <th>종목명</th>\n",
       "      <th>환헤지H</th>\n",
       "    </tr>\n",
       "  </thead>\n",
       "  <tbody>\n",
       "    <tr>\n",
       "      <th>0</th>\n",
       "      <td>KODEX 200</td>\n",
       "      <td>False</td>\n",
       "    </tr>\n",
       "    <tr>\n",
       "      <th>1</th>\n",
       "      <td>TIGER 200</td>\n",
       "      <td>False</td>\n",
       "    </tr>\n",
       "    <tr>\n",
       "      <th>2</th>\n",
       "      <td>KODEX 단기채권</td>\n",
       "      <td>False</td>\n",
       "    </tr>\n",
       "    <tr>\n",
       "      <th>3</th>\n",
       "      <td>KODEX 200선물인버스2X</td>\n",
       "      <td>False</td>\n",
       "    </tr>\n",
       "    <tr>\n",
       "      <th>4</th>\n",
       "      <td>TIGER 차이나전기차SOLACTIVE</td>\n",
       "      <td>False</td>\n",
       "    </tr>\n",
       "  </tbody>\n",
       "</table>\n",
       "</div>"
      ],
      "text/plain": [
       "                     종목명   환헤지H\n",
       "0              KODEX 200  False\n",
       "1              TIGER 200  False\n",
       "2             KODEX 단기채권  False\n",
       "3       KODEX 200선물인버스2X  False\n",
       "4  TIGER 차이나전기차SOLACTIVE  False"
      ]
     },
     "execution_count": 18,
     "metadata": {},
     "output_type": "execute_result"
    }
   ],
   "source": [
    "# (H) 환율변동의 위험을 막기 위한 Hedge 상품\n",
    "df['환헤지H'] = df['종목명'].str.endswith('H)')\n",
    "df[['종목명', '환헤지H']].head()"
   ]
  },
  {
   "cell_type": "code",
   "execution_count": 19,
   "id": "c78750bd",
   "metadata": {
    "ExecuteTime": {
     "end_time": "2021-09-06T12:22:18.971239Z",
     "start_time": "2021-09-06T12:22:18.956292Z"
    }
   },
   "outputs": [
    {
     "name": "stdout",
     "output_type": "stream",
     "text": [
      "<class 'pandas.core.frame.DataFrame'>\n",
      "RangeIndex: 502 entries, 0 to 501\n",
      "Data columns (total 17 columns):\n",
      " #   Column      Non-Null Count  Dtype  \n",
      "---  ------      --------------  -----  \n",
      " 0   종목코드        502 non-null    object \n",
      " 1   탭코드         502 non-null    int64  \n",
      " 2   종목명         502 non-null    object \n",
      " 3   현재가         502 non-null    int64  \n",
      " 4   등락구분        502 non-null    int64  \n",
      " 5   전일비         502 non-null    int64  \n",
      " 6   등락률         502 non-null    float64\n",
      " 7   순자산가치(NAV)  358 non-null    float64\n",
      " 8   3개월수익률      476 non-null    float64\n",
      " 9   거래량         502 non-null    int64  \n",
      " 10  거래대금(백만)    502 non-null    int64  \n",
      " 11  시가총액(억)     502 non-null    int64  \n",
      " 12  유형          502 non-null    object \n",
      " 13  브랜드         502 non-null    object \n",
      " 14  인버스         502 non-null    bool   \n",
      " 15  레버리지        502 non-null    bool   \n",
      " 16  환헤지H        502 non-null    bool   \n",
      "dtypes: bool(3), float64(3), int64(7), object(4)\n",
      "memory usage: 56.5+ KB\n"
     ]
    }
   ],
   "source": [
    "df.info()"
   ]
  },
  {
   "cell_type": "code",
   "execution_count": 20,
   "id": "af882276",
   "metadata": {
    "ExecuteTime": {
     "end_time": "2021-09-06T12:22:18.987249Z",
     "start_time": "2021-09-06T12:22:18.972234Z"
    }
   },
   "outputs": [
    {
     "data": {
      "text/plain": [
       "'eft_2021-09-04.csv'"
      ]
     },
     "execution_count": 20,
     "metadata": {},
     "output_type": "execute_result"
    }
   ],
   "source": [
    "save_file_name = file_name.replace('_raw', '')\n",
    "save_file_name"
   ]
  },
  {
   "cell_type": "code",
   "execution_count": 21,
   "id": "e5615588",
   "metadata": {
    "ExecuteTime": {
     "end_time": "2021-09-06T12:22:19.003208Z",
     "start_time": "2021-09-06T12:22:18.988246Z"
    }
   },
   "outputs": [],
   "source": [
    "df.to_csv(save_file_name, index=False)"
   ]
  },
  {
   "cell_type": "code",
   "execution_count": 22,
   "id": "93d69994",
   "metadata": {
    "ExecuteTime": {
     "end_time": "2021-09-06T12:22:19.035166Z",
     "start_time": "2021-09-06T12:22:19.004206Z"
    }
   },
   "outputs": [
    {
     "data": {
      "text/html": [
       "<div>\n",
       "<style scoped>\n",
       "    .dataframe tbody tr th:only-of-type {\n",
       "        vertical-align: middle;\n",
       "    }\n",
       "\n",
       "    .dataframe tbody tr th {\n",
       "        vertical-align: top;\n",
       "    }\n",
       "\n",
       "    .dataframe thead th {\n",
       "        text-align: right;\n",
       "    }\n",
       "</style>\n",
       "<table border=\"1\" class=\"dataframe\">\n",
       "  <thead>\n",
       "    <tr style=\"text-align: right;\">\n",
       "      <th></th>\n",
       "      <th>종목코드</th>\n",
       "      <th>탭코드</th>\n",
       "      <th>종목명</th>\n",
       "      <th>현재가</th>\n",
       "      <th>등락구분</th>\n",
       "      <th>전일비</th>\n",
       "      <th>등락률</th>\n",
       "      <th>순자산가치(NAV)</th>\n",
       "      <th>3개월수익률</th>\n",
       "      <th>거래량</th>\n",
       "      <th>거래대금(백만)</th>\n",
       "      <th>시가총액(억)</th>\n",
       "      <th>유형</th>\n",
       "      <th>브랜드</th>\n",
       "      <th>인버스</th>\n",
       "      <th>레버리지</th>\n",
       "      <th>환헤지H</th>\n",
       "    </tr>\n",
       "  </thead>\n",
       "  <tbody>\n",
       "    <tr>\n",
       "      <th>0</th>\n",
       "      <td>069500</td>\n",
       "      <td>1</td>\n",
       "      <td>KODEX 200</td>\n",
       "      <td>41930</td>\n",
       "      <td>2</td>\n",
       "      <td>270</td>\n",
       "      <td>0.65</td>\n",
       "      <td>41979.0</td>\n",
       "      <td>-3.1976</td>\n",
       "      <td>2807005</td>\n",
       "      <td>117551</td>\n",
       "      <td>54593</td>\n",
       "      <td>국내 시장지수</td>\n",
       "      <td>KODEX</td>\n",
       "      <td>False</td>\n",
       "      <td>False</td>\n",
       "      <td>False</td>\n",
       "    </tr>\n",
       "    <tr>\n",
       "      <th>1</th>\n",
       "      <td>102110</td>\n",
       "      <td>1</td>\n",
       "      <td>TIGER 200</td>\n",
       "      <td>41960</td>\n",
       "      <td>2</td>\n",
       "      <td>270</td>\n",
       "      <td>0.65</td>\n",
       "      <td>42009.0</td>\n",
       "      <td>-3.1484</td>\n",
       "      <td>992124</td>\n",
       "      <td>41597</td>\n",
       "      <td>23225</td>\n",
       "      <td>국내 시장지수</td>\n",
       "      <td>TIGER</td>\n",
       "      <td>False</td>\n",
       "      <td>False</td>\n",
       "      <td>False</td>\n",
       "    </tr>\n",
       "    <tr>\n",
       "      <th>2</th>\n",
       "      <td>153130</td>\n",
       "      <td>6</td>\n",
       "      <td>KODEX 단기채권</td>\n",
       "      <td>102885</td>\n",
       "      <td>2</td>\n",
       "      <td>10</td>\n",
       "      <td>0.01</td>\n",
       "      <td>102883.0</td>\n",
       "      <td>0.0291</td>\n",
       "      <td>7598</td>\n",
       "      <td>781</td>\n",
       "      <td>20968</td>\n",
       "      <td>채권</td>\n",
       "      <td>KODEX</td>\n",
       "      <td>False</td>\n",
       "      <td>False</td>\n",
       "      <td>False</td>\n",
       "    </tr>\n",
       "    <tr>\n",
       "      <th>3</th>\n",
       "      <td>252670</td>\n",
       "      <td>3</td>\n",
       "      <td>KODEX 200선물인버스2X</td>\n",
       "      <td>2000</td>\n",
       "      <td>5</td>\n",
       "      <td>-25</td>\n",
       "      <td>-1.23</td>\n",
       "      <td>2004.0</td>\n",
       "      <td>5.2631</td>\n",
       "      <td>113442718</td>\n",
       "      <td>227795</td>\n",
       "      <td>20042</td>\n",
       "      <td>국내 파생</td>\n",
       "      <td>KODEX</td>\n",
       "      <td>True</td>\n",
       "      <td>False</td>\n",
       "      <td>False</td>\n",
       "    </tr>\n",
       "    <tr>\n",
       "      <th>4</th>\n",
       "      <td>371460</td>\n",
       "      <td>4</td>\n",
       "      <td>TIGER 차이나전기차SOLACTIVE</td>\n",
       "      <td>16480</td>\n",
       "      <td>5</td>\n",
       "      <td>-670</td>\n",
       "      <td>-3.91</td>\n",
       "      <td>NaN</td>\n",
       "      <td>26.3319</td>\n",
       "      <td>12395343</td>\n",
       "      <td>207101</td>\n",
       "      <td>18702</td>\n",
       "      <td>해외 주식</td>\n",
       "      <td>TIGER</td>\n",
       "      <td>False</td>\n",
       "      <td>False</td>\n",
       "      <td>False</td>\n",
       "    </tr>\n",
       "    <tr>\n",
       "      <th>...</th>\n",
       "      <td>...</td>\n",
       "      <td>...</td>\n",
       "      <td>...</td>\n",
       "      <td>...</td>\n",
       "      <td>...</td>\n",
       "      <td>...</td>\n",
       "      <td>...</td>\n",
       "      <td>...</td>\n",
       "      <td>...</td>\n",
       "      <td>...</td>\n",
       "      <td>...</td>\n",
       "      <td>...</td>\n",
       "      <td>...</td>\n",
       "      <td>...</td>\n",
       "      <td>...</td>\n",
       "      <td>...</td>\n",
       "      <td>...</td>\n",
       "    </tr>\n",
       "    <tr>\n",
       "      <th>497</th>\n",
       "      <td>295000</td>\n",
       "      <td>6</td>\n",
       "      <td>KBSTAR 국채선물10년</td>\n",
       "      <td>56120</td>\n",
       "      <td>5</td>\n",
       "      <td>-20</td>\n",
       "      <td>-0.04</td>\n",
       "      <td>56093.0</td>\n",
       "      <td>2.4648</td>\n",
       "      <td>371</td>\n",
       "      <td>20</td>\n",
       "      <td>26</td>\n",
       "      <td>채권</td>\n",
       "      <td>KBSTAR</td>\n",
       "      <td>False</td>\n",
       "      <td>False</td>\n",
       "      <td>False</td>\n",
       "    </tr>\n",
       "    <tr>\n",
       "      <th>498</th>\n",
       "      <td>287330</td>\n",
       "      <td>2</td>\n",
       "      <td>KBSTAR 200생활소비재</td>\n",
       "      <td>8710</td>\n",
       "      <td>5</td>\n",
       "      <td>-15</td>\n",
       "      <td>-0.17</td>\n",
       "      <td>8700.0</td>\n",
       "      <td>-7.2418</td>\n",
       "      <td>288</td>\n",
       "      <td>2</td>\n",
       "      <td>21</td>\n",
       "      <td>국내 업종/테마</td>\n",
       "      <td>KBSTAR</td>\n",
       "      <td>False</td>\n",
       "      <td>False</td>\n",
       "      <td>False</td>\n",
       "    </tr>\n",
       "    <tr>\n",
       "      <th>499</th>\n",
       "      <td>334700</td>\n",
       "      <td>5</td>\n",
       "      <td>KBSTAR 팔라듐선물인버스(H)</td>\n",
       "      <td>4810</td>\n",
       "      <td>2</td>\n",
       "      <td>35</td>\n",
       "      <td>0.73</td>\n",
       "      <td>NaN</td>\n",
       "      <td>12.2520</td>\n",
       "      <td>115</td>\n",
       "      <td>0</td>\n",
       "      <td>19</td>\n",
       "      <td>원자재</td>\n",
       "      <td>KBSTAR</td>\n",
       "      <td>True</td>\n",
       "      <td>False</td>\n",
       "      <td>True</td>\n",
       "    </tr>\n",
       "    <tr>\n",
       "      <th>500</th>\n",
       "      <td>287310</td>\n",
       "      <td>2</td>\n",
       "      <td>KBSTAR 200경기소비재</td>\n",
       "      <td>11650</td>\n",
       "      <td>2</td>\n",
       "      <td>120</td>\n",
       "      <td>1.04</td>\n",
       "      <td>11648.0</td>\n",
       "      <td>-5.8206</td>\n",
       "      <td>656</td>\n",
       "      <td>7</td>\n",
       "      <td>16</td>\n",
       "      <td>국내 업종/테마</td>\n",
       "      <td>KBSTAR</td>\n",
       "      <td>False</td>\n",
       "      <td>False</td>\n",
       "      <td>False</td>\n",
       "    </tr>\n",
       "    <tr>\n",
       "      <th>501</th>\n",
       "      <td>287320</td>\n",
       "      <td>2</td>\n",
       "      <td>KBSTAR 200산업재</td>\n",
       "      <td>13015</td>\n",
       "      <td>5</td>\n",
       "      <td>-65</td>\n",
       "      <td>-0.50</td>\n",
       "      <td>13005.0</td>\n",
       "      <td>-6.0967</td>\n",
       "      <td>166</td>\n",
       "      <td>2</td>\n",
       "      <td>16</td>\n",
       "      <td>국내 업종/테마</td>\n",
       "      <td>KBSTAR</td>\n",
       "      <td>False</td>\n",
       "      <td>False</td>\n",
       "      <td>False</td>\n",
       "    </tr>\n",
       "  </tbody>\n",
       "</table>\n",
       "<p>502 rows × 17 columns</p>\n",
       "</div>"
      ],
      "text/plain": [
       "       종목코드  탭코드                    종목명     현재가  등락구분  전일비   등락률  순자산가치(NAV)  \\\n",
       "0    069500    1              KODEX 200   41930     2  270  0.65     41979.0   \n",
       "1    102110    1              TIGER 200   41960     2  270  0.65     42009.0   \n",
       "2    153130    6             KODEX 단기채권  102885     2   10  0.01    102883.0   \n",
       "3    252670    3       KODEX 200선물인버스2X    2000     5  -25 -1.23      2004.0   \n",
       "4    371460    4  TIGER 차이나전기차SOLACTIVE   16480     5 -670 -3.91         NaN   \n",
       "..      ...  ...                    ...     ...   ...  ...   ...         ...   \n",
       "497  295000    6         KBSTAR 국채선물10년   56120     5  -20 -0.04     56093.0   \n",
       "498  287330    2        KBSTAR 200생활소비재    8710     5  -15 -0.17      8700.0   \n",
       "499  334700    5     KBSTAR 팔라듐선물인버스(H)    4810     2   35  0.73         NaN   \n",
       "500  287310    2        KBSTAR 200경기소비재   11650     2  120  1.04     11648.0   \n",
       "501  287320    2          KBSTAR 200산업재   13015     5  -65 -0.50     13005.0   \n",
       "\n",
       "      3개월수익률        거래량  거래대금(백만)  시가총액(억)        유형     브랜드    인버스   레버리지  \\\n",
       "0    -3.1976    2807005    117551    54593   국내 시장지수   KODEX  False  False   \n",
       "1    -3.1484     992124     41597    23225   국내 시장지수   TIGER  False  False   \n",
       "2     0.0291       7598       781    20968        채권   KODEX  False  False   \n",
       "3     5.2631  113442718    227795    20042     국내 파생   KODEX   True  False   \n",
       "4    26.3319   12395343    207101    18702     해외 주식   TIGER  False  False   \n",
       "..       ...        ...       ...      ...       ...     ...    ...    ...   \n",
       "497   2.4648        371        20       26        채권  KBSTAR  False  False   \n",
       "498  -7.2418        288         2       21  국내 업종/테마  KBSTAR  False  False   \n",
       "499  12.2520        115         0       19       원자재  KBSTAR   True  False   \n",
       "500  -5.8206        656         7       16  국내 업종/테마  KBSTAR  False  False   \n",
       "501  -6.0967        166         2       16  국내 업종/테마  KBSTAR  False  False   \n",
       "\n",
       "      환헤지H  \n",
       "0    False  \n",
       "1    False  \n",
       "2    False  \n",
       "3    False  \n",
       "4    False  \n",
       "..     ...  \n",
       "497  False  \n",
       "498  False  \n",
       "499   True  \n",
       "500  False  \n",
       "501  False  \n",
       "\n",
       "[502 rows x 17 columns]"
      ]
     },
     "execution_count": 22,
     "metadata": {},
     "output_type": "execute_result"
    }
   ],
   "source": [
    "pd.read_csv(save_file_name, dtype={'종목코드':object})"
   ]
  }
 ],
 "metadata": {
  "kernelspec": {
   "display_name": "stock",
   "language": "python",
   "name": "stock"
  },
  "language_info": {
   "codemirror_mode": {
    "name": "ipython",
    "version": 3
   },
   "file_extension": ".py",
   "mimetype": "text/x-python",
   "name": "python",
   "nbconvert_exporter": "python",
   "pygments_lexer": "ipython3",
   "version": "3.9.6"
  },
  "toc": {
   "base_numbering": 1,
   "nav_menu": {},
   "number_sections": true,
   "sideBar": true,
   "skip_h1_title": false,
   "title_cell": "Table of Contents",
   "title_sidebar": "Contents",
   "toc_cell": false,
   "toc_position": {},
   "toc_section_display": true,
   "toc_window_display": false
  }
 },
 "nbformat": 4,
 "nbformat_minor": 5
}
