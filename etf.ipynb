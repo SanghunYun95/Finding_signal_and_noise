{
 "cells": [
  {
   "cell_type": "code",
   "execution_count": 20,
   "id": "eda03623",
   "metadata": {
    "ExecuteTime": {
     "end_time": "2021-09-04T12:17:57.560315Z",
     "start_time": "2021-09-04T12:17:57.543629Z"
    }
   },
   "outputs": [],
   "source": [
    "import pandas as pd\n",
    "import numpy as np\n",
    "import requests\n",
    "import datetime"
   ]
  },
  {
   "cell_type": "code",
   "execution_count": 13,
   "id": "ec23d714",
   "metadata": {
    "ExecuteTime": {
     "end_time": "2021-09-04T12:10:13.587863Z",
     "start_time": "2021-09-04T12:10:13.577101Z"
    }
   },
   "outputs": [
    {
     "data": {
      "text/plain": [
       "'https://finance.naver.com/api/sise/etfItemList.nhn?etfType=0&targetColumn=market_sum&sortOrder=desc&_callback='"
      ]
     },
     "execution_count": 13,
     "metadata": {},
     "output_type": "execute_result"
    }
   ],
   "source": [
    "url = 'https://finance.naver.com/api/sise/etfItemList.nhn?etfType=0&targetColumn=market_sum&sortOrder=desc&_callback='\n",
    "url"
   ]
  },
  {
   "cell_type": "code",
   "execution_count": 15,
   "id": "ea24b1bc",
   "metadata": {
    "ExecuteTime": {
     "end_time": "2021-09-04T12:10:49.842737Z",
     "start_time": "2021-09-04T12:10:49.652906Z"
    }
   },
   "outputs": [],
   "source": [
    "response = requests.get(url)\n",
    "etf_json = response.json()"
   ]
  },
  {
   "cell_type": "code",
   "execution_count": 18,
   "id": "1c3322db",
   "metadata": {
    "ExecuteTime": {
     "end_time": "2021-09-04T12:12:02.827561Z",
     "start_time": "2021-09-04T12:12:02.812528Z"
    }
   },
   "outputs": [],
   "source": [
    "etfItemList = etf_json['result']['etfItemList']\n",
    "df = pd.DataFrame(etfItemList)"
   ]
  },
  {
   "cell_type": "code",
   "execution_count": 19,
   "id": "a68f59e3",
   "metadata": {
    "ExecuteTime": {
     "end_time": "2021-09-04T12:12:07.833078Z",
     "start_time": "2021-09-04T12:12:07.800118Z"
    }
   },
   "outputs": [
    {
     "data": {
      "text/html": [
       "<div>\n",
       "<style scoped>\n",
       "    .dataframe tbody tr th:only-of-type {\n",
       "        vertical-align: middle;\n",
       "    }\n",
       "\n",
       "    .dataframe tbody tr th {\n",
       "        vertical-align: top;\n",
       "    }\n",
       "\n",
       "    .dataframe thead th {\n",
       "        text-align: right;\n",
       "    }\n",
       "</style>\n",
       "<table border=\"1\" class=\"dataframe\">\n",
       "  <thead>\n",
       "    <tr style=\"text-align: right;\">\n",
       "      <th></th>\n",
       "      <th>itemcode</th>\n",
       "      <th>etfTabCode</th>\n",
       "      <th>itemname</th>\n",
       "      <th>nowVal</th>\n",
       "      <th>risefall</th>\n",
       "      <th>changeVal</th>\n",
       "      <th>changeRate</th>\n",
       "      <th>nav</th>\n",
       "      <th>threeMonthEarnRate</th>\n",
       "      <th>quant</th>\n",
       "      <th>amonut</th>\n",
       "      <th>marketSum</th>\n",
       "    </tr>\n",
       "  </thead>\n",
       "  <tbody>\n",
       "    <tr>\n",
       "      <th>0</th>\n",
       "      <td>069500</td>\n",
       "      <td>1</td>\n",
       "      <td>KODEX 200</td>\n",
       "      <td>41930</td>\n",
       "      <td>2</td>\n",
       "      <td>270</td>\n",
       "      <td>0.65</td>\n",
       "      <td>41979.0</td>\n",
       "      <td>-3.1976</td>\n",
       "      <td>2807005</td>\n",
       "      <td>117551</td>\n",
       "      <td>54593</td>\n",
       "    </tr>\n",
       "    <tr>\n",
       "      <th>1</th>\n",
       "      <td>102110</td>\n",
       "      <td>1</td>\n",
       "      <td>TIGER 200</td>\n",
       "      <td>41960</td>\n",
       "      <td>2</td>\n",
       "      <td>270</td>\n",
       "      <td>0.65</td>\n",
       "      <td>42009.0</td>\n",
       "      <td>-3.1484</td>\n",
       "      <td>992124</td>\n",
       "      <td>41597</td>\n",
       "      <td>23225</td>\n",
       "    </tr>\n",
       "    <tr>\n",
       "      <th>2</th>\n",
       "      <td>153130</td>\n",
       "      <td>6</td>\n",
       "      <td>KODEX 단기채권</td>\n",
       "      <td>102885</td>\n",
       "      <td>2</td>\n",
       "      <td>10</td>\n",
       "      <td>0.01</td>\n",
       "      <td>102883.0</td>\n",
       "      <td>0.0291</td>\n",
       "      <td>7598</td>\n",
       "      <td>781</td>\n",
       "      <td>20968</td>\n",
       "    </tr>\n",
       "    <tr>\n",
       "      <th>3</th>\n",
       "      <td>252670</td>\n",
       "      <td>3</td>\n",
       "      <td>KODEX 200선물인버스2X</td>\n",
       "      <td>2000</td>\n",
       "      <td>5</td>\n",
       "      <td>-25</td>\n",
       "      <td>-1.23</td>\n",
       "      <td>2004.0</td>\n",
       "      <td>5.2631</td>\n",
       "      <td>113442718</td>\n",
       "      <td>227795</td>\n",
       "      <td>20042</td>\n",
       "    </tr>\n",
       "    <tr>\n",
       "      <th>4</th>\n",
       "      <td>371460</td>\n",
       "      <td>4</td>\n",
       "      <td>TIGER 차이나전기차SOLACTIVE</td>\n",
       "      <td>16480</td>\n",
       "      <td>5</td>\n",
       "      <td>-670</td>\n",
       "      <td>-3.91</td>\n",
       "      <td>NaN</td>\n",
       "      <td>26.3319</td>\n",
       "      <td>12395343</td>\n",
       "      <td>207101</td>\n",
       "      <td>18702</td>\n",
       "    </tr>\n",
       "  </tbody>\n",
       "</table>\n",
       "</div>"
      ],
      "text/plain": [
       "  itemcode  etfTabCode               itemname  nowVal risefall  changeVal  \\\n",
       "0   069500           1              KODEX 200   41930        2        270   \n",
       "1   102110           1              TIGER 200   41960        2        270   \n",
       "2   153130           6             KODEX 단기채권  102885        2         10   \n",
       "3   252670           3       KODEX 200선물인버스2X    2000        5        -25   \n",
       "4   371460           4  TIGER 차이나전기차SOLACTIVE   16480        5       -670   \n",
       "\n",
       "   changeRate       nav  threeMonthEarnRate      quant  amonut  marketSum  \n",
       "0        0.65   41979.0             -3.1976    2807005  117551      54593  \n",
       "1        0.65   42009.0             -3.1484     992124   41597      23225  \n",
       "2        0.01  102883.0              0.0291       7598     781      20968  \n",
       "3       -1.23    2004.0              5.2631  113442718  227795      20042  \n",
       "4       -3.91       NaN             26.3319   12395343  207101      18702  "
      ]
     },
     "execution_count": 19,
     "metadata": {},
     "output_type": "execute_result"
    }
   ],
   "source": [
    "df.head()"
   ]
  },
  {
   "cell_type": "code",
   "execution_count": 21,
   "id": "c16038dd",
   "metadata": {
    "ExecuteTime": {
     "end_time": "2021-09-04T12:18:36.001520Z",
     "start_time": "2021-09-04T12:18:35.991537Z"
    }
   },
   "outputs": [
    {
     "data": {
      "text/plain": [
       "'2021-09-04'"
      ]
     },
     "execution_count": 21,
     "metadata": {},
     "output_type": "execute_result"
    }
   ],
   "source": [
    "today = datetime.datetime.today()\n",
    "today = today.strftime('%Y-%m-%d')\n",
    "today"
   ]
  },
  {
   "cell_type": "code",
   "execution_count": 23,
   "id": "1ecf163f",
   "metadata": {
    "ExecuteTime": {
     "end_time": "2021-09-04T12:19:15.569328Z",
     "start_time": "2021-09-04T12:19:15.551067Z"
    }
   },
   "outputs": [
    {
     "data": {
      "text/plain": [
       "'eft_2021-09-04_raw.csv'"
      ]
     },
     "execution_count": 23,
     "metadata": {},
     "output_type": "execute_result"
    }
   ],
   "source": [
    "file_name = f'eft_{today}_raw.csv'\n",
    "file_name"
   ]
  },
  {
   "cell_type": "code",
   "execution_count": 24,
   "id": "e7ede775",
   "metadata": {
    "ExecuteTime": {
     "end_time": "2021-09-04T12:19:33.415463Z",
     "start_time": "2021-09-04T12:19:33.398891Z"
    }
   },
   "outputs": [],
   "source": [
    "df.to_csv(file_name, index=False)"
   ]
  },
  {
   "cell_type": "code",
   "execution_count": 26,
   "id": "b5e38f77",
   "metadata": {
    "ExecuteTime": {
     "end_time": "2021-09-04T12:20:21.321266Z",
     "start_time": "2021-09-04T12:20:21.281023Z"
    }
   },
   "outputs": [
    {
     "data": {
      "text/html": [
       "<div>\n",
       "<style scoped>\n",
       "    .dataframe tbody tr th:only-of-type {\n",
       "        vertical-align: middle;\n",
       "    }\n",
       "\n",
       "    .dataframe tbody tr th {\n",
       "        vertical-align: top;\n",
       "    }\n",
       "\n",
       "    .dataframe thead th {\n",
       "        text-align: right;\n",
       "    }\n",
       "</style>\n",
       "<table border=\"1\" class=\"dataframe\">\n",
       "  <thead>\n",
       "    <tr style=\"text-align: right;\">\n",
       "      <th></th>\n",
       "      <th>itemcode</th>\n",
       "      <th>etfTabCode</th>\n",
       "      <th>itemname</th>\n",
       "      <th>nowVal</th>\n",
       "      <th>risefall</th>\n",
       "      <th>changeVal</th>\n",
       "      <th>changeRate</th>\n",
       "      <th>nav</th>\n",
       "      <th>threeMonthEarnRate</th>\n",
       "      <th>quant</th>\n",
       "      <th>amonut</th>\n",
       "      <th>marketSum</th>\n",
       "    </tr>\n",
       "  </thead>\n",
       "  <tbody>\n",
       "    <tr>\n",
       "      <th>0</th>\n",
       "      <td>069500</td>\n",
       "      <td>1</td>\n",
       "      <td>KODEX 200</td>\n",
       "      <td>41930</td>\n",
       "      <td>2</td>\n",
       "      <td>270</td>\n",
       "      <td>0.65</td>\n",
       "      <td>41979.0</td>\n",
       "      <td>-3.1976</td>\n",
       "      <td>2807005</td>\n",
       "      <td>117551</td>\n",
       "      <td>54593</td>\n",
       "    </tr>\n",
       "    <tr>\n",
       "      <th>1</th>\n",
       "      <td>102110</td>\n",
       "      <td>1</td>\n",
       "      <td>TIGER 200</td>\n",
       "      <td>41960</td>\n",
       "      <td>2</td>\n",
       "      <td>270</td>\n",
       "      <td>0.65</td>\n",
       "      <td>42009.0</td>\n",
       "      <td>-3.1484</td>\n",
       "      <td>992124</td>\n",
       "      <td>41597</td>\n",
       "      <td>23225</td>\n",
       "    </tr>\n",
       "    <tr>\n",
       "      <th>2</th>\n",
       "      <td>153130</td>\n",
       "      <td>6</td>\n",
       "      <td>KODEX 단기채권</td>\n",
       "      <td>102885</td>\n",
       "      <td>2</td>\n",
       "      <td>10</td>\n",
       "      <td>0.01</td>\n",
       "      <td>102883.0</td>\n",
       "      <td>0.0291</td>\n",
       "      <td>7598</td>\n",
       "      <td>781</td>\n",
       "      <td>20968</td>\n",
       "    </tr>\n",
       "    <tr>\n",
       "      <th>3</th>\n",
       "      <td>252670</td>\n",
       "      <td>3</td>\n",
       "      <td>KODEX 200선물인버스2X</td>\n",
       "      <td>2000</td>\n",
       "      <td>5</td>\n",
       "      <td>-25</td>\n",
       "      <td>-1.23</td>\n",
       "      <td>2004.0</td>\n",
       "      <td>5.2631</td>\n",
       "      <td>113442718</td>\n",
       "      <td>227795</td>\n",
       "      <td>20042</td>\n",
       "    </tr>\n",
       "    <tr>\n",
       "      <th>4</th>\n",
       "      <td>371460</td>\n",
       "      <td>4</td>\n",
       "      <td>TIGER 차이나전기차SOLACTIVE</td>\n",
       "      <td>16480</td>\n",
       "      <td>5</td>\n",
       "      <td>-670</td>\n",
       "      <td>-3.91</td>\n",
       "      <td>NaN</td>\n",
       "      <td>26.3319</td>\n",
       "      <td>12395343</td>\n",
       "      <td>207101</td>\n",
       "      <td>18702</td>\n",
       "    </tr>\n",
       "    <tr>\n",
       "      <th>...</th>\n",
       "      <td>...</td>\n",
       "      <td>...</td>\n",
       "      <td>...</td>\n",
       "      <td>...</td>\n",
       "      <td>...</td>\n",
       "      <td>...</td>\n",
       "      <td>...</td>\n",
       "      <td>...</td>\n",
       "      <td>...</td>\n",
       "      <td>...</td>\n",
       "      <td>...</td>\n",
       "      <td>...</td>\n",
       "    </tr>\n",
       "    <tr>\n",
       "      <th>497</th>\n",
       "      <td>295000</td>\n",
       "      <td>6</td>\n",
       "      <td>KBSTAR 국채선물10년</td>\n",
       "      <td>56120</td>\n",
       "      <td>5</td>\n",
       "      <td>-20</td>\n",
       "      <td>-0.04</td>\n",
       "      <td>56093.0</td>\n",
       "      <td>2.4648</td>\n",
       "      <td>371</td>\n",
       "      <td>20</td>\n",
       "      <td>26</td>\n",
       "    </tr>\n",
       "    <tr>\n",
       "      <th>498</th>\n",
       "      <td>287330</td>\n",
       "      <td>2</td>\n",
       "      <td>KBSTAR 200생활소비재</td>\n",
       "      <td>8710</td>\n",
       "      <td>5</td>\n",
       "      <td>-15</td>\n",
       "      <td>-0.17</td>\n",
       "      <td>8700.0</td>\n",
       "      <td>-7.2418</td>\n",
       "      <td>288</td>\n",
       "      <td>2</td>\n",
       "      <td>21</td>\n",
       "    </tr>\n",
       "    <tr>\n",
       "      <th>499</th>\n",
       "      <td>334700</td>\n",
       "      <td>5</td>\n",
       "      <td>KBSTAR 팔라듐선물인버스(H)</td>\n",
       "      <td>4810</td>\n",
       "      <td>2</td>\n",
       "      <td>35</td>\n",
       "      <td>0.73</td>\n",
       "      <td>NaN</td>\n",
       "      <td>12.2520</td>\n",
       "      <td>115</td>\n",
       "      <td>0</td>\n",
       "      <td>19</td>\n",
       "    </tr>\n",
       "    <tr>\n",
       "      <th>500</th>\n",
       "      <td>287310</td>\n",
       "      <td>2</td>\n",
       "      <td>KBSTAR 200경기소비재</td>\n",
       "      <td>11650</td>\n",
       "      <td>2</td>\n",
       "      <td>120</td>\n",
       "      <td>1.04</td>\n",
       "      <td>11648.0</td>\n",
       "      <td>-5.8206</td>\n",
       "      <td>656</td>\n",
       "      <td>7</td>\n",
       "      <td>16</td>\n",
       "    </tr>\n",
       "    <tr>\n",
       "      <th>501</th>\n",
       "      <td>287320</td>\n",
       "      <td>2</td>\n",
       "      <td>KBSTAR 200산업재</td>\n",
       "      <td>13015</td>\n",
       "      <td>5</td>\n",
       "      <td>-65</td>\n",
       "      <td>-0.50</td>\n",
       "      <td>13005.0</td>\n",
       "      <td>-6.0967</td>\n",
       "      <td>166</td>\n",
       "      <td>2</td>\n",
       "      <td>16</td>\n",
       "    </tr>\n",
       "  </tbody>\n",
       "</table>\n",
       "<p>502 rows × 12 columns</p>\n",
       "</div>"
      ],
      "text/plain": [
       "    itemcode  etfTabCode               itemname  nowVal  risefall  changeVal  \\\n",
       "0     069500           1              KODEX 200   41930         2        270   \n",
       "1     102110           1              TIGER 200   41960         2        270   \n",
       "2     153130           6             KODEX 단기채권  102885         2         10   \n",
       "3     252670           3       KODEX 200선물인버스2X    2000         5        -25   \n",
       "4     371460           4  TIGER 차이나전기차SOLACTIVE   16480         5       -670   \n",
       "..       ...         ...                    ...     ...       ...        ...   \n",
       "497   295000           6         KBSTAR 국채선물10년   56120         5        -20   \n",
       "498   287330           2        KBSTAR 200생활소비재    8710         5        -15   \n",
       "499   334700           5     KBSTAR 팔라듐선물인버스(H)    4810         2         35   \n",
       "500   287310           2        KBSTAR 200경기소비재   11650         2        120   \n",
       "501   287320           2          KBSTAR 200산업재   13015         5        -65   \n",
       "\n",
       "     changeRate       nav  threeMonthEarnRate      quant  amonut  marketSum  \n",
       "0          0.65   41979.0             -3.1976    2807005  117551      54593  \n",
       "1          0.65   42009.0             -3.1484     992124   41597      23225  \n",
       "2          0.01  102883.0              0.0291       7598     781      20968  \n",
       "3         -1.23    2004.0              5.2631  113442718  227795      20042  \n",
       "4         -3.91       NaN             26.3319   12395343  207101      18702  \n",
       "..          ...       ...                 ...        ...     ...        ...  \n",
       "497       -0.04   56093.0              2.4648        371      20         26  \n",
       "498       -0.17    8700.0             -7.2418        288       2         21  \n",
       "499        0.73       NaN             12.2520        115       0         19  \n",
       "500        1.04   11648.0             -5.8206        656       7         16  \n",
       "501       -0.50   13005.0             -6.0967        166       2         16  \n",
       "\n",
       "[502 rows x 12 columns]"
      ]
     },
     "execution_count": 26,
     "metadata": {},
     "output_type": "execute_result"
    }
   ],
   "source": [
    "pd.read_csv(file_name, dtype={'itemcode': object})"
   ]
  }
 ],
 "metadata": {
  "kernelspec": {
   "display_name": "stock",
   "language": "python",
   "name": "stock"
  },
  "language_info": {
   "codemirror_mode": {
    "name": "ipython",
    "version": 3
   },
   "file_extension": ".py",
   "mimetype": "text/x-python",
   "name": "python",
   "nbconvert_exporter": "python",
   "pygments_lexer": "ipython3",
   "version": "3.9.6"
  },
  "toc": {
   "base_numbering": 1,
   "nav_menu": {},
   "number_sections": true,
   "sideBar": true,
   "skip_h1_title": false,
   "title_cell": "Table of Contents",
   "title_sidebar": "Contents",
   "toc_cell": false,
   "toc_position": {},
   "toc_section_display": true,
   "toc_window_display": false
  }
 },
 "nbformat": 4,
 "nbformat_minor": 5
}
