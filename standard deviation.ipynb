{
 "cells": [
  {
   "cell_type": "code",
   "execution_count": 5,
   "id": "85f551da",
   "metadata": {
    "ExecuteTime": {
     "end_time": "2021-09-22T10:00:00.119833Z",
     "start_time": "2021-09-22T09:59:59.816639Z"
    }
   },
   "outputs": [
    {
     "data": {
      "text/html": [
       "<div>\n",
       "<style scoped>\n",
       "    .dataframe tbody tr th:only-of-type {\n",
       "        vertical-align: middle;\n",
       "    }\n",
       "\n",
       "    .dataframe tbody tr th {\n",
       "        vertical-align: top;\n",
       "    }\n",
       "\n",
       "    .dataframe thead th {\n",
       "        text-align: right;\n",
       "    }\n",
       "</style>\n",
       "<table border=\"1\" class=\"dataframe\">\n",
       "  <thead>\n",
       "    <tr style=\"text-align: right;\">\n",
       "      <th></th>\n",
       "      <th>Open</th>\n",
       "      <th>High</th>\n",
       "      <th>Low</th>\n",
       "      <th>Close</th>\n",
       "      <th>Volume</th>\n",
       "      <th>Change</th>\n",
       "    </tr>\n",
       "    <tr>\n",
       "      <th>Date</th>\n",
       "      <th></th>\n",
       "      <th></th>\n",
       "      <th></th>\n",
       "      <th></th>\n",
       "      <th></th>\n",
       "      <th></th>\n",
       "    </tr>\n",
       "  </thead>\n",
       "  <tbody>\n",
       "    <tr>\n",
       "      <th>2020-12-23</th>\n",
       "      <td>72400</td>\n",
       "      <td>74000</td>\n",
       "      <td>72300</td>\n",
       "      <td>73900</td>\n",
       "      <td>19411326</td>\n",
       "      <td>0.022130</td>\n",
       "    </tr>\n",
       "    <tr>\n",
       "      <th>2020-12-24</th>\n",
       "      <td>74100</td>\n",
       "      <td>78800</td>\n",
       "      <td>74000</td>\n",
       "      <td>77800</td>\n",
       "      <td>32502870</td>\n",
       "      <td>0.052774</td>\n",
       "    </tr>\n",
       "    <tr>\n",
       "      <th>2020-12-28</th>\n",
       "      <td>79000</td>\n",
       "      <td>80100</td>\n",
       "      <td>78200</td>\n",
       "      <td>78700</td>\n",
       "      <td>40085044</td>\n",
       "      <td>0.011568</td>\n",
       "    </tr>\n",
       "    <tr>\n",
       "      <th>2020-12-29</th>\n",
       "      <td>78800</td>\n",
       "      <td>78900</td>\n",
       "      <td>77300</td>\n",
       "      <td>78300</td>\n",
       "      <td>30339449</td>\n",
       "      <td>-0.005083</td>\n",
       "    </tr>\n",
       "    <tr>\n",
       "      <th>2020-12-30</th>\n",
       "      <td>77400</td>\n",
       "      <td>81300</td>\n",
       "      <td>77300</td>\n",
       "      <td>81000</td>\n",
       "      <td>29417421</td>\n",
       "      <td>0.034483</td>\n",
       "    </tr>\n",
       "  </tbody>\n",
       "</table>\n",
       "</div>"
      ],
      "text/plain": [
       "             Open   High    Low  Close    Volume    Change\n",
       "Date                                                      \n",
       "2020-12-23  72400  74000  72300  73900  19411326  0.022130\n",
       "2020-12-24  74100  78800  74000  77800  32502870  0.052774\n",
       "2020-12-28  79000  80100  78200  78700  40085044  0.011568\n",
       "2020-12-29  78800  78900  77300  78300  30339449 -0.005083\n",
       "2020-12-30  77400  81300  77300  81000  29417421  0.034483"
      ]
     },
     "execution_count": 5,
     "metadata": {},
     "output_type": "execute_result"
    }
   ],
   "source": [
    "import numpy as np\n",
    "import FinanceDataReader as fdr\n",
    "df = fdr.DataReader('005930', '2020', '2021')\n",
    "df.tail()"
   ]
  },
  {
   "cell_type": "code",
   "execution_count": 2,
   "id": "7d227c67",
   "metadata": {
    "ExecuteTime": {
     "end_time": "2021-09-22T09:49:11.189380Z",
     "start_time": "2021-09-22T09:49:11.176861Z"
    }
   },
   "outputs": [
    {
     "data": {
      "text/plain": [
       "Date\n",
       "2020-01-02        NaN\n",
       "2020-01-03        NaN\n",
       "2020-01-06        NaN\n",
       "2020-01-07        NaN\n",
       "2020-01-08        NaN\n",
       "               ...   \n",
       "2020-12-23    71655.0\n",
       "2020-12-24    72145.0\n",
       "2020-12-28    72670.0\n",
       "2020-12-29    73250.0\n",
       "2020-12-30    73910.0\n",
       "Name: Close, Length: 248, dtype: float64"
      ]
     },
     "execution_count": 2,
     "metadata": {},
     "output_type": "execute_result"
    }
   ],
   "source": [
    "# 20일간 종가의 이동평균\n",
    "df['MA20'] = df['Close'].rolling(20).mean()"
   ]
  },
  {
   "cell_type": "code",
   "execution_count": 3,
   "id": "cb0cd0b9",
   "metadata": {
    "ExecuteTime": {
     "end_time": "2021-09-22T09:58:20.407760Z",
     "start_time": "2021-09-22T09:58:20.387779Z"
    }
   },
   "outputs": [
    {
     "data": {
      "text/plain": [
       "count      248.000000\n",
       "mean     57153.225806\n",
       "std       7061.870134\n",
       "min      42500.000000\n",
       "25%      52275.000000\n",
       "50%      56800.000000\n",
       "75%      60100.000000\n",
       "max      81000.000000\n",
       "Name: Close, dtype: float64"
      ]
     },
     "execution_count": 3,
     "metadata": {},
     "output_type": "execute_result"
    }
   ],
   "source": [
    "# 기술 통계값\n",
    "df['Close'].describe()"
   ]
  },
  {
   "cell_type": "code",
   "execution_count": 4,
   "id": "46ca8b97",
   "metadata": {
    "ExecuteTime": {
     "end_time": "2021-09-22T09:58:38.775072Z",
     "start_time": "2021-09-22T09:58:38.763104Z"
    }
   },
   "outputs": [
    {
     "data": {
      "text/plain": [
       "49870009.79495885"
      ]
     },
     "execution_count": 4,
     "metadata": {},
     "output_type": "execute_result"
    }
   ],
   "source": [
    "# 분산\n",
    "df['Close'].var()"
   ]
  },
  {
   "cell_type": "code",
   "execution_count": 7,
   "id": "e8c8e25e",
   "metadata": {
    "ExecuteTime": {
     "end_time": "2021-09-22T10:00:30.981604Z",
     "start_time": "2021-09-22T10:00:30.967640Z"
    }
   },
   "outputs": [
    {
     "data": {
      "text/plain": [
       "7061.870134387835"
      ]
     },
     "execution_count": 7,
     "metadata": {},
     "output_type": "execute_result"
    }
   ],
   "source": [
    "# 표준편차 == 분산의 제곱근\n",
    "#df['Close'].var() **0.5\n",
    "#np.sqrt(df['Close'].var())\n",
    "df['Close'].std()"
   ]
  }
 ],
 "metadata": {
  "kernelspec": {
   "display_name": "Python 3",
   "language": "python",
   "name": "python3"
  },
  "language_info": {
   "codemirror_mode": {
    "name": "ipython",
    "version": 3
   },
   "file_extension": ".py",
   "mimetype": "text/x-python",
   "name": "python",
   "nbconvert_exporter": "python",
   "pygments_lexer": "ipython3",
   "version": "3.8.8"
  },
  "toc": {
   "base_numbering": 1,
   "nav_menu": {},
   "number_sections": true,
   "sideBar": true,
   "skip_h1_title": false,
   "title_cell": "Table of Contents",
   "title_sidebar": "Contents",
   "toc_cell": false,
   "toc_position": {},
   "toc_section_display": true,
   "toc_window_display": false
  }
 },
 "nbformat": 4,
 "nbformat_minor": 5
}
