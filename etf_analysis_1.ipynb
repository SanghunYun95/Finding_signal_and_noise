{
 "cells": [
  {
   "cell_type": "code",
   "execution_count": 13,
   "id": "29ab5330",
   "metadata": {
    "ExecuteTime": {
     "end_time": "2021-09-06T12:22:37.342705Z",
     "start_time": "2021-09-06T12:22:37.327710Z"
    }
   },
   "outputs": [],
   "source": [
    "import pandas as pd\n",
    "import numpy as np\n",
    "import seaborn as sns\n",
    "import matplotlib.pyplot as plt"
   ]
  },
  {
   "cell_type": "code",
   "execution_count": 14,
   "id": "af413781",
   "metadata": {
    "ExecuteTime": {
     "end_time": "2021-09-06T12:22:37.358629Z",
     "start_time": "2021-09-06T12:22:37.344666Z"
    }
   },
   "outputs": [],
   "source": [
    "def get_font_family():\n",
    "    \"\"\"\n",
    "    시스템 환경에 따른 기본 폰트명을 반환하는함수\n",
    "    \"\"\"\n",
    "    import platform\n",
    "    system_name = platform.system()\n",
    "    # colab 사용자는 system_name이 ' Linux'로 확인\n",
    "    \n",
    "    if system_name == 'Darwin':\n",
    "        font_family = 'AppleGothic'\n",
    "    elif system_name == 'Windows':\n",
    "        font_family = 'Malgun Gothic'\n",
    "    else:\n",
    "        # Linux\n",
    "        # colab에서는 runtime을 <꼭> 재시작 해야 한다.\n",
    "        # 런타임을 재시작 하지 않고 폰트 설치를 하면 기본 설정 폰트가 로드되어 한글이 깨짐\n",
    "        !apt-get update -qq\n",
    "        !apt-get install fonts-nanum -qq > /dev/null\n",
    "        \n",
    "        import matplotlib.font_manager as fm\n",
    "        \n",
    "        fontpath = '/usr/share/fonts/truetype/nanum/NanumBarunGothic.ttf'\n",
    "        font = fm.FontProperties(fname=fontpath, size=9)\n",
    "        fm._rebuild()\n",
    "        font_family = 'NanumBarunGothic'\n",
    "    return font_family\n",
    "\n",
    "font_family = get_font_family()\n",
    "\n",
    "# 그래프 스타일 설정\n",
    "# 그래프 스타일을 밑에서 설정하면 폰트가 깨진다\n",
    "plt.style.use('dark_background')\n",
    "# 폰트설정\n",
    "plt.rc('font', family=font_family)\n",
    "# 마이너스 폰트 설정\n",
    "plt.rc('axes', unicode_minus=False)"
   ]
  },
  {
   "cell_type": "code",
   "execution_count": 29,
   "id": "f21ff766",
   "metadata": {
    "ExecuteTime": {
     "end_time": "2021-09-06T12:29:34.356880Z",
     "start_time": "2021-09-06T12:29:34.323488Z"
    }
   },
   "outputs": [
    {
     "data": {
      "text/html": [
       "<div>\n",
       "<style scoped>\n",
       "    .dataframe tbody tr th:only-of-type {\n",
       "        vertical-align: middle;\n",
       "    }\n",
       "\n",
       "    .dataframe tbody tr th {\n",
       "        vertical-align: top;\n",
       "    }\n",
       "\n",
       "    .dataframe thead th {\n",
       "        text-align: right;\n",
       "    }\n",
       "</style>\n",
       "<table border=\"1\" class=\"dataframe\">\n",
       "  <thead>\n",
       "    <tr style=\"text-align: right;\">\n",
       "      <th></th>\n",
       "      <th>종목코드</th>\n",
       "      <th>탭코드</th>\n",
       "      <th>종목명</th>\n",
       "      <th>현재가</th>\n",
       "      <th>등락구분</th>\n",
       "      <th>전일비</th>\n",
       "      <th>등락률</th>\n",
       "      <th>순자산가치(NAV)</th>\n",
       "      <th>3개월수익률</th>\n",
       "      <th>거래량</th>\n",
       "      <th>거래대금(백만)</th>\n",
       "      <th>시가총액(억)</th>\n",
       "      <th>유형</th>\n",
       "      <th>브랜드</th>\n",
       "      <th>인버스</th>\n",
       "      <th>레버리지</th>\n",
       "      <th>환헤지H</th>\n",
       "    </tr>\n",
       "  </thead>\n",
       "  <tbody>\n",
       "    <tr>\n",
       "      <th>0</th>\n",
       "      <td>069500</td>\n",
       "      <td>1</td>\n",
       "      <td>KODEX 200</td>\n",
       "      <td>41930</td>\n",
       "      <td>2</td>\n",
       "      <td>270</td>\n",
       "      <td>0.65</td>\n",
       "      <td>41979.0</td>\n",
       "      <td>-3.1976</td>\n",
       "      <td>2807005</td>\n",
       "      <td>117551</td>\n",
       "      <td>54593</td>\n",
       "      <td>국내 시장지수</td>\n",
       "      <td>KODEX</td>\n",
       "      <td>False</td>\n",
       "      <td>False</td>\n",
       "      <td>False</td>\n",
       "    </tr>\n",
       "    <tr>\n",
       "      <th>1</th>\n",
       "      <td>102110</td>\n",
       "      <td>1</td>\n",
       "      <td>TIGER 200</td>\n",
       "      <td>41960</td>\n",
       "      <td>2</td>\n",
       "      <td>270</td>\n",
       "      <td>0.65</td>\n",
       "      <td>42009.0</td>\n",
       "      <td>-3.1484</td>\n",
       "      <td>992124</td>\n",
       "      <td>41597</td>\n",
       "      <td>23225</td>\n",
       "      <td>국내 시장지수</td>\n",
       "      <td>TIGER</td>\n",
       "      <td>False</td>\n",
       "      <td>False</td>\n",
       "      <td>False</td>\n",
       "    </tr>\n",
       "    <tr>\n",
       "      <th>2</th>\n",
       "      <td>153130</td>\n",
       "      <td>6</td>\n",
       "      <td>KODEX 단기채권</td>\n",
       "      <td>102885</td>\n",
       "      <td>2</td>\n",
       "      <td>10</td>\n",
       "      <td>0.01</td>\n",
       "      <td>102883.0</td>\n",
       "      <td>0.0291</td>\n",
       "      <td>7598</td>\n",
       "      <td>781</td>\n",
       "      <td>20968</td>\n",
       "      <td>채권</td>\n",
       "      <td>KODEX</td>\n",
       "      <td>False</td>\n",
       "      <td>False</td>\n",
       "      <td>False</td>\n",
       "    </tr>\n",
       "    <tr>\n",
       "      <th>3</th>\n",
       "      <td>252670</td>\n",
       "      <td>3</td>\n",
       "      <td>KODEX 200선물인버스2X</td>\n",
       "      <td>2000</td>\n",
       "      <td>5</td>\n",
       "      <td>-25</td>\n",
       "      <td>-1.23</td>\n",
       "      <td>2004.0</td>\n",
       "      <td>5.2631</td>\n",
       "      <td>113442718</td>\n",
       "      <td>227795</td>\n",
       "      <td>20042</td>\n",
       "      <td>국내 파생</td>\n",
       "      <td>KODEX</td>\n",
       "      <td>True</td>\n",
       "      <td>False</td>\n",
       "      <td>False</td>\n",
       "    </tr>\n",
       "    <tr>\n",
       "      <th>4</th>\n",
       "      <td>371460</td>\n",
       "      <td>4</td>\n",
       "      <td>TIGER 차이나전기차SOLACTIVE</td>\n",
       "      <td>16480</td>\n",
       "      <td>5</td>\n",
       "      <td>-670</td>\n",
       "      <td>-3.91</td>\n",
       "      <td>NaN</td>\n",
       "      <td>26.3319</td>\n",
       "      <td>12395343</td>\n",
       "      <td>207101</td>\n",
       "      <td>18702</td>\n",
       "      <td>해외 주식</td>\n",
       "      <td>TIGER</td>\n",
       "      <td>False</td>\n",
       "      <td>False</td>\n",
       "      <td>False</td>\n",
       "    </tr>\n",
       "  </tbody>\n",
       "</table>\n",
       "</div>"
      ],
      "text/plain": [
       "     종목코드  탭코드                    종목명     현재가  등락구분  전일비   등락률  순자산가치(NAV)  \\\n",
       "0  069500    1              KODEX 200   41930     2  270  0.65     41979.0   \n",
       "1  102110    1              TIGER 200   41960     2  270  0.65     42009.0   \n",
       "2  153130    6             KODEX 단기채권  102885     2   10  0.01    102883.0   \n",
       "3  252670    3       KODEX 200선물인버스2X    2000     5  -25 -1.23      2004.0   \n",
       "4  371460    4  TIGER 차이나전기차SOLACTIVE   16480     5 -670 -3.91         NaN   \n",
       "\n",
       "    3개월수익률        거래량  거래대금(백만)  시가총액(억)       유형    브랜드    인버스   레버리지   환헤지H  \n",
       "0  -3.1976    2807005    117551    54593  국내 시장지수  KODEX  False  False  False  \n",
       "1  -3.1484     992124     41597    23225  국내 시장지수  TIGER  False  False  False  \n",
       "2   0.0291       7598       781    20968       채권  KODEX  False  False  False  \n",
       "3   5.2631  113442718    227795    20042    국내 파생  KODEX   True  False  False  \n",
       "4  26.3319   12395343    207101    18702    해외 주식  TIGER  False  False  False  "
      ]
     },
     "execution_count": 29,
     "metadata": {},
     "output_type": "execute_result"
    }
   ],
   "source": [
    "df = pd.read_csv('eft_2021-09-04.csv', dtype={'종목코드': object})\n",
    "df.head()"
   ]
  },
  {
   "cell_type": "code",
   "execution_count": 30,
   "id": "9aed5d0f",
   "metadata": {
    "ExecuteTime": {
     "end_time": "2021-09-06T12:29:36.657753Z",
     "start_time": "2021-09-06T12:29:36.632820Z"
    }
   },
   "outputs": [
    {
     "name": "stdout",
     "output_type": "stream",
     "text": [
      "<class 'pandas.core.frame.DataFrame'>\n",
      "RangeIndex: 502 entries, 0 to 501\n",
      "Data columns (total 17 columns):\n",
      " #   Column      Non-Null Count  Dtype  \n",
      "---  ------      --------------  -----  \n",
      " 0   종목코드        502 non-null    object \n",
      " 1   탭코드         502 non-null    int64  \n",
      " 2   종목명         502 non-null    object \n",
      " 3   현재가         502 non-null    int64  \n",
      " 4   등락구분        502 non-null    int64  \n",
      " 5   전일비         502 non-null    int64  \n",
      " 6   등락률         502 non-null    float64\n",
      " 7   순자산가치(NAV)  358 non-null    float64\n",
      " 8   3개월수익률      476 non-null    float64\n",
      " 9   거래량         502 non-null    int64  \n",
      " 10  거래대금(백만)    502 non-null    int64  \n",
      " 11  시가총액(억)     502 non-null    int64  \n",
      " 12  유형          502 non-null    object \n",
      " 13  브랜드         502 non-null    object \n",
      " 14  인버스         502 non-null    bool   \n",
      " 15  레버리지        502 non-null    bool   \n",
      " 16  환헤지H        502 non-null    bool   \n",
      "dtypes: bool(3), float64(3), int64(7), object(4)\n",
      "memory usage: 56.5+ KB\n"
     ]
    }
   ],
   "source": [
    "df.info()"
   ]
  },
  {
   "cell_type": "code",
   "execution_count": 31,
   "id": "7f0d8113",
   "metadata": {
    "ExecuteTime": {
     "end_time": "2021-09-06T12:29:38.866468Z",
     "start_time": "2021-09-06T12:29:38.856533Z"
    }
   },
   "outputs": [
    {
     "data": {
      "text/plain": [
       "종목코드            0\n",
       "탭코드             0\n",
       "종목명             0\n",
       "현재가             0\n",
       "등락구분            0\n",
       "전일비             0\n",
       "등락률             0\n",
       "순자산가치(NAV)    144\n",
       "3개월수익률         26\n",
       "거래량             0\n",
       "거래대금(백만)        0\n",
       "시가총액(억)         0\n",
       "유형              0\n",
       "브랜드             0\n",
       "인버스             0\n",
       "레버리지            0\n",
       "환헤지H            0\n",
       "dtype: int64"
      ]
     },
     "execution_count": 31,
     "metadata": {},
     "output_type": "execute_result"
    }
   ],
   "source": [
    "df.isnull().sum()"
   ]
  },
  {
   "cell_type": "code",
   "execution_count": 32,
   "id": "8009f41a",
   "metadata": {
    "ExecuteTime": {
     "end_time": "2021-09-06T12:29:41.215670Z",
     "start_time": "2021-09-06T12:29:41.200706Z"
    }
   },
   "outputs": [
    {
     "data": {
      "text/plain": [
       "종목코드           0.000000\n",
       "탭코드            0.000000\n",
       "종목명            0.000000\n",
       "현재가            0.000000\n",
       "등락구분           0.000000\n",
       "전일비            0.000000\n",
       "등락률            0.000000\n",
       "순자산가치(NAV)    28.685259\n",
       "3개월수익률         5.179283\n",
       "거래량            0.000000\n",
       "거래대금(백만)       0.000000\n",
       "시가총액(억)        0.000000\n",
       "유형             0.000000\n",
       "브랜드            0.000000\n",
       "인버스            0.000000\n",
       "레버리지           0.000000\n",
       "환헤지H           0.000000\n",
       "dtype: float64"
      ]
     },
     "execution_count": 32,
     "metadata": {},
     "output_type": "execute_result"
    }
   ],
   "source": [
    "# 결측치의 비율\n",
    "df.isnull().mean() * 100"
   ]
  },
  {
   "cell_type": "code",
   "execution_count": 33,
   "id": "b08a7104",
   "metadata": {
    "ExecuteTime": {
     "end_time": "2021-09-06T12:29:43.584318Z",
     "start_time": "2021-09-06T12:29:43.329727Z"
    }
   },
   "outputs": [
    {
     "data": {
      "text/plain": [
       "<AxesSubplot:>"
      ]
     },
     "execution_count": 33,
     "metadata": {},
     "output_type": "execute_result"
    },
    {
     "data": {
      "image/png": "[encoded data removed]",
      "text/plain": [
       "<Figure size 720x288 with 2 Axes>"
      ]
     },
     "metadata": {},
     "output_type": "display_data"
    }
   ],
   "source": [
    "# 결측치 시각화 heatmap\n",
    "plt.figure(figsize=(10,4))\n",
    "sns.heatmap(df.isnull(),cmap='Greys')"
   ]
  },
  {
   "cell_type": "code",
   "execution_count": 34,
   "id": "e0717af2",
   "metadata": {
    "ExecuteTime": {
     "end_time": "2021-09-06T12:29:45.508848Z",
     "start_time": "2021-09-06T12:29:45.480958Z"
    }
   },
   "outputs": [
    {
     "data": {
      "text/html": [
       "<div>\n",
       "<style scoped>\n",
       "    .dataframe tbody tr th:only-of-type {\n",
       "        vertical-align: middle;\n",
       "    }\n",
       "\n",
       "    .dataframe tbody tr th {\n",
       "        vertical-align: top;\n",
       "    }\n",
       "\n",
       "    .dataframe thead th {\n",
       "        text-align: right;\n",
       "    }\n",
       "</style>\n",
       "<table border=\"1\" class=\"dataframe\">\n",
       "  <thead>\n",
       "    <tr style=\"text-align: right;\">\n",
       "      <th></th>\n",
       "      <th>종목코드</th>\n",
       "      <th>종목명</th>\n",
       "      <th>유형</th>\n",
       "      <th>브랜드</th>\n",
       "    </tr>\n",
       "  </thead>\n",
       "  <tbody>\n",
       "    <tr>\n",
       "      <th>count</th>\n",
       "      <td>502</td>\n",
       "      <td>502</td>\n",
       "      <td>502</td>\n",
       "      <td>502</td>\n",
       "    </tr>\n",
       "    <tr>\n",
       "      <th>unique</th>\n",
       "      <td>502</td>\n",
       "      <td>502</td>\n",
       "      <td>7</td>\n",
       "      <td>17</td>\n",
       "    </tr>\n",
       "    <tr>\n",
       "      <th>top</th>\n",
       "      <td>069500</td>\n",
       "      <td>KODEX 200</td>\n",
       "      <td>국내 업종/테마</td>\n",
       "      <td>TIGER</td>\n",
       "    </tr>\n",
       "    <tr>\n",
       "      <th>freq</th>\n",
       "      <td>1</td>\n",
       "      <td>1</td>\n",
       "      <td>188</td>\n",
       "      <td>131</td>\n",
       "    </tr>\n",
       "  </tbody>\n",
       "</table>\n",
       "</div>"
      ],
      "text/plain": [
       "          종목코드        종목명        유형    브랜드\n",
       "count      502        502       502    502\n",
       "unique     502        502         7     17\n",
       "top     069500  KODEX 200  국내 업종/테마  TIGER\n",
       "freq         1          1       188    131"
      ]
     },
     "execution_count": 34,
     "metadata": {},
     "output_type": "execute_result"
    }
   ],
   "source": [
    "df.describe(include=object)"
   ]
  },
  {
   "cell_type": "code",
   "execution_count": 35,
   "id": "c32045a3",
   "metadata": {
    "ExecuteTime": {
     "end_time": "2021-09-06T12:32:29.210919Z",
     "start_time": "2021-09-06T12:32:29.200938Z"
    }
   },
   "outputs": [
    {
     "data": {
      "text/plain": [
       "Index(['국내 업종/테마', '해외 주식', '국내 시장지수', '채권', '국내 파생', '기타', '원자재'], dtype='object')"
      ]
     },
     "execution_count": 35,
     "metadata": {},
     "output_type": "execute_result"
    }
   ],
   "source": [
    "# 갯수가 많은 순으로 정렬된 index를 가져온다\n",
    "df['유형'].value_counts().index"
   ]
  },
  {
   "cell_type": "code",
   "execution_count": 39,
   "id": "422a3ec7",
   "metadata": {
    "ExecuteTime": {
     "end_time": "2021-09-06T12:34:22.815062Z",
     "start_time": "2021-09-06T12:34:22.696499Z"
    }
   },
   "outputs": [
    {
     "data": {
      "text/plain": [
       "<AxesSubplot:xlabel='count', ylabel='유형'>"
      ]
     },
     "execution_count": 39,
     "metadata": {},
     "output_type": "execute_result"
    },
    {
     "data": {
      "image/png": "[encoded data removed]",
      "text/plain": [
       "<Figure size 432x288 with 1 Axes>"
      ]
     },
     "metadata": {},
     "output_type": "display_data"
    }
   ],
   "source": [
    "# count 값으로 정렬하기\n",
    "sns.countplot(data=df, y='유형', order=df['유형'].value_counts().index)"
   ]
  },
  {
   "cell_type": "code",
   "execution_count": 40,
   "id": "54d01075",
   "metadata": {
    "ExecuteTime": {
     "end_time": "2021-09-06T12:39:59.942825Z",
     "start_time": "2021-09-06T12:39:59.839100Z"
    }
   },
   "outputs": [
    {
     "data": {
      "text/plain": [
       "<AxesSubplot:xlabel='count', ylabel='유형'>"
      ]
     },
     "execution_count": 40,
     "metadata": {},
     "output_type": "execute_result"
    },
    {
     "data": {
      "image/png": "[encoded data removed]",
      "text/plain": [
       "<Figure size 432x288 with 1 Axes>"
      ]
     },
     "metadata": {},
     "output_type": "display_data"
    }
   ],
   "source": [
    "# 가나다 (역)순으로 정렬하기\n",
    "sns.countplot(data=df.sort_values('유형', ascending=False), y='유형')"
   ]
  },
  {
   "cell_type": "code",
   "execution_count": 41,
   "id": "00b3e7db",
   "metadata": {
    "ExecuteTime": {
     "end_time": "2021-09-06T12:41:49.992311Z",
     "start_time": "2021-09-06T12:41:49.976402Z"
    }
   },
   "outputs": [
    {
     "data": {
      "text/plain": [
       "국내 업종/테마    188\n",
       "해외 주식       113\n",
       "국내 시장지수      65\n",
       "채권           60\n",
       "국내 파생        31\n",
       "기타           31\n",
       "원자재          14\n",
       "Name: 유형, dtype: int64"
      ]
     },
     "execution_count": 41,
     "metadata": {},
     "output_type": "execute_result"
    }
   ],
   "source": [
    "df['유형'].value_counts()"
   ]
  },
  {
   "cell_type": "code",
   "execution_count": 42,
   "id": "afb74123",
   "metadata": {
    "ExecuteTime": {
     "end_time": "2021-09-06T12:42:09.382026Z",
     "start_time": "2021-09-06T12:42:09.367063Z"
    }
   },
   "outputs": [
    {
     "data": {
      "text/plain": [
       "국내 업종/테마    37.450199\n",
       "해외 주식       22.509960\n",
       "국내 시장지수     12.948207\n",
       "채권          11.952191\n",
       "국내 파생        6.175299\n",
       "기타           6.175299\n",
       "원자재          2.788845\n",
       "Name: 유형, dtype: float64"
      ]
     },
     "execution_count": 42,
     "metadata": {},
     "output_type": "execute_result"
    }
   ],
   "source": [
    "df['유형'].value_counts(normalize=True) * 100"
   ]
  },
  {
   "cell_type": "code",
   "execution_count": 43,
   "id": "bf3af6d4",
   "metadata": {
    "ExecuteTime": {
     "end_time": "2021-09-06T12:52:52.351101Z",
     "start_time": "2021-09-06T12:52:52.188101Z"
    }
   },
   "outputs": [
    {
     "data": {
      "text/plain": [
       "<AxesSubplot:xlabel='count', ylabel='유형'>"
      ]
     },
     "execution_count": 43,
     "metadata": {},
     "output_type": "execute_result"
    },
    {
     "data": {
      "image/png": "[encoded data removed]",
      "text/plain": [
       "<Figure size 432x288 with 1 Axes>"
      ]
     },
     "metadata": {},
     "output_type": "display_data"
    }
   ],
   "source": [
    "sns.countplot(data=df, y='유형', hue='인버스')"
   ]
  },
  {
   "cell_type": "code",
   "execution_count": 44,
   "id": "430479b7",
   "metadata": {
    "ExecuteTime": {
     "end_time": "2021-09-06T12:54:56.312159Z",
     "start_time": "2021-09-06T12:54:56.273261Z"
    }
   },
   "outputs": [
    {
     "data": {
      "text/html": [
       "<div>\n",
       "<style scoped>\n",
       "    .dataframe tbody tr th:only-of-type {\n",
       "        vertical-align: middle;\n",
       "    }\n",
       "\n",
       "    .dataframe tbody tr th {\n",
       "        vertical-align: top;\n",
       "    }\n",
       "\n",
       "    .dataframe thead th {\n",
       "        text-align: right;\n",
       "    }\n",
       "</style>\n",
       "<table border=\"1\" class=\"dataframe\">\n",
       "  <thead>\n",
       "    <tr style=\"text-align: right;\">\n",
       "      <th>유형</th>\n",
       "      <th>국내 시장지수</th>\n",
       "      <th>국내 업종/테마</th>\n",
       "      <th>국내 파생</th>\n",
       "      <th>기타</th>\n",
       "      <th>원자재</th>\n",
       "      <th>채권</th>\n",
       "      <th>해외 주식</th>\n",
       "    </tr>\n",
       "    <tr>\n",
       "      <th>인버스</th>\n",
       "      <th></th>\n",
       "      <th></th>\n",
       "      <th></th>\n",
       "      <th></th>\n",
       "      <th></th>\n",
       "      <th></th>\n",
       "      <th></th>\n",
       "    </tr>\n",
       "  </thead>\n",
       "  <tbody>\n",
       "    <tr>\n",
       "      <th>False</th>\n",
       "      <td>64</td>\n",
       "      <td>188</td>\n",
       "      <td>14</td>\n",
       "      <td>27</td>\n",
       "      <td>12</td>\n",
       "      <td>52</td>\n",
       "      <td>103</td>\n",
       "    </tr>\n",
       "    <tr>\n",
       "      <th>True</th>\n",
       "      <td>1</td>\n",
       "      <td>0</td>\n",
       "      <td>17</td>\n",
       "      <td>4</td>\n",
       "      <td>2</td>\n",
       "      <td>8</td>\n",
       "      <td>10</td>\n",
       "    </tr>\n",
       "  </tbody>\n",
       "</table>\n",
       "</div>"
      ],
      "text/plain": [
       "유형     국내 시장지수  국내 업종/테마  국내 파생  기타  원자재  채권  해외 주식\n",
       "인버스                                                \n",
       "False       64       188     14  27   12  52    103\n",
       "True         1         0     17   4    2   8     10"
      ]
     },
     "execution_count": 44,
     "metadata": {},
     "output_type": "execute_result"
    }
   ],
   "source": [
    "pd.crosstab(df['인버스'], df['유형'])"
   ]
  },
  {
   "cell_type": "code",
   "execution_count": 47,
   "id": "6e280655",
   "metadata": {
    "ExecuteTime": {
     "end_time": "2021-09-06T12:55:48.918925Z",
     "start_time": "2021-09-06T12:55:48.888038Z"
    }
   },
   "outputs": [
    {
     "data": {
      "text/html": [
       "<div>\n",
       "<style scoped>\n",
       "    .dataframe tbody tr th:only-of-type {\n",
       "        vertical-align: middle;\n",
       "    }\n",
       "\n",
       "    .dataframe tbody tr th {\n",
       "        vertical-align: top;\n",
       "    }\n",
       "\n",
       "    .dataframe thead th {\n",
       "        text-align: right;\n",
       "    }\n",
       "</style>\n",
       "<table border=\"1\" class=\"dataframe\">\n",
       "  <thead>\n",
       "    <tr style=\"text-align: right;\">\n",
       "      <th>유형</th>\n",
       "      <th>국내 시장지수</th>\n",
       "      <th>국내 업종/테마</th>\n",
       "      <th>국내 파생</th>\n",
       "      <th>기타</th>\n",
       "      <th>원자재</th>\n",
       "      <th>채권</th>\n",
       "      <th>해외 주식</th>\n",
       "    </tr>\n",
       "    <tr>\n",
       "      <th>인버스</th>\n",
       "      <th></th>\n",
       "      <th></th>\n",
       "      <th></th>\n",
       "      <th></th>\n",
       "      <th></th>\n",
       "      <th></th>\n",
       "      <th></th>\n",
       "    </tr>\n",
       "  </thead>\n",
       "  <tbody>\n",
       "    <tr>\n",
       "      <th>False</th>\n",
       "      <td>12.749004</td>\n",
       "      <td>37.450199</td>\n",
       "      <td>2.788845</td>\n",
       "      <td>5.378486</td>\n",
       "      <td>2.390438</td>\n",
       "      <td>10.358566</td>\n",
       "      <td>20.517928</td>\n",
       "    </tr>\n",
       "    <tr>\n",
       "      <th>True</th>\n",
       "      <td>0.199203</td>\n",
       "      <td>0.000000</td>\n",
       "      <td>3.386454</td>\n",
       "      <td>0.796813</td>\n",
       "      <td>0.398406</td>\n",
       "      <td>1.593625</td>\n",
       "      <td>1.992032</td>\n",
       "    </tr>\n",
       "  </tbody>\n",
       "</table>\n",
       "</div>"
      ],
      "text/plain": [
       "유형       국내 시장지수   국내 업종/테마     국내 파생        기타       원자재         채권  \\\n",
       "인버스                                                                    \n",
       "False  12.749004  37.450199  2.788845  5.378486  2.390438  10.358566   \n",
       "True    0.199203   0.000000  3.386454  0.796813  0.398406   1.593625   \n",
       "\n",
       "유형         해외 주식  \n",
       "인버스               \n",
       "False  20.517928  \n",
       "True    1.992032  "
      ]
     },
     "execution_count": 47,
     "metadata": {},
     "output_type": "execute_result"
    }
   ],
   "source": [
    "pd.crosstab(df['인버스'], df['유형'], normalize=True) * 100"
   ]
  }
 ],
 "metadata": {
  "kernelspec": {
   "display_name": "stock",
   "language": "python",
   "name": "stock"
  },
  "language_info": {
   "codemirror_mode": {
    "name": "ipython",
    "version": 3
   },
   "file_extension": ".py",
   "mimetype": "text/x-python",
   "name": "python",
   "nbconvert_exporter": "python",
   "pygments_lexer": "ipython3",
   "version": "3.9.6"
  },
  "toc": {
   "base_numbering": 1,
   "nav_menu": {},
   "number_sections": true,
   "sideBar": true,
   "skip_h1_title": false,
   "title_cell": "Table of Contents",
   "title_sidebar": "Contents",
   "toc_cell": false,
   "toc_position": {},
   "toc_section_display": true,
   "toc_window_display": false
  }
 },
 "nbformat": 4,
 "nbformat_minor": 5
}
